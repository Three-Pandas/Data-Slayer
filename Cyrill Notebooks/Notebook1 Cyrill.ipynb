{
 "cells": [
  {
   "cell_type": "code",
   "execution_count": 1,
   "id": "0c5c5063-2a54-4611-86a3-b222d56601cc",
   "metadata": {},
   "outputs": [],
   "source": [
    "import pandas as pd\n",
    "import numpy as np\n",
    "import seaborn as sns\n",
    "import matplotlib.pyplot as plt  \n"
   ]
  },
  {
   "cell_type": "code",
   "execution_count": 2,
   "id": "4aaca2ca-4c6e-428f-88cb-f97037479fa9",
   "metadata": {},
   "outputs": [],
   "source": [
    "df = pd.read_csv('train.csv')\n"
   ]
  },
  {
   "cell_type": "code",
   "execution_count": 3,
   "id": "b0815579-c6f1-47d3-a484-1237312f0f31",
   "metadata": {},
   "outputs": [
    {
     "data": {
      "text/html": [
       "<div>\n",
       "<style scoped>\n",
       "    .dataframe tbody tr th:only-of-type {\n",
       "        vertical-align: middle;\n",
       "    }\n",
       "\n",
       "    .dataframe tbody tr th {\n",
       "        vertical-align: top;\n",
       "    }\n",
       "\n",
       "    .dataframe thead th {\n",
       "        text-align: right;\n",
       "    }\n",
       "</style>\n",
       "<table border=\"1\" class=\"dataframe\">\n",
       "  <thead>\n",
       "    <tr style=\"text-align: right;\">\n",
       "      <th></th>\n",
       "      <th>Id</th>\n",
       "      <th>Make</th>\n",
       "      <th>Vehicle Class</th>\n",
       "      <th>Engine Size(L)</th>\n",
       "      <th>Cylinders</th>\n",
       "      <th>Transmission</th>\n",
       "      <th>Fuel Type</th>\n",
       "      <th>Fuel Consumption City</th>\n",
       "      <th>Fuel Consumption Hwy</th>\n",
       "      <th>Fuel Consumption Comb</th>\n",
       "      <th>CO2 Emissions(g/km)</th>\n",
       "    </tr>\n",
       "  </thead>\n",
       "  <tbody>\n",
       "    <tr>\n",
       "      <th>0</th>\n",
       "      <td>1</td>\n",
       "      <td>FOLD</td>\n",
       "      <td>PICKUP TRUCK - STANDARD</td>\n",
       "      <td>3.5</td>\n",
       "      <td>6.0</td>\n",
       "      <td>A6</td>\n",
       "      <td>X</td>\n",
       "      <td>8.64 liters per 100 km</td>\n",
       "      <td>6.14 L/100 km</td>\n",
       "      <td>37.59 mpg Imp.</td>\n",
       "      <td>306.0</td>\n",
       "    </tr>\n",
       "    <tr>\n",
       "      <th>1</th>\n",
       "      <td>2</td>\n",
       "      <td>CHEVO</td>\n",
       "      <td>PICKUP TRUCK - STANDARD</td>\n",
       "      <td>5.3</td>\n",
       "      <td>NaN</td>\n",
       "      <td>A6</td>\n",
       "      <td>E</td>\n",
       "      <td>27.27 liters per 100 km</td>\n",
       "      <td>30.76 liters per 100 km</td>\n",
       "      <td>28.84 L/100 km</td>\n",
       "      <td>283.0</td>\n",
       "    </tr>\n",
       "    <tr>\n",
       "      <th>2</th>\n",
       "      <td>3</td>\n",
       "      <td>BMV</td>\n",
       "      <td>SUBCOMPACT</td>\n",
       "      <td>4.4</td>\n",
       "      <td>NaN</td>\n",
       "      <td>M6</td>\n",
       "      <td>Z</td>\n",
       "      <td>0.17 L/10km</td>\n",
       "      <td>2.03 liters per 100 km</td>\n",
       "      <td>zero</td>\n",
       "      <td>329.0</td>\n",
       "    </tr>\n",
       "    <tr>\n",
       "      <th>3</th>\n",
       "      <td>4</td>\n",
       "      <td>KIO</td>\n",
       "      <td>SUV - SMALL</td>\n",
       "      <td>NaN</td>\n",
       "      <td>4.0</td>\n",
       "      <td>AS6</td>\n",
       "      <td>X</td>\n",
       "      <td>6.52 km per L</td>\n",
       "      <td>1.59 L/10km</td>\n",
       "      <td>NaN</td>\n",
       "      <td>270.0</td>\n",
       "    </tr>\n",
       "    <tr>\n",
       "      <th>4</th>\n",
       "      <td>5</td>\n",
       "      <td>BARUSU</td>\n",
       "      <td>MINICOMPACT</td>\n",
       "      <td>3.0</td>\n",
       "      <td>6.0</td>\n",
       "      <td>unspecified</td>\n",
       "      <td>Z</td>\n",
       "      <td>20.15 L/100km</td>\n",
       "      <td>0.60 L/10km</td>\n",
       "      <td>1.38 L/10km</td>\n",
       "      <td>193.0</td>\n",
       "    </tr>\n",
       "  </tbody>\n",
       "</table>\n",
       "</div>"
      ],
      "text/plain": [
       "   Id    Make            Vehicle Class Engine Size(L) Cylinders Transmission  \\\n",
       "0   1    FOLD  PICKUP TRUCK - STANDARD            3.5       6.0           A6   \n",
       "1   2   CHEVO  PICKUP TRUCK - STANDARD            5.3       NaN           A6   \n",
       "2   3     BMV               SUBCOMPACT            4.4       NaN           M6   \n",
       "3   4     KIO              SUV - SMALL            NaN       4.0          AS6   \n",
       "4   5  BARUSU              MINICOMPACT            3.0       6.0  unspecified   \n",
       "\n",
       "  Fuel Type    Fuel Consumption City     Fuel Consumption Hwy  \\\n",
       "0         X   8.64 liters per 100 km            6.14 L/100 km   \n",
       "1         E  27.27 liters per 100 km  30.76 liters per 100 km   \n",
       "2         Z              0.17 L/10km   2.03 liters per 100 km   \n",
       "3         X            6.52 km per L              1.59 L/10km   \n",
       "4         Z            20.15 L/100km              0.60 L/10km   \n",
       "\n",
       "  Fuel Consumption Comb  CO2 Emissions(g/km)  \n",
       "0        37.59 mpg Imp.                306.0  \n",
       "1        28.84 L/100 km                283.0  \n",
       "2                  zero                329.0  \n",
       "3                   NaN                270.0  \n",
       "4           1.38 L/10km                193.0  "
      ]
     },
     "execution_count": 3,
     "metadata": {},
     "output_type": "execute_result"
    }
   ],
   "source": [
    "df.head()"
   ]
  },
  {
   "cell_type": "code",
   "execution_count": 4,
   "id": "c7b07343-f944-4869-bb61-d2beb9892be5",
   "metadata": {},
   "outputs": [
    {
     "name": "stdout",
     "output_type": "stream",
     "text": [
      "<class 'pandas.core.frame.DataFrame'>\n",
      "RangeIndex: 137141 entries, 0 to 137140\n",
      "Data columns (total 11 columns):\n",
      " #   Column                 Non-Null Count   Dtype  \n",
      "---  ------                 --------------   -----  \n",
      " 0   Id                     137141 non-null  int64  \n",
      " 1   Make                   137141 non-null  object \n",
      " 2   Vehicle Class          135816 non-null  object \n",
      " 3   Engine Size(L)         120522 non-null  object \n",
      " 4   Cylinders              122986 non-null  object \n",
      " 5   Transmission           134536 non-null  object \n",
      " 6   Fuel Type              135286 non-null  object \n",
      " 7   Fuel Consumption City  134719 non-null  object \n",
      " 8   Fuel Consumption Hwy   134573 non-null  object \n",
      " 9   Fuel Consumption Comb  134559 non-null  object \n",
      " 10  CO2 Emissions(g/km)    137141 non-null  float64\n",
      "dtypes: float64(1), int64(1), object(9)\n",
      "memory usage: 11.5+ MB\n"
     ]
    }
   ],
   "source": [
    "df.info()"
   ]
  },
  {
   "cell_type": "code",
   "execution_count": 5,
   "id": "7252760e-753f-4ea5-af4b-06eb60c5df99",
   "metadata": {},
   "outputs": [
    {
     "name": "stdout",
     "output_type": "stream",
     "text": [
      "Id has 137141 unique values\n",
      "Make has 21 unique values\n",
      "Vehicle Class has 24 unique values\n",
      "Engine Size(L) has 50 unique values\n",
      "Cylinders has 15 unique values\n",
      "Transmission has 33 unique values\n",
      "Fuel Type has 13 unique values\n",
      "Fuel Consumption City has 33648 unique values\n",
      "Fuel Consumption Hwy has 34963 unique values\n",
      "Fuel Consumption Comb has 26157 unique values\n",
      "CO2 Emissions(g/km) has 4508 unique values\n"
     ]
    }
   ],
   "source": [
    "for column in df.columns:\n",
    "    print(f\"{column} has {df[column].nunique()} unique values\")"
   ]
  },
  {
   "cell_type": "code",
   "execution_count": 6,
   "id": "6fe5888a-1939-45e6-be2c-952f1cd1fe18",
   "metadata": {},
   "outputs": [
    {
     "data": {
      "text/plain": [
       "Id                           0\n",
       "Make                         0\n",
       "Vehicle Class             1325\n",
       "Engine Size(L)           16619\n",
       "Cylinders                14155\n",
       "Transmission              2605\n",
       "Fuel Type                 1855\n",
       "Fuel Consumption City     2422\n",
       "Fuel Consumption Hwy      2568\n",
       "Fuel Consumption Comb     2582\n",
       "CO2 Emissions(g/km)          0\n",
       "dtype: int64"
      ]
     },
     "execution_count": 6,
     "metadata": {},
     "output_type": "execute_result"
    }
   ],
   "source": [
    "df.isnull().sum()"
   ]
  },
  {
   "cell_type": "code",
   "execution_count": 7,
   "id": "713c3abd-c3f0-481c-9723-e239ef4e0783",
   "metadata": {},
   "outputs": [],
   "source": [
    "fuelX = pd.DataFrame(df[['Fuel Consumption City', 'Fuel Consumption Hwy', 'Fuel Consumption Comb']])"
   ]
  },
  {
   "cell_type": "code",
   "execution_count": 8,
   "id": "2d9a469e-f62b-46f3-ab09-a0615b509028",
   "metadata": {},
   "outputs": [
    {
     "data": {
      "text/html": [
       "<div>\n",
       "<style scoped>\n",
       "    .dataframe tbody tr th:only-of-type {\n",
       "        vertical-align: middle;\n",
       "    }\n",
       "\n",
       "    .dataframe tbody tr th {\n",
       "        vertical-align: top;\n",
       "    }\n",
       "\n",
       "    .dataframe thead th {\n",
       "        text-align: right;\n",
       "    }\n",
       "</style>\n",
       "<table border=\"1\" class=\"dataframe\">\n",
       "  <thead>\n",
       "    <tr style=\"text-align: right;\">\n",
       "      <th></th>\n",
       "      <th>Fuel Consumption City</th>\n",
       "      <th>Fuel Consumption Hwy</th>\n",
       "      <th>Fuel Consumption Comb</th>\n",
       "    </tr>\n",
       "  </thead>\n",
       "  <tbody>\n",
       "    <tr>\n",
       "      <th>0</th>\n",
       "      <td>8.64 liters per 100 km</td>\n",
       "      <td>6.14 L/100 km</td>\n",
       "      <td>37.59 mpg Imp.</td>\n",
       "    </tr>\n",
       "    <tr>\n",
       "      <th>1</th>\n",
       "      <td>27.27 liters per 100 km</td>\n",
       "      <td>30.76 liters per 100 km</td>\n",
       "      <td>28.84 L/100 km</td>\n",
       "    </tr>\n",
       "    <tr>\n",
       "      <th>2</th>\n",
       "      <td>0.17 L/10km</td>\n",
       "      <td>2.03 liters per 100 km</td>\n",
       "      <td>zero</td>\n",
       "    </tr>\n",
       "    <tr>\n",
       "      <th>3</th>\n",
       "      <td>6.52 km per L</td>\n",
       "      <td>1.59 L/10km</td>\n",
       "      <td>NaN</td>\n",
       "    </tr>\n",
       "    <tr>\n",
       "      <th>4</th>\n",
       "      <td>20.15 L/100km</td>\n",
       "      <td>0.60 L/10km</td>\n",
       "      <td>1.38 L/10km</td>\n",
       "    </tr>\n",
       "    <tr>\n",
       "      <th>5</th>\n",
       "      <td>5.57 MPG (AS)</td>\n",
       "      <td>38.28 mpg Imp.</td>\n",
       "      <td>8.86 MPG (AS)</td>\n",
       "    </tr>\n",
       "    <tr>\n",
       "      <th>6</th>\n",
       "      <td>7.52 L/100km</td>\n",
       "      <td>14.76 mpg Imp.</td>\n",
       "      <td>12.75 L/100 km</td>\n",
       "    </tr>\n",
       "    <tr>\n",
       "      <th>7</th>\n",
       "      <td>28.55 MPG (AS)</td>\n",
       "      <td>2.06 liters per 100 km</td>\n",
       "      <td>18.33 km/L</td>\n",
       "    </tr>\n",
       "    <tr>\n",
       "      <th>8</th>\n",
       "      <td>9.16 mpg Imp.</td>\n",
       "      <td>2.08 L/10km</td>\n",
       "      <td>26.31 L/100km</td>\n",
       "    </tr>\n",
       "    <tr>\n",
       "      <th>9</th>\n",
       "      <td>43.84 km per L</td>\n",
       "      <td>18.13 L/100 km</td>\n",
       "      <td>-9999</td>\n",
       "    </tr>\n",
       "    <tr>\n",
       "      <th>10</th>\n",
       "      <td>27.73 liters per 100 km</td>\n",
       "      <td>2.27 L/100km</td>\n",
       "      <td>zero</td>\n",
       "    </tr>\n",
       "    <tr>\n",
       "      <th>11</th>\n",
       "      <td>19.01 liters per 100 km</td>\n",
       "      <td>33.07 mpg Imp.</td>\n",
       "      <td>6.99 km per L</td>\n",
       "    </tr>\n",
       "    <tr>\n",
       "      <th>12</th>\n",
       "      <td>0.22 L/10km</td>\n",
       "      <td>5.30 L/100 km</td>\n",
       "      <td>27.94 km per L</td>\n",
       "    </tr>\n",
       "    <tr>\n",
       "      <th>13</th>\n",
       "      <td>9.06 L/100km</td>\n",
       "      <td>12.21 liters per 100 km</td>\n",
       "      <td>9.54 km/L</td>\n",
       "    </tr>\n",
       "    <tr>\n",
       "      <th>14</th>\n",
       "      <td>23.39 liters per 100 km</td>\n",
       "      <td>17.53 mpg Imp.</td>\n",
       "      <td>4.97 km/L</td>\n",
       "    </tr>\n",
       "    <tr>\n",
       "      <th>15</th>\n",
       "      <td>25.96 liters per 100 km</td>\n",
       "      <td>10.04 km per L</td>\n",
       "      <td>15.06 mpg Imp.</td>\n",
       "    </tr>\n",
       "    <tr>\n",
       "      <th>16</th>\n",
       "      <td>35.25 mpg Imp.</td>\n",
       "      <td>22.09 L/100km</td>\n",
       "      <td>14.35 liters per 100 km</td>\n",
       "    </tr>\n",
       "    <tr>\n",
       "      <th>17</th>\n",
       "      <td>5.02 liters per 100 km</td>\n",
       "      <td>7.02 liters per 100 km</td>\n",
       "      <td>5.92 liters per 100 km</td>\n",
       "    </tr>\n",
       "    <tr>\n",
       "      <th>18</th>\n",
       "      <td>6.46 km per L</td>\n",
       "      <td>19.24 km per L</td>\n",
       "      <td>10.86 liters per 100 km</td>\n",
       "    </tr>\n",
       "    <tr>\n",
       "      <th>19</th>\n",
       "      <td>15.13 L/100km</td>\n",
       "      <td>42.07 L/100 km</td>\n",
       "      <td>8.63 MPG (AS)</td>\n",
       "    </tr>\n",
       "    <tr>\n",
       "      <th>20</th>\n",
       "      <td>7.09 liters per 100 km</td>\n",
       "      <td>not-available</td>\n",
       "      <td>51.12 mpg Imp.</td>\n",
       "    </tr>\n",
       "    <tr>\n",
       "      <th>21</th>\n",
       "      <td>9.21 km per L</td>\n",
       "      <td>31.23 mpg Imp.</td>\n",
       "      <td>1.00 L/10km</td>\n",
       "    </tr>\n",
       "    <tr>\n",
       "      <th>22</th>\n",
       "      <td>8.61 km per L</td>\n",
       "      <td>11.58 km/L</td>\n",
       "      <td>10.27 liters per 100 km</td>\n",
       "    </tr>\n",
       "    <tr>\n",
       "      <th>23</th>\n",
       "      <td>31.25 L/100km</td>\n",
       "      <td>11.48 km/L</td>\n",
       "      <td>0</td>\n",
       "    </tr>\n",
       "    <tr>\n",
       "      <th>24</th>\n",
       "      <td>0.44 liters per 100 km</td>\n",
       "      <td>21.89 L/100 km</td>\n",
       "      <td>1.01 L/10km</td>\n",
       "    </tr>\n",
       "    <tr>\n",
       "      <th>25</th>\n",
       "      <td>4.49 L/100km</td>\n",
       "      <td>3.37 liters per 100 km</td>\n",
       "      <td>3.99 L/100 km</td>\n",
       "    </tr>\n",
       "    <tr>\n",
       "      <th>26</th>\n",
       "      <td>0.53 L/10km</td>\n",
       "      <td>3.58 liters per 100 km</td>\n",
       "      <td>22.11 km per L</td>\n",
       "    </tr>\n",
       "    <tr>\n",
       "      <th>27</th>\n",
       "      <td>9.96 mpg Imp.</td>\n",
       "      <td>12.33 L/100 km</td>\n",
       "      <td>21.15 liters per 100 km</td>\n",
       "    </tr>\n",
       "    <tr>\n",
       "      <th>28</th>\n",
       "      <td>32.72 MPG (AS)</td>\n",
       "      <td>31.16 liters per 100 km</td>\n",
       "      <td>5.56 km/L</td>\n",
       "    </tr>\n",
       "    <tr>\n",
       "      <th>29</th>\n",
       "      <td>17.78 L/100km</td>\n",
       "      <td>10.72 km per L</td>\n",
       "      <td>1.40 L/10km</td>\n",
       "    </tr>\n",
       "  </tbody>\n",
       "</table>\n",
       "</div>"
      ],
      "text/plain": [
       "      Fuel Consumption City     Fuel Consumption Hwy    Fuel Consumption Comb\n",
       "0    8.64 liters per 100 km            6.14 L/100 km           37.59 mpg Imp.\n",
       "1   27.27 liters per 100 km  30.76 liters per 100 km           28.84 L/100 km\n",
       "2               0.17 L/10km   2.03 liters per 100 km                     zero\n",
       "3             6.52 km per L              1.59 L/10km                      NaN\n",
       "4             20.15 L/100km              0.60 L/10km              1.38 L/10km\n",
       "5             5.57 MPG (AS)           38.28 mpg Imp.            8.86 MPG (AS)\n",
       "6              7.52 L/100km           14.76 mpg Imp.           12.75 L/100 km\n",
       "7            28.55 MPG (AS)   2.06 liters per 100 km               18.33 km/L\n",
       "8             9.16 mpg Imp.              2.08 L/10km            26.31 L/100km\n",
       "9            43.84 km per L           18.13 L/100 km                    -9999\n",
       "10  27.73 liters per 100 km             2.27 L/100km                     zero\n",
       "11  19.01 liters per 100 km           33.07 mpg Imp.            6.99 km per L\n",
       "12              0.22 L/10km            5.30 L/100 km           27.94 km per L\n",
       "13             9.06 L/100km  12.21 liters per 100 km                9.54 km/L\n",
       "14  23.39 liters per 100 km           17.53 mpg Imp.                4.97 km/L\n",
       "15  25.96 liters per 100 km           10.04 km per L           15.06 mpg Imp.\n",
       "16           35.25 mpg Imp.            22.09 L/100km  14.35 liters per 100 km\n",
       "17   5.02 liters per 100 km   7.02 liters per 100 km   5.92 liters per 100 km\n",
       "18            6.46 km per L           19.24 km per L  10.86 liters per 100 km\n",
       "19            15.13 L/100km           42.07 L/100 km            8.63 MPG (AS)\n",
       "20   7.09 liters per 100 km            not-available           51.12 mpg Imp.\n",
       "21            9.21 km per L           31.23 mpg Imp.              1.00 L/10km\n",
       "22            8.61 km per L               11.58 km/L  10.27 liters per 100 km\n",
       "23            31.25 L/100km               11.48 km/L                        0\n",
       "24   0.44 liters per 100 km           21.89 L/100 km              1.01 L/10km\n",
       "25             4.49 L/100km   3.37 liters per 100 km            3.99 L/100 km\n",
       "26              0.53 L/10km   3.58 liters per 100 km           22.11 km per L\n",
       "27            9.96 mpg Imp.           12.33 L/100 km  21.15 liters per 100 km\n",
       "28           32.72 MPG (AS)  31.16 liters per 100 km                5.56 km/L\n",
       "29            17.78 L/100km           10.72 km per L              1.40 L/10km"
      ]
     },
     "execution_count": 8,
     "metadata": {},
     "output_type": "execute_result"
    }
   ],
   "source": [
    "fuelX.head(30)"
   ]
  },
  {
   "cell_type": "markdown",
   "id": "279341cf-ed7b-4537-8a67-a85b9cb7d767",
   "metadata": {},
   "source": [
    "### Take a look of the unique values of each categorical column"
   ]
  },
  {
   "cell_type": "code",
   "execution_count": 9,
   "id": "4948fec6-2115-455f-9d67-0d73476b617c",
   "metadata": {},
   "outputs": [
    {
     "data": {
      "text/plain": [
       "(array(['FOLD', 'CHEVO', 'BMV', 'KIO', 'BARUSU', 'LECUS', 'GONDA',\n",
       "        'LAND CRAWLER', 'FOLKSWA', 'TOYOTI', 'JIPU', 'TOLVO', 'ASURA',\n",
       "        'NIRRAN', 'FIAR', 'DOGE', 'CADILUXE', 'MATSUDA', 'MITSU',\n",
       "        'RYUNDAI', 'LAMBOGI'], dtype=object),\n",
       " FOLD            18081\n",
       " CHEVO           16615\n",
       " BMV             14932\n",
       " TOYOTI           9562\n",
       " NIRRAN           7287\n",
       " JIPU             7242\n",
       " DOGE             6947\n",
       " KIO              6443\n",
       " GONDA            6035\n",
       " RYUNDAI          5925\n",
       " FOLKSWA          5382\n",
       " LECUS            5171\n",
       " MATSUDA          5052\n",
       " CADILUXE         4517\n",
       " BARUSU           3982\n",
       " TOLVO            3595\n",
       " MITSU            2701\n",
       " LAND CRAWLER     2455\n",
       " ASURA            2040\n",
       " FIAR             2012\n",
       " LAMBOGI          1165\n",
       " Name: Make, dtype: int64)"
      ]
     },
     "execution_count": 9,
     "metadata": {},
     "output_type": "execute_result"
    }
   ],
   "source": [
    "df['Make'].unique(), df['Make'].value_counts()"
   ]
  },
  {
   "cell_type": "code",
   "execution_count": 10,
   "id": "03bb0377-6cf2-45c3-83d8-28499b995609",
   "metadata": {},
   "outputs": [
    {
     "data": {
      "text/plain": [
       "(array(['PICKUP TRUCK - STANDARD', 'SUBCOMPACT', 'SUV - SMALL',\n",
       "        'MINICOMPACT', 'COMPACT', 'FULL-SIZE', 'SUV - STANDARD', 'MINIVAN',\n",
       "        'STATION WAGON - SMALL', nan, 'PICKUP TRUCK - SMALL', 'missing',\n",
       "        'TWO-SEATER', 'STATION WAGON - MID-SIZE', 'MID-SIZE',\n",
       "        'SPECIAL PURPOSE VEHICLE', 'VAN - PASSENGER', '-1', 'not-recorded',\n",
       "        'na', 'unspecified', 'unknown', 'unestablished', 'VAN - CARGO',\n",
       "        'not-available'], dtype=object),\n",
       " SUV - SMALL                 27799\n",
       " COMPACT                     21981\n",
       " MID-SIZE                    20703\n",
       " SUV - STANDARD              12250\n",
       " FULL-SIZE                    9998\n",
       " PICKUP TRUCK - STANDARD      9613\n",
       " SUBCOMPACT                   9148\n",
       " STATION WAGON - SMALL        5956\n",
       " TWO-SEATER                   4044\n",
       " PICKUP TRUCK - SMALL         3214\n",
       " MINICOMPACT                  1734\n",
       " MINIVAN                      1676\n",
       " SPECIAL PURPOSE VEHICLE      1450\n",
       " VAN - PASSENGER              1225\n",
       " STATION WAGON - MID-SIZE      863\n",
       " not-recorded                  836\n",
       " missing                       448\n",
       " na                            430\n",
       " not-available                 430\n",
       " unspecified                   426\n",
       " unestablished                 415\n",
       " unknown                       413\n",
       " -1                            409\n",
       " VAN - CARGO                   355\n",
       " Name: Vehicle Class, dtype: int64)"
      ]
     },
     "execution_count": 10,
     "metadata": {},
     "output_type": "execute_result"
    }
   ],
   "source": [
    "df['Vehicle Class'].unique(), df['Vehicle Class'].value_counts()"
   ]
  },
  {
   "cell_type": "code",
   "execution_count": 11,
   "id": "93a392ee-1826-4e5b-aeef-a72e463dde82",
   "metadata": {},
   "outputs": [
    {
     "data": {
      "text/plain": [
       "(array(['3.5', '5.3', '4.4', nan, '3.0', 'unspecified', '1.8', '2.0',\n",
       "        '3.6', '2.5', 'missing', '2.4', '2.3', '1.4', '1.6', '5.0', 'na',\n",
       "        '1.3', '6.2', '4.8', '2.7', '6.0', '3.2', '6.5', '5.7', '3.7',\n",
       "        '1.2', '4.0', '3.3', '1.5', 'not-available', '5.2', 'not-recorded',\n",
       "        '3.8', '2.8', '-1', 'unknown', 'unestablished', '4.6', '6.4',\n",
       "        '4.3', '6.6', '5.4', '1.0', '5.6', '5.8', '8.4', '3.4', '4.2',\n",
       "        '6.8', '2.2'], dtype=object),\n",
       " 2.0              21216\n",
       " 3.5              12375\n",
       " 2.5               9386\n",
       " 3.0               9083\n",
       " 3.6               8802\n",
       " 2.4               7972\n",
       " 1.6               4700\n",
       " 1.8               3982\n",
       " 1.4               3980\n",
       " 1.5               3204\n",
       " 5.0               3152\n",
       " 5.3               3025\n",
       " 4.4               2786\n",
       " 6.2               2502\n",
       " 3.3               2064\n",
       " 2.7               1848\n",
       " not-recorded      1726\n",
       " 3.7               1589\n",
       " 5.7               1589\n",
       " 2.3               1230\n",
       " 4.0               1019\n",
       " 3.2                986\n",
       " 6.4                919\n",
       " missing            898\n",
       " not-available      893\n",
       " unknown            878\n",
       " na                 855\n",
       " unspecified        841\n",
       " -1                 819\n",
       " unestablished      804\n",
       " 4.6                682\n",
       " 4.3                587\n",
       " 3.8                577\n",
       " 5.2                519\n",
       " 1.2                487\n",
       " 5.6                423\n",
       " 6.5                395\n",
       " 6.0                352\n",
       " 2.8                344\n",
       " 1.0                288\n",
       " 1.3                189\n",
       " 5.4                119\n",
       " 3.4                104\n",
       " 4.8                 90\n",
       " 6.6                 74\n",
       " 8.4                 68\n",
       " 4.2                 38\n",
       " 2.2                 26\n",
       " 5.8                 20\n",
       " 6.8                 17\n",
       " Name: Engine Size(L), dtype: int64)"
      ]
     },
     "execution_count": 11,
     "metadata": {},
     "output_type": "execute_result"
    }
   ],
   "source": [
    "df['Engine Size(L)'].unique(), df['Engine Size(L)'].value_counts()"
   ]
  },
  {
   "cell_type": "code",
   "execution_count": 12,
   "id": "a5f781d1-8b41-44a0-b35d-d8475995c7c7",
   "metadata": {},
   "outputs": [
    {
     "data": {
      "text/plain": [
       "(array(['A6', 'M6', 'AS6', 'unspecified', 'not-recorded', 'AV7', 'AS8',\n",
       "        'A9', 'unknown', nan, 'AV', 'AV8', 'M5', 'A8', 'AV6', 'AS10',\n",
       "        'AM7', 'missing', 'A4', 'A5', 'AS7', 'AM6', 'AS5', 'not-available',\n",
       "        'na', 'AS9', '-1', 'AM9', 'AV10', 'unestablished', 'AM8', 'M7',\n",
       "        'A10', 'A7'], dtype=object),\n",
       " AS6              28926\n",
       " AS8              20015\n",
       " M6               17885\n",
       " A6               12327\n",
       " AV                7514\n",
       " A8                6731\n",
       " M5                4810\n",
       " AS10              4363\n",
       " A9                3554\n",
       " AM7               3535\n",
       " AV6               3022\n",
       " AV7               2781\n",
       " AM6               2444\n",
       " A5                2087\n",
       " not-recorded      1697\n",
       " AS9               1668\n",
       " A4                1326\n",
       " na                 964\n",
       " unestablished      874\n",
       " AV8                873\n",
       " not-available      870\n",
       " unspecified        869\n",
       " unknown            864\n",
       " -1                 853\n",
       " missing            844\n",
       " AS7                726\n",
       " AS5                701\n",
       " A10                388\n",
       " AM8                338\n",
       " AV10               295\n",
       " M7                 288\n",
       " AM9                 76\n",
       " A7                  28\n",
       " Name: Transmission, dtype: int64)"
      ]
     },
     "execution_count": 12,
     "metadata": {},
     "output_type": "execute_result"
    }
   ],
   "source": [
    "df['Transmission'].unique(), df['Transmission'].value_counts()"
   ]
  },
  {
   "cell_type": "code",
   "execution_count": 13,
   "id": "73d88b3e-b7e5-49fd-87de-0208f8573acc",
   "metadata": {},
   "outputs": [
    {
     "data": {
      "text/plain": [
       "(array(['X', 'E', 'Z', nan, 'D', '-1', 'missing', 'unspecified',\n",
       "        'not-recorded', 'unknown', 'unestablished', 'na', 'not-available',\n",
       "        'N'], dtype=object),\n",
       " X                83001\n",
       " Z                37304\n",
       " E                 6710\n",
       " D                 2683\n",
       " not-recorded      1217\n",
       " unspecified        686\n",
       " unknown            633\n",
       " missing            632\n",
       " not-available      631\n",
       " unestablished      599\n",
       " na                 588\n",
       " -1                 578\n",
       " N                   24\n",
       " Name: Fuel Type, dtype: int64)"
      ]
     },
     "execution_count": 13,
     "metadata": {},
     "output_type": "execute_result"
    }
   ],
   "source": [
    "df['Fuel Type'].unique(), df['Fuel Type'].value_counts() "
   ]
  },
  {
   "cell_type": "code",
   "execution_count": 14,
   "id": "2510fc16-efa8-4815-8ade-e8b3f449d679",
   "metadata": {},
   "outputs": [
    {
     "data": {
      "text/plain": [
       "(array(['6.0', nan, '4.0', '8.0', 'not-available', 'unestablished', '12.0',\n",
       "        'unspecified', 'not-recorded', '3.0', '-1', 'missing', '5.0',\n",
       "        'unknown', '10.0', 'na'], dtype=object),\n",
       " 4.0              66618\n",
       " 6.0              31312\n",
       " 8.0              16082\n",
       " not-recorded      1451\n",
       " 3.0                880\n",
       " unknown            754\n",
       " -1                 730\n",
       " missing            726\n",
       " unestablished      724\n",
       " unspecified        718\n",
       " na                 674\n",
       " not-available      673\n",
       " 10.0               619\n",
       " 12.0               583\n",
       " 5.0                442\n",
       " Name: Cylinders, dtype: int64)"
      ]
     },
     "execution_count": 14,
     "metadata": {},
     "output_type": "execute_result"
    }
   ],
   "source": [
    "df['Cylinders'].unique(), df['Cylinders'].value_counts()"
   ]
  },
  {
   "cell_type": "markdown",
   "id": "0edb6948-a9f3-42d5-bac1-e52aadeca992",
   "metadata": {
    "tags": []
   },
   "source": [
    "# HANDLES CAT VALUES"
   ]
  },
  {
   "cell_type": "markdown",
   "id": "260a57d6-b271-49e5-b544-2de41f914353",
   "metadata": {},
   "source": [
    "### Create a rule based system to try to predict the missing values for the Categorical Features"
   ]
  },
  {
   "cell_type": "code",
   "execution_count": 15,
   "id": "d0cb5c36-1672-44ff-bdcc-bd47edde6478",
   "metadata": {},
   "outputs": [
    {
     "data": {
      "text/html": [
       "<div>\n",
       "<style scoped>\n",
       "    .dataframe tbody tr th:only-of-type {\n",
       "        vertical-align: middle;\n",
       "    }\n",
       "\n",
       "    .dataframe tbody tr th {\n",
       "        vertical-align: top;\n",
       "    }\n",
       "\n",
       "    .dataframe thead th {\n",
       "        text-align: right;\n",
       "    }\n",
       "</style>\n",
       "<table border=\"1\" class=\"dataframe\">\n",
       "  <thead>\n",
       "    <tr style=\"text-align: right;\">\n",
       "      <th></th>\n",
       "      <th>Make</th>\n",
       "      <th>Vehicle Class</th>\n",
       "      <th>Engine Size(L)</th>\n",
       "      <th>Cylinders</th>\n",
       "      <th>Transmission</th>\n",
       "      <th>Fuel Type</th>\n",
       "    </tr>\n",
       "  </thead>\n",
       "  <tbody>\n",
       "    <tr>\n",
       "      <th>0</th>\n",
       "      <td>FOLD</td>\n",
       "      <td>PICKUP TRUCK - STANDARD</td>\n",
       "      <td>3.5</td>\n",
       "      <td>6.0</td>\n",
       "      <td>A6</td>\n",
       "      <td>X</td>\n",
       "    </tr>\n",
       "    <tr>\n",
       "      <th>1</th>\n",
       "      <td>CHEVO</td>\n",
       "      <td>PICKUP TRUCK - STANDARD</td>\n",
       "      <td>5.3</td>\n",
       "      <td>NaN</td>\n",
       "      <td>A6</td>\n",
       "      <td>E</td>\n",
       "    </tr>\n",
       "    <tr>\n",
       "      <th>2</th>\n",
       "      <td>BMV</td>\n",
       "      <td>SUBCOMPACT</td>\n",
       "      <td>4.4</td>\n",
       "      <td>NaN</td>\n",
       "      <td>M6</td>\n",
       "      <td>Z</td>\n",
       "    </tr>\n",
       "    <tr>\n",
       "      <th>3</th>\n",
       "      <td>KIO</td>\n",
       "      <td>SUV - SMALL</td>\n",
       "      <td>NaN</td>\n",
       "      <td>4.0</td>\n",
       "      <td>AS6</td>\n",
       "      <td>X</td>\n",
       "    </tr>\n",
       "    <tr>\n",
       "      <th>4</th>\n",
       "      <td>BARUSU</td>\n",
       "      <td>MINICOMPACT</td>\n",
       "      <td>3.0</td>\n",
       "      <td>6.0</td>\n",
       "      <td>unspecified</td>\n",
       "      <td>Z</td>\n",
       "    </tr>\n",
       "  </tbody>\n",
       "</table>\n",
       "</div>"
      ],
      "text/plain": [
       "     Make            Vehicle Class Engine Size(L) Cylinders Transmission  \\\n",
       "0    FOLD  PICKUP TRUCK - STANDARD            3.5       6.0           A6   \n",
       "1   CHEVO  PICKUP TRUCK - STANDARD            5.3       NaN           A6   \n",
       "2     BMV               SUBCOMPACT            4.4       NaN           M6   \n",
       "3     KIO              SUV - SMALL            NaN       4.0          AS6   \n",
       "4  BARUSU              MINICOMPACT            3.0       6.0  unspecified   \n",
       "\n",
       "  Fuel Type  \n",
       "0         X  \n",
       "1         E  \n",
       "2         Z  \n",
       "3         X  \n",
       "4         Z  "
      ]
     },
     "execution_count": 15,
     "metadata": {},
     "output_type": "execute_result"
    }
   ],
   "source": [
    "cat_columns =[column for column in df.columns if df[column].nunique() < 100]\n",
    "cat = pd.DataFrame(df[cat_columns])\n",
    "\n",
    "cat.head()"
   ]
  },
  {
   "cell_type": "code",
   "execution_count": 16,
   "id": "b63d0998-e123-42a5-880a-44921217ddb1",
   "metadata": {},
   "outputs": [
    {
     "name": "stdout",
     "output_type": "stream",
     "text": [
      "<class 'pandas.core.frame.DataFrame'>\n",
      "RangeIndex: 137141 entries, 0 to 137140\n",
      "Data columns (total 6 columns):\n",
      " #   Column          Non-Null Count   Dtype \n",
      "---  ------          --------------   ----- \n",
      " 0   Make            137141 non-null  object\n",
      " 1   Vehicle Class   135816 non-null  object\n",
      " 2   Engine Size(L)  120522 non-null  object\n",
      " 3   Cylinders       122986 non-null  object\n",
      " 4   Transmission    134536 non-null  object\n",
      " 5   Fuel Type       135286 non-null  object\n",
      "dtypes: object(6)\n",
      "memory usage: 6.3+ MB\n"
     ]
    }
   ],
   "source": [
    "cat.info()"
   ]
  },
  {
   "cell_type": "code",
   "execution_count": 17,
   "id": "de26a57f-c1a2-4be1-84a7-4b801218179b",
   "metadata": {},
   "outputs": [
    {
     "data": {
      "text/plain": [
       "Index(['Make', 'Vehicle Class', 'Engine Size(L)', 'Cylinders', 'Transmission',\n",
       "       'Fuel Type'],\n",
       "      dtype='object')"
      ]
     },
     "execution_count": 17,
     "metadata": {},
     "output_type": "execute_result"
    }
   ],
   "source": [
    "cat.columns"
   ]
  },
  {
   "cell_type": "code",
   "execution_count": 18,
   "id": "330627e1-4f6f-4d67-b6f1-d01f358b1143",
   "metadata": {},
   "outputs": [],
   "source": [
    "#Create list of unique value of each categories\n",
    "unique_eclass = ['3.5', '5.3', '4.4',  '3.0', '1.8', '2.0',\n",
    "        '3.6', '2.5','2.4', '2.3', '1.4', '1.6', '5.0'\n",
    "        '1.3', '6.2', '4.8', '2.7', '6.0', '3.2', '6.5', '5.7', '3.7',\n",
    "        '1.2', '4.0', '3.3', '1.5', '5.2',\n",
    "        '3.8', '2.8', '4.6', '6.4',\n",
    "        '4.3', '6.6', '5.4', '1.0', '5.6', '5.8', '8.4', '3.4', '4.2',\n",
    "        '6.8', '2.2']\n",
    "\n",
    "unique_cyl = ['6.0', '4.0', '8.0' '12.0','3.0', '5.0', '10.0']\n",
    "\n",
    "unique_vclass = ['PICKUP TRUCK - STANDARD', 'SUBCOMPACT', 'SUV - SMALL',\n",
    "        'MINICOMPACT', 'COMPACT', 'FULL-SIZE', 'SUV - STANDARD', 'MINIVAN',\n",
    "        'STATION WAGON - SMALL', 'PICKUP TRUCK - SMALL',\n",
    "        'TWO-SEATER', 'STATION WAGON - MID-SIZE', 'MID-SIZE',\n",
    "        'SPECIAL PURPOSE VEHICLE', 'VAN - PASSENGER', 'VAN - CARGO']\n",
    "\n",
    "unique_make = ['FOLD', 'CHEVO', 'BMV', 'KIO', 'BARUSU', 'LECUS', 'GONDA',\n",
    "        'LAND CRAWLER', 'FOLKSWA', 'TOYOTI', 'JIPU', 'TOLVO', 'ASURA',\n",
    "        'NIRRAN', 'FIAR', 'DOGE', 'CADILUXE', 'MATSUDA', 'MITSU',\n",
    "        'RYUNDAI', 'LAMBOGI']\n",
    "\n",
    "unique_ftype = ['X', 'E', 'Z', 'D', 'N']\n",
    "\n",
    "unique_trans = ['A6', 'M6', 'AS6', 'AV7', 'AS8',\n",
    "        'A9', 'AV', 'AV8', 'M5', 'A8', 'AV6', 'AS10',\n",
    "        'AM7', 'A4', 'A5', 'AS7', 'AM6', 'AS5', 'AS9', 'AM9', 'AV10', 'AM8', 'M7',\n",
    "        'A10', 'A7']"
   ]
  },
  {
   "cell_type": "code",
   "execution_count": 19,
   "id": "cf388daa-988e-478f-8baa-819b988e3364",
   "metadata": {},
   "outputs": [],
   "source": [
    "def fillna_temp(input, list):\n",
    "    if not input or input not in list:\n",
    "        return 'Null'\n",
    "    else:\n",
    "        return input\n",
    "    \n",
    "cat['Fuel Type'] = cat['Fuel Type'].apply(lambda x : fillna_temp(x, unique_ftype))\n",
    "cat['Engine Size(L)'] = cat['Engine Size(L)'].apply(lambda x : fillna_temp(x, unique_eclass))\n",
    "cat['Transmission'] = cat['Transmission'].apply(lambda x : fillna_temp(x, unique_trans))\n",
    "cat['Vehicle Class'] = cat['Vehicle Class'].apply(lambda x: fillna_temp(x, unique_vclass))\n",
    "cat['Make'] = cat['Make'].apply(lambda x : fillna_temp(x, unique_make))\n",
    "cat['Cylinders'] = cat['Cylinders'].apply(lambda x : fillna_temp(x, unique_cyl))\n",
    "\n"
   ]
  },
  {
   "cell_type": "code",
   "execution_count": 20,
   "id": "dfd4bf67-c018-4012-92e0-391675aaa434",
   "metadata": {},
   "outputs": [
    {
     "name": "stdout",
     "output_type": "stream",
     "text": [
      "['FOLD' 'CHEVO' 'BMV' 'KIO' 'BARUSU' 'LECUS' 'GONDA' 'LAND CRAWLER'\n",
      " 'FOLKSWA' 'TOYOTI' 'JIPU' 'TOLVO' 'ASURA' 'NIRRAN' 'FIAR' 'DOGE'\n",
      " 'CADILUXE' 'MATSUDA' 'MITSU' 'RYUNDAI' 'LAMBOGI']\n",
      "========================\n",
      "['PICKUP TRUCK - STANDARD' 'SUBCOMPACT' 'SUV - SMALL' 'MINICOMPACT'\n",
      " 'COMPACT' 'FULL-SIZE' 'SUV - STANDARD' 'MINIVAN' 'STATION WAGON - SMALL'\n",
      " 'Null' 'PICKUP TRUCK - SMALL' 'TWO-SEATER' 'STATION WAGON - MID-SIZE'\n",
      " 'MID-SIZE' 'SPECIAL PURPOSE VEHICLE' 'VAN - PASSENGER' 'VAN - CARGO']\n",
      "========================\n",
      "['3.5' '5.3' '4.4' 'Null' '3.0' '1.8' '2.0' '3.6' '2.5' '2.4' '2.3' '1.4'\n",
      " '1.6' '6.2' '4.8' '2.7' '6.0' '3.2' '6.5' '5.7' '3.7' '1.2' '4.0' '3.3'\n",
      " '1.5' '5.2' '3.8' '2.8' '4.6' '6.4' '4.3' '6.6' '5.4' '1.0' '5.6' '5.8'\n",
      " '8.4' '3.4' '4.2' '6.8' '2.2']\n",
      "========================\n",
      "['6.0' 'Null' '4.0' '3.0' '5.0' '10.0']\n",
      "========================\n",
      "['A6' 'M6' 'AS6' 'Null' 'AV7' 'AS8' 'A9' 'AV' 'AV8' 'M5' 'A8' 'AV6' 'AS10'\n",
      " 'AM7' 'A4' 'A5' 'AS7' 'AM6' 'AS5' 'AS9' 'AM9' 'AV10' 'AM8' 'M7' 'A10'\n",
      " 'A7']\n",
      "========================\n",
      "['X' 'E' 'Z' 'Null' 'D' 'N']\n",
      "========================\n"
     ]
    }
   ],
   "source": [
    "for col in cat.columns:\n",
    "    print(cat[col].unique())\n",
    "    print('========================')"
   ]
  },
  {
   "cell_type": "code",
   "execution_count": 21,
   "id": "5a7dc2bb-ff7e-4892-b640-21316a278920",
   "metadata": {},
   "outputs": [
    {
     "data": {
      "text/html": [
       "<div>\n",
       "<style scoped>\n",
       "    .dataframe tbody tr th:only-of-type {\n",
       "        vertical-align: middle;\n",
       "    }\n",
       "\n",
       "    .dataframe tbody tr th {\n",
       "        vertical-align: top;\n",
       "    }\n",
       "\n",
       "    .dataframe thead th {\n",
       "        text-align: right;\n",
       "    }\n",
       "</style>\n",
       "<table border=\"1\" class=\"dataframe\">\n",
       "  <thead>\n",
       "    <tr style=\"text-align: right;\">\n",
       "      <th></th>\n",
       "      <th>Make</th>\n",
       "      <th>Vehicle Class</th>\n",
       "      <th>Engine Size(L)</th>\n",
       "      <th>Cylinders</th>\n",
       "      <th>Transmission</th>\n",
       "      <th>Fuel Type</th>\n",
       "    </tr>\n",
       "  </thead>\n",
       "  <tbody>\n",
       "    <tr>\n",
       "      <th>0</th>\n",
       "      <td>FOLD</td>\n",
       "      <td>PICKUP TRUCK - STANDARD</td>\n",
       "      <td>3.5</td>\n",
       "      <td>6.0</td>\n",
       "      <td>A6</td>\n",
       "      <td>X</td>\n",
       "    </tr>\n",
       "    <tr>\n",
       "      <th>1</th>\n",
       "      <td>CHEVO</td>\n",
       "      <td>PICKUP TRUCK - STANDARD</td>\n",
       "      <td>5.3</td>\n",
       "      <td>Null</td>\n",
       "      <td>A6</td>\n",
       "      <td>E</td>\n",
       "    </tr>\n",
       "    <tr>\n",
       "      <th>2</th>\n",
       "      <td>BMV</td>\n",
       "      <td>SUBCOMPACT</td>\n",
       "      <td>4.4</td>\n",
       "      <td>Null</td>\n",
       "      <td>M6</td>\n",
       "      <td>Z</td>\n",
       "    </tr>\n",
       "    <tr>\n",
       "      <th>3</th>\n",
       "      <td>KIO</td>\n",
       "      <td>SUV - SMALL</td>\n",
       "      <td>Null</td>\n",
       "      <td>4.0</td>\n",
       "      <td>AS6</td>\n",
       "      <td>X</td>\n",
       "    </tr>\n",
       "    <tr>\n",
       "      <th>4</th>\n",
       "      <td>BARUSU</td>\n",
       "      <td>MINICOMPACT</td>\n",
       "      <td>3.0</td>\n",
       "      <td>6.0</td>\n",
       "      <td>Null</td>\n",
       "      <td>Z</td>\n",
       "    </tr>\n",
       "  </tbody>\n",
       "</table>\n",
       "</div>"
      ],
      "text/plain": [
       "     Make            Vehicle Class Engine Size(L) Cylinders Transmission  \\\n",
       "0    FOLD  PICKUP TRUCK - STANDARD            3.5       6.0           A6   \n",
       "1   CHEVO  PICKUP TRUCK - STANDARD            5.3      Null           A6   \n",
       "2     BMV               SUBCOMPACT            4.4      Null           M6   \n",
       "3     KIO              SUV - SMALL           Null       4.0          AS6   \n",
       "4  BARUSU              MINICOMPACT            3.0       6.0         Null   \n",
       "\n",
       "  Fuel Type  \n",
       "0         X  \n",
       "1         E  \n",
       "2         Z  \n",
       "3         X  \n",
       "4         Z  "
      ]
     },
     "execution_count": 21,
     "metadata": {},
     "output_type": "execute_result"
    }
   ],
   "source": [
    "cat.head()"
   ]
  },
  {
   "cell_type": "markdown",
   "id": "85387ea2-2b84-4061-904a-a4ecd7a15a5a",
   "metadata": {},
   "source": [
    "## Vehicle Class \n",
    "Basis: assumption that one brand of car tends to create one vehicle type more than the other. Example: Lamborgini creates more two seater than other Vehicle Class (like PICKUP TRUCK, etc). Hence it is reasonable to predict the missing values with the most 'popular' car type produced by its brand"
   ]
  },
  {
   "cell_type": "code",
   "execution_count": 22,
   "id": "d1a3c8d6-9c71-48c6-a063-d3c9cb7a9368",
   "metadata": {},
   "outputs": [
    {
     "data": {
      "text/plain": [
       "Make              0\n",
       "Vehicle Class     0\n",
       "Engine Size(L)    0\n",
       "Cylinders         0\n",
       "Transmission      0\n",
       "Fuel Type         0\n",
       "dtype: int64"
      ]
     },
     "execution_count": 22,
     "metadata": {},
     "output_type": "execute_result"
    }
   ],
   "source": [
    "cat.isnull().sum()"
   ]
  },
  {
   "cell_type": "markdown",
   "id": "c1b62d97-3567-4a79-aa3c-b47f719fc08f",
   "metadata": {},
   "source": [
    "Question: what is the maximum vehicle class category per car manufacturer?"
   ]
  },
  {
   "cell_type": "code",
   "execution_count": 23,
   "id": "d3321d9e-1e9f-4d0c-b6c5-509c0bed235d",
   "metadata": {},
   "outputs": [
    {
     "data": {
      "text/plain": [
       "('CHEVO', 'PICKUP TRUCK - STANDARD')"
      ]
     },
     "execution_count": 23,
     "metadata": {},
     "output_type": "execute_result"
    }
   ],
   "source": [
    "grouped = cat.groupby(['Make', 'Vehicle Class'])['Vehicle Class'].count()\n",
    "max_vc_per_make = grouped.groupby('Make').idxmax()\n",
    "\n",
    "#Test the result\n",
    "max_vc_per_make['CHEVO']\n",
    "\n",
    "    "
   ]
  },
  {
   "cell_type": "code",
   "execution_count": 24,
   "id": "27c53be2-b40a-44a9-a234-0addb53c29f1",
   "metadata": {},
   "outputs": [
    {
     "data": {
      "text/plain": [
       "0"
      ]
     },
     "execution_count": 24,
     "metadata": {},
     "output_type": "execute_result"
    }
   ],
   "source": [
    "#There are these many missing values inside the Vehicle class \n",
    "cat['Vehicle Class'].isnull().sum()\n",
    "    "
   ]
  },
  {
   "cell_type": "code",
   "execution_count": 25,
   "id": "a37fc49e-df41-437c-ac1c-52ddc267a143",
   "metadata": {},
   "outputs": [],
   "source": [
    "def fill_vc(make, vc):\n",
    "    if vc == 'Null':\n",
    "        return max_vc_per_make[make][1]\n",
    "    else:\n",
    "        return vc \n",
    "\n",
    "cat['Vehicle Class'] = cat.apply(lambda x: fill_vc(x['Make'], x['Vehicle Class']), axis=1)\n",
    "\n",
    "    "
   ]
  },
  {
   "cell_type": "code",
   "execution_count": 26,
   "id": "2119d4bb-dfae-4d01-adc9-96a6e845c85d",
   "metadata": {},
   "outputs": [
    {
     "data": {
      "text/plain": [
       "0"
      ]
     },
     "execution_count": 26,
     "metadata": {},
     "output_type": "execute_result"
    }
   ],
   "source": [
    "cat['Vehicle Class'].isnull().sum()"
   ]
  },
  {
   "cell_type": "code",
   "execution_count": 27,
   "id": "a3ed1e10-8b95-4652-a8d5-00daf171036c",
   "metadata": {},
   "outputs": [
    {
     "name": "stdout",
     "output_type": "stream",
     "text": [
      "Index(['Make', 'Vehicle Class', 'Engine Size(L)', 'Cylinders', 'Transmission',\n",
      "       'Fuel Type'],\n",
      "      dtype='object')\n"
     ]
    }
   ],
   "source": [
    "print(cat.columns)"
   ]
  },
  {
   "cell_type": "markdown",
   "id": "a9e81f72-ba0a-4128-b88b-04c2a85b55cb",
   "metadata": {},
   "source": [
    "### Fuel Type \n",
    "I think it is common sense to say that a Vehicle Class with the same brand are more likely to have the same Fuel Type. Grouped the fuel type data based on Make and Vehicle Class, then choose \n",
    "the definite fuel type that is possible between the set"
   ]
  },
  {
   "cell_type": "code",
   "execution_count": 28,
   "id": "0fd7ce00-cd11-44d8-a36f-445449e8cb13",
   "metadata": {},
   "outputs": [
    {
     "data": {
      "text/plain": [
       "0"
      ]
     },
     "execution_count": 28,
     "metadata": {},
     "output_type": "execute_result"
    }
   ],
   "source": [
    "cat['Fuel Type'].isnull().sum()"
   ]
  },
  {
   "cell_type": "code",
   "execution_count": 29,
   "id": "7da8253a-6461-4cfb-9f7b-47a5b6908a66",
   "metadata": {},
   "outputs": [],
   "source": [
    "grouped = cat.groupby(['Make', 'Vehicle Class', 'Fuel Type'])['Fuel Type'].count()\n",
    "\n",
    "grouped_fuel_type = grouped.groupby(['Make', 'Vehicle Class']).idxmax()\n",
    "\n",
    "def fill_ft(make, vc, ft):\n",
    "    fuel_types_per_mvc = grouped_fuel_type[make][vc][2]\n",
    "    if ft == 'Null':\n",
    "        return fuel_types_per_mvc\n",
    "    else:\n",
    "        return ft\n",
    "    \n",
    "cat['Fuel Type'] = cat.apply(lambda x: fill_ft(x['Make'], x['Vehicle Class'], x['Fuel Type']), axis=1)\n"
   ]
  },
  {
   "cell_type": "code",
   "execution_count": 30,
   "id": "a3dc4b94-f6c1-4ffc-9085-2ab35871044f",
   "metadata": {},
   "outputs": [
    {
     "data": {
      "text/plain": [
       "0"
      ]
     },
     "execution_count": 30,
     "metadata": {},
     "output_type": "execute_result"
    }
   ],
   "source": [
    "cat['Fuel Type'].isnull().sum()"
   ]
  },
  {
   "cell_type": "code",
   "execution_count": 31,
   "id": "4d6e5a15-40c0-49e6-a006-36a6fa394abf",
   "metadata": {},
   "outputs": [
    {
     "name": "stdout",
     "output_type": "stream",
     "text": [
      "Index(['Make', 'Vehicle Class', 'Engine Size(L)', 'Cylinders', 'Transmission',\n",
      "       'Fuel Type'],\n",
      "      dtype='object')\n"
     ]
    }
   ],
   "source": [
    "print(cat.columns)"
   ]
  },
  {
   "cell_type": "markdown",
   "id": "6e4e7643-8728-4b59-8171-92cd9bbe0226",
   "metadata": {},
   "source": [
    "### Engine Size and Cylinders\n",
    "The underlying basis of the rule based is that engine size and cylinder have a strong correlation, hence we can fill the missing values of one value with respect to the other"
   ]
  },
  {
   "cell_type": "code",
   "execution_count": 32,
   "id": "f1cfb846-1dba-4cb3-bea5-9c91b3358a37",
   "metadata": {},
   "outputs": [],
   "source": [
    "grouped = pd.DataFrame(cat[['Engine Size(L)', 'Cylinders', 'Transmission']])\n"
   ]
  },
  {
   "cell_type": "code",
   "execution_count": 33,
   "id": "1eaea226-ebc3-4216-a965-896f3d4b46ec",
   "metadata": {},
   "outputs": [
    {
     "data": {
      "text/html": [
       "<div>\n",
       "<style scoped>\n",
       "    .dataframe tbody tr th:only-of-type {\n",
       "        vertical-align: middle;\n",
       "    }\n",
       "\n",
       "    .dataframe tbody tr th {\n",
       "        vertical-align: top;\n",
       "    }\n",
       "\n",
       "    .dataframe thead th {\n",
       "        text-align: right;\n",
       "    }\n",
       "</style>\n",
       "<table border=\"1\" class=\"dataframe\">\n",
       "  <thead>\n",
       "    <tr style=\"text-align: right;\">\n",
       "      <th></th>\n",
       "    </tr>\n",
       "  </thead>\n",
       "  <tbody>\n",
       "  </tbody>\n",
       "</table>\n",
       "</div>"
      ],
      "text/plain": [
       "Empty DataFrame\n",
       "Columns: []\n",
       "Index: []"
      ]
     },
     "execution_count": 33,
     "metadata": {},
     "output_type": "execute_result"
    }
   ],
   "source": [
    "def change_to_float(x):\n",
    "    try:\n",
    "        return float(x) \n",
    "    except ValueError:\n",
    "        return 0.0\n",
    "    \n",
    "\n",
    "\n",
    "cat['Engine Size(L)'] = cat['Engine Size(L)'].apply(change_to_float)\n",
    "cat['Cylinders'] = cat['Cylinders'].apply(change_to_float)\n",
    "\n",
    "\n",
    "grouped.corr()"
   ]
  },
  {
   "cell_type": "code",
   "execution_count": 34,
   "id": "88d502e9-f1e3-4417-8ac7-396238971a61",
   "metadata": {},
   "outputs": [
    {
     "data": {
      "text/plain": [
       "Engine Size(L)\n",
       "0.0     (0.0, 4.0)\n",
       "1.0     (1.0, 3.0)\n",
       "1.2     (1.2, 3.0)\n",
       "1.4     (1.4, 4.0)\n",
       "1.5     (1.5, 4.0)\n",
       "1.6     (1.6, 4.0)\n",
       "1.8     (1.8, 4.0)\n",
       "2.0     (2.0, 4.0)\n",
       "2.2     (2.2, 4.0)\n",
       "2.3     (2.3, 4.0)\n",
       "2.4     (2.4, 4.0)\n",
       "2.5     (2.5, 4.0)\n",
       "2.7     (2.7, 4.0)\n",
       "2.8     (2.8, 4.0)\n",
       "3.0     (3.0, 6.0)\n",
       "3.2     (3.2, 6.0)\n",
       "3.3     (3.3, 6.0)\n",
       "3.4     (3.4, 6.0)\n",
       "3.5     (3.5, 6.0)\n",
       "3.6     (3.6, 6.0)\n",
       "3.7     (3.7, 6.0)\n",
       "3.8     (3.8, 6.0)\n",
       "4.0     (4.0, 6.0)\n",
       "4.2     (4.2, 0.0)\n",
       "4.3     (4.3, 6.0)\n",
       "4.4     (4.4, 0.0)\n",
       "4.6     (4.6, 0.0)\n",
       "4.8     (4.8, 0.0)\n",
       "5.2    (5.2, 10.0)\n",
       "5.3     (5.3, 0.0)\n",
       "5.4     (5.4, 0.0)\n",
       "5.6     (5.6, 0.0)\n",
       "5.7     (5.7, 0.0)\n",
       "5.8     (5.8, 0.0)\n",
       "6.0     (6.0, 0.0)\n",
       "6.2     (6.2, 0.0)\n",
       "6.4     (6.4, 0.0)\n",
       "6.5     (6.5, 0.0)\n",
       "6.6     (6.6, 0.0)\n",
       "6.8    (6.8, 10.0)\n",
       "8.4    (8.4, 10.0)\n",
       "Name: Cylinders, dtype: object"
      ]
     },
     "execution_count": 34,
     "metadata": {},
     "output_type": "execute_result"
    }
   ],
   "source": [
    "grouped_by_es = cat.groupby(['Engine Size(L)', 'Cylinders'])['Cylinders'].count()\n",
    "max_cyl_per_es = grouped_by_es.groupby('Engine Size(L)').idxmax()\n",
    "\n",
    "max_cyl_per_es"
   ]
  },
  {
   "cell_type": "code",
   "execution_count": 35,
   "id": "ee4338be-5fc9-462d-b47f-4343b6191260",
   "metadata": {},
   "outputs": [
    {
     "data": {
      "text/plain": [
       "Cylinders\n",
       "0.0      (0.0, 0.0)\n",
       "3.0      (3.0, 1.2)\n",
       "4.0      (4.0, 2.0)\n",
       "5.0      (5.0, 2.5)\n",
       "6.0      (6.0, 3.5)\n",
       "10.0    (10.0, 5.2)\n",
       "Name: Engine Size(L), dtype: object"
      ]
     },
     "execution_count": 35,
     "metadata": {},
     "output_type": "execute_result"
    }
   ],
   "source": [
    "grouped = cat.groupby(['Cylinders', 'Engine Size(L)'])['Engine Size(L)'].count()\n",
    "max_es_per_cyl= grouped.groupby('Cylinders').idxmax()\n",
    "\n",
    "max_es_per_cyl"
   ]
  },
  {
   "cell_type": "code",
   "execution_count": 36,
   "id": "60bbf3da-fa0a-4683-9835-a9fa8bfffbd6",
   "metadata": {},
   "outputs": [
    {
     "data": {
      "text/plain": [
       "(Engine Size(L)    0\n",
       " Cylinders         0\n",
       " dtype: int64,\n",
       " array([3.5, 5.3, 4.4, 0. , 3. , 1.8, 2. , 3.6, 2.5, 2.4, 2.3, 1.4, 1.6,\n",
       "        6.2, 4.8, 2.7, 6. , 3.2, 6.5, 5.7, 3.7, 1.2, 4. , 3.3, 1.5, 5.2,\n",
       "        3.8, 2.8, 4.6, 6.4, 4.3, 6.6, 5.4, 1. , 5.6, 5.8, 8.4, 3.4, 4.2,\n",
       "        6.8, 2.2]),\n",
       " array([ 6.,  0.,  4.,  3.,  5., 10.]))"
      ]
     },
     "execution_count": 36,
     "metadata": {},
     "output_type": "execute_result"
    }
   ],
   "source": [
    "cat[['Engine Size(L)', 'Cylinders']].isnull().sum(), cat['Engine Size(L)'].unique(), cat['Cylinders'].unique()"
   ]
  },
  {
   "cell_type": "code",
   "execution_count": 37,
   "id": "6bf7639a-457b-4074-8a9d-f39fba55e432",
   "metadata": {},
   "outputs": [],
   "source": [
    "def fill_es(cyl, es):\n",
    "    if pd.isnull(es):\n",
    "        if cyl == 'Null':\n",
    "            return max_es_per_cyl[0.0][1]\n",
    "        return max_es_per_cyl[cyl][1]\n",
    "    else:\n",
    "        return es\n",
    "    \n",
    "def fill_cyl(es, cyl):\n",
    "    if pd.isnull(cyl):\n",
    "        if es == 'Null':\n",
    "            return max_cyl_per_es[0.0][1]\n",
    "        return max_cyl_per_es[es][1]\n",
    "    else:\n",
    "        return cyl\n",
    "\n",
    "    \n",
    "cat['Engine Size(L)'] = cat.apply(lambda x: fill_es(x['Cylinders'], x['Engine Size(L)']), axis=1)\n",
    "cat['Cylinders'] = cat.apply(lambda x: fill_cyl(x['Engine Size(L)'], x['Cylinders']), axis=1)"
   ]
  },
  {
   "cell_type": "code",
   "execution_count": 38,
   "id": "e9a3e4d0-1456-44b2-8a52-b4f383c5d42f",
   "metadata": {},
   "outputs": [
    {
     "data": {
      "text/plain": [
       "Engine Size(L)    0\n",
       "Cylinders         0\n",
       "dtype: int64"
      ]
     },
     "execution_count": 38,
     "metadata": {},
     "output_type": "execute_result"
    }
   ],
   "source": [
    "cat[['Engine Size(L)', 'Cylinders']].isnull().sum()"
   ]
  },
  {
   "cell_type": "markdown",
   "id": "27b7ca80-3fa9-43ca-95e7-d260636cc807",
   "metadata": {
    "tags": []
   },
   "source": [
    "### Transmission\n",
    "Encode every other categorical variable and see what is the variable that have the biggest correlation to Transmission (no high correlation). Just convert to 0 to the NaN values along with the other 'uspecified' and friends entry"
   ]
  },
  {
   "cell_type": "code",
   "execution_count": 39,
   "id": "adc33dc7-cd68-460f-b045-a4fe67ae17d7",
   "metadata": {},
   "outputs": [],
   "source": [
    "grouped = cat.groupby(['Make', 'Vehicle Class', 'Transmission'])['Transmission'].count()\n",
    "\n",
    "grouped_trans = grouped.groupby(['Make', 'Vehicle Class']).idxmax()\n",
    "\n",
    "def fill_trans(make, vc, trans):\n",
    "    trans_per_mvc = grouped_trans[make][vc][2]\n",
    "    if trans == 'Null':\n",
    "        return trans_per_mvc\n",
    "    else:\n",
    "        return trans\n",
    "\n",
    "cat['Transmission'] = cat.apply(lambda x: fill_ft(x['Make'], x['Vehicle Class'], x['Transmission']), axis=1)\n"
   ]
  },
  {
   "cell_type": "code",
   "execution_count": 40,
   "id": "966a6956-caad-4ab2-be76-1cb9b313f788",
   "metadata": {},
   "outputs": [
    {
     "name": "stdout",
     "output_type": "stream",
     "text": [
      "<class 'pandas.core.frame.DataFrame'>\n",
      "RangeIndex: 137141 entries, 0 to 137140\n",
      "Data columns (total 6 columns):\n",
      " #   Column          Non-Null Count   Dtype  \n",
      "---  ------          --------------   -----  \n",
      " 0   Make            137141 non-null  object \n",
      " 1   Vehicle Class   137141 non-null  object \n",
      " 2   Engine Size(L)  137141 non-null  float64\n",
      " 3   Cylinders       137141 non-null  float64\n",
      " 4   Transmission    137141 non-null  object \n",
      " 5   Fuel Type       137141 non-null  object \n",
      "dtypes: float64(2), object(4)\n",
      "memory usage: 6.3+ MB\n"
     ]
    }
   ],
   "source": [
    "cat.info()"
   ]
  },
  {
   "cell_type": "markdown",
   "id": "d5e9cce6-ffed-46e0-b870-56905df05968",
   "metadata": {},
   "source": [
    "### Encode all the categorical features"
   ]
  },
  {
   "cell_type": "code",
   "execution_count": 41,
   "id": "4e13c7f2-91ce-4fd5-8fb7-d1235da94ae7",
   "metadata": {},
   "outputs": [],
   "source": [
    "def encode_categorical(input, list):\n",
    "    if input in list:\n",
    "        return float(list.index(input))\n",
    "    else:\n",
    "        return -1.0"
   ]
  },
  {
   "cell_type": "code",
   "execution_count": 42,
   "id": "288faef6-e68c-4fea-9ae2-5b5817b19032",
   "metadata": {},
   "outputs": [
    {
     "data": {
      "text/html": [
       "<div>\n",
       "<style scoped>\n",
       "    .dataframe tbody tr th:only-of-type {\n",
       "        vertical-align: middle;\n",
       "    }\n",
       "\n",
       "    .dataframe tbody tr th {\n",
       "        vertical-align: top;\n",
       "    }\n",
       "\n",
       "    .dataframe thead th {\n",
       "        text-align: right;\n",
       "    }\n",
       "</style>\n",
       "<table border=\"1\" class=\"dataframe\">\n",
       "  <thead>\n",
       "    <tr style=\"text-align: right;\">\n",
       "      <th></th>\n",
       "      <th>Make</th>\n",
       "      <th>Vehicle Class</th>\n",
       "      <th>Engine Size(L)</th>\n",
       "      <th>Cylinders</th>\n",
       "      <th>Transmission</th>\n",
       "      <th>Fuel Type</th>\n",
       "    </tr>\n",
       "  </thead>\n",
       "  <tbody>\n",
       "    <tr>\n",
       "      <th>0</th>\n",
       "      <td>0.0</td>\n",
       "      <td>0.0</td>\n",
       "      <td>3.5</td>\n",
       "      <td>6.0</td>\n",
       "      <td>0.0</td>\n",
       "      <td>0.0</td>\n",
       "    </tr>\n",
       "    <tr>\n",
       "      <th>1</th>\n",
       "      <td>1.0</td>\n",
       "      <td>0.0</td>\n",
       "      <td>5.3</td>\n",
       "      <td>0.0</td>\n",
       "      <td>0.0</td>\n",
       "      <td>1.0</td>\n",
       "    </tr>\n",
       "    <tr>\n",
       "      <th>2</th>\n",
       "      <td>2.0</td>\n",
       "      <td>1.0</td>\n",
       "      <td>4.4</td>\n",
       "      <td>0.0</td>\n",
       "      <td>1.0</td>\n",
       "      <td>2.0</td>\n",
       "    </tr>\n",
       "    <tr>\n",
       "      <th>3</th>\n",
       "      <td>3.0</td>\n",
       "      <td>2.0</td>\n",
       "      <td>0.0</td>\n",
       "      <td>4.0</td>\n",
       "      <td>2.0</td>\n",
       "      <td>0.0</td>\n",
       "    </tr>\n",
       "    <tr>\n",
       "      <th>4</th>\n",
       "      <td>4.0</td>\n",
       "      <td>3.0</td>\n",
       "      <td>3.0</td>\n",
       "      <td>6.0</td>\n",
       "      <td>-1.0</td>\n",
       "      <td>2.0</td>\n",
       "    </tr>\n",
       "  </tbody>\n",
       "</table>\n",
       "</div>"
      ],
      "text/plain": [
       "   Make  Vehicle Class  Engine Size(L)  Cylinders  Transmission  Fuel Type\n",
       "0   0.0            0.0             3.5        6.0           0.0        0.0\n",
       "1   1.0            0.0             5.3        0.0           0.0        1.0\n",
       "2   2.0            1.0             4.4        0.0           1.0        2.0\n",
       "3   3.0            2.0             0.0        4.0           2.0        0.0\n",
       "4   4.0            3.0             3.0        6.0          -1.0        2.0"
      ]
     },
     "execution_count": 42,
     "metadata": {},
     "output_type": "execute_result"
    }
   ],
   "source": [
    "cat['Vehicle Class'] = cat['Vehicle Class'].apply(lambda x: encode_categorical(x, unique_vclass))\n",
    "cat['Fuel Type'] = cat['Fuel Type'].apply(lambda x: encode_categorical(x, unique_ftype))\n",
    "cat['Make'] = cat['Make'].apply(lambda x: encode_categorical(x, unique_make))\n",
    "cat['Transmission'] = cat['Transmission'].apply(lambda x: encode_categorical(x, unique_trans))\n",
    "\n",
    "cat.head()"
   ]
  },
  {
   "cell_type": "code",
   "execution_count": 43,
   "id": "7056e5b6-6e7d-478f-8577-26c8f61daabf",
   "metadata": {},
   "outputs": [
    {
     "data": {
      "text/plain": [
       "21"
      ]
     },
     "execution_count": 43,
     "metadata": {},
     "output_type": "execute_result"
    }
   ],
   "source": [
    "cat['Make'].nunique()"
   ]
  },
  {
   "cell_type": "code",
   "execution_count": 44,
   "id": "23d09a9d-68ef-4bbf-bb58-c63d92b1805e",
   "metadata": {},
   "outputs": [
    {
     "data": {
      "text/html": [
       "<div>\n",
       "<style scoped>\n",
       "    .dataframe tbody tr th:only-of-type {\n",
       "        vertical-align: middle;\n",
       "    }\n",
       "\n",
       "    .dataframe tbody tr th {\n",
       "        vertical-align: top;\n",
       "    }\n",
       "\n",
       "    .dataframe thead th {\n",
       "        text-align: right;\n",
       "    }\n",
       "</style>\n",
       "<table border=\"1\" class=\"dataframe\">\n",
       "  <thead>\n",
       "    <tr style=\"text-align: right;\">\n",
       "      <th></th>\n",
       "      <th>Make</th>\n",
       "      <th>Vehicle Class</th>\n",
       "      <th>Engine Size(L)</th>\n",
       "      <th>Cylinders</th>\n",
       "      <th>Transmission</th>\n",
       "      <th>Fuel Type</th>\n",
       "    </tr>\n",
       "  </thead>\n",
       "  <tbody>\n",
       "    <tr>\n",
       "      <th>Make</th>\n",
       "      <td>1.000000</td>\n",
       "      <td>0.165854</td>\n",
       "      <td>0.006487</td>\n",
       "      <td>0.077105</td>\n",
       "      <td>0.130105</td>\n",
       "      <td>-0.111260</td>\n",
       "    </tr>\n",
       "    <tr>\n",
       "      <th>Vehicle Class</th>\n",
       "      <td>0.165854</td>\n",
       "      <td>1.000000</td>\n",
       "      <td>0.035556</td>\n",
       "      <td>0.011610</td>\n",
       "      <td>-0.004177</td>\n",
       "      <td>0.006679</td>\n",
       "    </tr>\n",
       "    <tr>\n",
       "      <th>Engine Size(L)</th>\n",
       "      <td>0.006487</td>\n",
       "      <td>0.035556</td>\n",
       "      <td>1.000000</td>\n",
       "      <td>-0.085597</td>\n",
       "      <td>0.040558</td>\n",
       "      <td>0.090776</td>\n",
       "    </tr>\n",
       "    <tr>\n",
       "      <th>Cylinders</th>\n",
       "      <td>0.077105</td>\n",
       "      <td>0.011610</td>\n",
       "      <td>-0.085597</td>\n",
       "      <td>1.000000</td>\n",
       "      <td>-0.013364</td>\n",
       "      <td>-0.080862</td>\n",
       "    </tr>\n",
       "    <tr>\n",
       "      <th>Transmission</th>\n",
       "      <td>0.130105</td>\n",
       "      <td>-0.004177</td>\n",
       "      <td>0.040558</td>\n",
       "      <td>-0.013364</td>\n",
       "      <td>1.000000</td>\n",
       "      <td>0.093794</td>\n",
       "    </tr>\n",
       "    <tr>\n",
       "      <th>Fuel Type</th>\n",
       "      <td>-0.111260</td>\n",
       "      <td>0.006679</td>\n",
       "      <td>0.090776</td>\n",
       "      <td>-0.080862</td>\n",
       "      <td>0.093794</td>\n",
       "      <td>1.000000</td>\n",
       "    </tr>\n",
       "  </tbody>\n",
       "</table>\n",
       "</div>"
      ],
      "text/plain": [
       "                    Make  Vehicle Class  Engine Size(L)  Cylinders  \\\n",
       "Make            1.000000       0.165854        0.006487   0.077105   \n",
       "Vehicle Class   0.165854       1.000000        0.035556   0.011610   \n",
       "Engine Size(L)  0.006487       0.035556        1.000000  -0.085597   \n",
       "Cylinders       0.077105       0.011610       -0.085597   1.000000   \n",
       "Transmission    0.130105      -0.004177        0.040558  -0.013364   \n",
       "Fuel Type      -0.111260       0.006679        0.090776  -0.080862   \n",
       "\n",
       "                Transmission  Fuel Type  \n",
       "Make                0.130105  -0.111260  \n",
       "Vehicle Class      -0.004177   0.006679  \n",
       "Engine Size(L)      0.040558   0.090776  \n",
       "Cylinders          -0.013364  -0.080862  \n",
       "Transmission        1.000000   0.093794  \n",
       "Fuel Type           0.093794   1.000000  "
      ]
     },
     "execution_count": 44,
     "metadata": {},
     "output_type": "execute_result"
    }
   ],
   "source": [
    "cat.corr()"
   ]
  },
  {
   "cell_type": "code",
   "execution_count": 45,
   "id": "88f0bf46-b9bb-4638-9da7-80500ac65b20",
   "metadata": {},
   "outputs": [
    {
     "data": {
      "text/html": [
       "<div>\n",
       "<style scoped>\n",
       "    .dataframe tbody tr th:only-of-type {\n",
       "        vertical-align: middle;\n",
       "    }\n",
       "\n",
       "    .dataframe tbody tr th {\n",
       "        vertical-align: top;\n",
       "    }\n",
       "\n",
       "    .dataframe thead th {\n",
       "        text-align: right;\n",
       "    }\n",
       "</style>\n",
       "<table border=\"1\" class=\"dataframe\">\n",
       "  <thead>\n",
       "    <tr style=\"text-align: right;\">\n",
       "      <th></th>\n",
       "      <th>Make</th>\n",
       "      <th>Vehicle Class</th>\n",
       "      <th>Engine Size(L)</th>\n",
       "      <th>Cylinders</th>\n",
       "      <th>Transmission</th>\n",
       "      <th>Fuel Type</th>\n",
       "    </tr>\n",
       "  </thead>\n",
       "  <tbody>\n",
       "    <tr>\n",
       "      <th>0</th>\n",
       "      <td>0.0</td>\n",
       "      <td>0.0</td>\n",
       "      <td>3.5</td>\n",
       "      <td>6.0</td>\n",
       "      <td>0.0</td>\n",
       "      <td>0.0</td>\n",
       "    </tr>\n",
       "    <tr>\n",
       "      <th>1</th>\n",
       "      <td>1.0</td>\n",
       "      <td>0.0</td>\n",
       "      <td>5.3</td>\n",
       "      <td>0.0</td>\n",
       "      <td>0.0</td>\n",
       "      <td>1.0</td>\n",
       "    </tr>\n",
       "    <tr>\n",
       "      <th>2</th>\n",
       "      <td>2.0</td>\n",
       "      <td>1.0</td>\n",
       "      <td>4.4</td>\n",
       "      <td>0.0</td>\n",
       "      <td>1.0</td>\n",
       "      <td>2.0</td>\n",
       "    </tr>\n",
       "    <tr>\n",
       "      <th>3</th>\n",
       "      <td>3.0</td>\n",
       "      <td>2.0</td>\n",
       "      <td>0.0</td>\n",
       "      <td>4.0</td>\n",
       "      <td>2.0</td>\n",
       "      <td>0.0</td>\n",
       "    </tr>\n",
       "    <tr>\n",
       "      <th>4</th>\n",
       "      <td>4.0</td>\n",
       "      <td>3.0</td>\n",
       "      <td>3.0</td>\n",
       "      <td>6.0</td>\n",
       "      <td>-1.0</td>\n",
       "      <td>2.0</td>\n",
       "    </tr>\n",
       "  </tbody>\n",
       "</table>\n",
       "</div>"
      ],
      "text/plain": [
       "   Make  Vehicle Class  Engine Size(L)  Cylinders  Transmission  Fuel Type\n",
       "0   0.0            0.0             3.5        6.0           0.0        0.0\n",
       "1   1.0            0.0             5.3        0.0           0.0        1.0\n",
       "2   2.0            1.0             4.4        0.0           1.0        2.0\n",
       "3   3.0            2.0             0.0        4.0           2.0        0.0\n",
       "4   4.0            3.0             3.0        6.0          -1.0        2.0"
      ]
     },
     "execution_count": 45,
     "metadata": {},
     "output_type": "execute_result"
    }
   ],
   "source": [
    "cat.head()"
   ]
  },
  {
   "cell_type": "code",
   "execution_count": 46,
   "id": "4fe302dd-fa26-4ee5-bf3c-ef3b5d753544",
   "metadata": {},
   "outputs": [
    {
     "name": "stdout",
     "output_type": "stream",
     "text": [
      "<class 'pandas.core.frame.DataFrame'>\n",
      "RangeIndex: 137141 entries, 0 to 137140\n",
      "Data columns (total 6 columns):\n",
      " #   Column          Non-Null Count   Dtype  \n",
      "---  ------          --------------   -----  \n",
      " 0   Make            137141 non-null  float64\n",
      " 1   Vehicle Class   137141 non-null  float64\n",
      " 2   Engine Size(L)  137141 non-null  float64\n",
      " 3   Cylinders       137141 non-null  float64\n",
      " 4   Transmission    137141 non-null  float64\n",
      " 5   Fuel Type       137141 non-null  float64\n",
      "dtypes: float64(6)\n",
      "memory usage: 6.3 MB\n"
     ]
    }
   ],
   "source": [
    "cat.info()"
   ]
  }
 ],
 "metadata": {
  "kernelspec": {
   "display_name": "Python 3 (ipykernel)",
   "language": "python",
   "name": "python3"
  },
  "language_info": {
   "codemirror_mode": {
    "name": "ipython",
    "version": 3
   },
   "file_extension": ".py",
   "mimetype": "text/x-python",
   "name": "python",
   "nbconvert_exporter": "python",
   "pygments_lexer": "ipython3",
   "version": "3.9.13"
  }
 },
 "nbformat": 4,
 "nbformat_minor": 5
}
