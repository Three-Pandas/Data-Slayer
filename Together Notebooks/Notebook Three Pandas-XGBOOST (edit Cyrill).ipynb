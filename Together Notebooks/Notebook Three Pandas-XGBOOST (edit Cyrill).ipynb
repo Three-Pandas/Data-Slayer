{
 "cells": [
  {
   "cell_type": "markdown",
   "id": "d3ceae37-76a0-40ad-a5d3-5cb0de74bf44",
   "metadata": {},
   "source": [
    "# The Three Pandas Notebook: Cyrill Adrian Wicaksono, Gregorius Samuel Hutahean, Gusti Faturrahman Rais"
   ]
  },
  {
   "cell_type": "code",
   "execution_count": 1,
   "id": "2484eb4b-32ba-4461-be2a-17c19a8ffbaa",
   "metadata": {},
   "outputs": [],
   "source": [
    "import pandas as pd\n",
    "import numpy as np\n",
    "import seaborn as sns\n",
    "import matplotlib.pyplot as plt  \n"
   ]
  },
  {
   "cell_type": "code",
   "execution_count": 2,
   "id": "c9f483bd-c85e-495e-9fae-75e2359dd3f9",
   "metadata": {},
   "outputs": [],
   "source": [
    "df = pd.read_csv('train.csv')\n"
   ]
  },
  {
   "cell_type": "code",
   "execution_count": 3,
   "id": "47bca0f0-dfaa-4999-9578-818840625108",
   "metadata": {},
   "outputs": [
    {
     "name": "stdout",
     "output_type": "stream",
     "text": [
      "Id has 54937 unique values\n",
      "Make has 21 unique values\n",
      "Vehicle Class has 23 unique values\n",
      "Engine Size(L) has 49 unique values\n",
      "Cylinders has 14 unique values\n",
      "Transmission has 32 unique values\n",
      "Fuel Type has 12 unique values\n",
      "Fuel Consumption City has 1791 unique values\n",
      "Fuel Consumption Hwy has 1234 unique values\n",
      "Fuel Consumption Comb has 9938 unique values\n",
      "CO2 Emissions(g/km) has 414 unique values\n"
     ]
    }
   ],
   "source": [
    "for column in df.columns:\n",
    "    print(f\"{column} has {df[column].nunique()} unique values\")"
   ]
  },
  {
   "cell_type": "code",
   "execution_count": 4,
   "id": "6bb62810-89b9-4056-85b6-df70bb61fdd2",
   "metadata": {},
   "outputs": [
    {
     "data": {
      "text/plain": [
       "Id                          0\n",
       "Make                        0\n",
       "Vehicle Class             539\n",
       "Engine Size(L)           1393\n",
       "Cylinders                1198\n",
       "Transmission              410\n",
       "Fuel Type                 546\n",
       "Fuel Consumption City    1568\n",
       "Fuel Consumption Hwy     1701\n",
       "Fuel Consumption Comb    1674\n",
       "CO2 Emissions(g/km)         0\n",
       "dtype: int64"
      ]
     },
     "execution_count": 4,
     "metadata": {},
     "output_type": "execute_result"
    }
   ],
   "source": [
    "df.isnull().sum()"
   ]
  },
  {
   "cell_type": "code",
   "execution_count": 5,
   "id": "4ac2c03a-0756-4c18-aa9b-2553dcfe3e00",
   "metadata": {},
   "outputs": [],
   "source": [
    "### Take a look of the unique values of each categorical column"
   ]
  },
  {
   "cell_type": "code",
   "execution_count": 6,
   "id": "424506dd-1b45-4be4-beb5-3941710f4db2",
   "metadata": {},
   "outputs": [
    {
     "data": {
      "text/plain": [
       "(array(['MITSU', 'TOYOTI', 'MATSUDA', 'CHEVO', 'DOGE', 'BMV', 'LECUS',\n",
       "        'KIO', 'FOLD', 'JIPU', 'NIRRAN', 'CADILUXE', 'FOLKSWA', 'BARUSU',\n",
       "        'GONDA', 'LAND CRAWLER', 'RYUNDAI', 'TOLVO', 'FIAR', 'ASURA',\n",
       "        'LAMBOGI'], dtype=object),\n",
       " FOLD            7233\n",
       " CHEVO           6621\n",
       " BMV             5934\n",
       " TOYOTI          3750\n",
       " NIRRAN          2929\n",
       " JIPU            2868\n",
       " DOGE            2830\n",
       " KIO             2579\n",
       " GONDA           2494\n",
       " RYUNDAI         2426\n",
       " FOLKSWA         2248\n",
       " MATSUDA         2077\n",
       " LECUS           2065\n",
       " CADILUXE        1836\n",
       " BARUSU          1510\n",
       " TOLVO           1396\n",
       " MITSU           1083\n",
       " LAND CRAWLER     929\n",
       " ASURA            848\n",
       " FIAR             803\n",
       " LAMBOGI          478\n",
       " Name: Make, dtype: int64)"
      ]
     },
     "execution_count": 6,
     "metadata": {},
     "output_type": "execute_result"
    }
   ],
   "source": [
    "df['Make'].unique(), df['Make'].value_counts()"
   ]
  },
  {
   "cell_type": "code",
   "execution_count": 7,
   "id": "6d920cda-4dc2-41ac-a472-58268c73aa17",
   "metadata": {},
   "outputs": [
    {
     "data": {
      "text/plain": [
       "(array(['SUV - SMALL', 'PICKUP TRUCK - SMALL', 'COMPACT',\n",
       "        'VAN - PASSENGER', 'MID-SIZE', 'SUV - STANDARD',\n",
       "        'STATION WAGON - SMALL', 'FULL-SIZE', 'TWO-SEATER',\n",
       "        'PICKUP TRUCK - STANDARD', 'SUBCOMPACT', nan,\n",
       "        'STATION WAGON - MID-SIZE', 'MINICOMPACT', 'MINIVAN',\n",
       "        'not-available', 'not-recorded', 'SPECIAL PURPOSE VEHICLE',\n",
       "        'missing', 'unestablished', 'na', 'unknown', 'unspecified',\n",
       "        'VAN - CARGO'], dtype=object),\n",
       " SUV - SMALL                 11050\n",
       " COMPACT                      9102\n",
       " MID-SIZE                     8383\n",
       " SUV - STANDARD               4683\n",
       " FULL-SIZE                    4037\n",
       " PICKUP TRUCK - STANDARD      3820\n",
       " SUBCOMPACT                   3591\n",
       " STATION WAGON - SMALL        2331\n",
       " TWO-SEATER                   1623\n",
       " PICKUP TRUCK - SMALL         1324\n",
       " MINIVAN                       695\n",
       " MINICOMPACT                   668\n",
       " SPECIAL PURPOSE VEHICLE       589\n",
       " VAN - PASSENGER               483\n",
       " not-recorded                  372\n",
       " STATION WAGON - MID-SIZE      365\n",
       " na                            220\n",
       " not-available                 189\n",
       " unspecified                   189\n",
       " unknown                       188\n",
       " unestablished                 187\n",
       " missing                       167\n",
       " VAN - CARGO                   142\n",
       " Name: Vehicle Class, dtype: int64)"
      ]
     },
     "execution_count": 7,
     "metadata": {},
     "output_type": "execute_result"
    }
   ],
   "source": [
    "df['Vehicle Class'].unique(), df['Vehicle Class'].value_counts()"
   ]
  },
  {
   "cell_type": "code",
   "execution_count": 8,
   "id": "0d342a51-4905-447d-b444-dec7d2b920e9",
   "metadata": {},
   "outputs": [
    {
     "data": {
      "text/plain": [
       "(array(['1.5', 'not-available', '2.0', 'unknown', '1.8', '2.4', '3.5',\n",
       "        '2.7', '1.6', 'na', '1.2', '2.5', '3.2', '5.0', '8.4', '1.4',\n",
       "        '3.8', 'unestablished', '6.2', nan, '4.4', '3.0', '3.6', '5.7',\n",
       "        '5.2', '6.4', '2.3', 'not-recorded', '3.3', '5.3', 'missing',\n",
       "        '6.5', '1.0', '4.0', '3.7', '1.3', 'unspecified', '4.6', '4.8',\n",
       "        '5.6', '2.8', '6.0', '4.2', '4.3', '2.2', '6.6', '5.4', '3.4',\n",
       "        '5.8', '6.8'], dtype=object),\n",
       " 2.0              10510\n",
       " 3.5               4837\n",
       " 2.5               3630\n",
       " 3.0               3477\n",
       " 3.6               3429\n",
       " 2.4               3130\n",
       " 1.6               2296\n",
       " 1.8               2017\n",
       " 1.4               1919\n",
       " 1.5               1568\n",
       " 5.0               1547\n",
       " 5.3               1433\n",
       " 4.4               1351\n",
       " 6.2               1229\n",
       " not-recorded       980\n",
       " 3.3                798\n",
       " 2.7                753\n",
       " 5.7                750\n",
       " 3.7                590\n",
       " unspecified        543\n",
       " not-available      485\n",
       " 4.0                478\n",
       " 6.4                477\n",
       " unknown            474\n",
       " unestablished      473\n",
       " 2.3                472\n",
       " missing            462\n",
       " na                 454\n",
       " 3.2                363\n",
       " 4.6                332\n",
       " 5.2                279\n",
       " 4.3                256\n",
       " 1.2                256\n",
       " 5.6                223\n",
       " 3.8                222\n",
       " 6.5                205\n",
       " 6.0                157\n",
       " 2.8                155\n",
       " 1.0                147\n",
       " 1.3                 94\n",
       " 5.4                 74\n",
       " 6.6                 46\n",
       " 8.4                 40\n",
       " 3.4                 40\n",
       " 4.8                 39\n",
       " 4.2                 25\n",
       " 2.2                 11\n",
       " 5.8                 10\n",
       " 6.8                  8\n",
       " Name: Engine Size(L), dtype: int64)"
      ]
     },
     "execution_count": 8,
     "metadata": {},
     "output_type": "execute_result"
    }
   ],
   "source": [
    "df['Engine Size(L)'].unique(), df['Engine Size(L)'].value_counts()"
   ]
  },
  {
   "cell_type": "code",
   "execution_count": 9,
   "id": "5c5d517a-73ed-45ab-bff6-1021b28089f2",
   "metadata": {},
   "outputs": [
    {
     "data": {
      "text/plain": [
       "(array(['AV8', 'A5', 'AS6', 'A6', 'M6', 'M5', 'A9', 'AS8', 'AV', 'AM6',\n",
       "        'AS10', 'A8', 'AS9', 'unestablished', 'AM8', 'AM7', 'AV7', 'A4',\n",
       "        'not-recorded', 'AV6', 'missing', 'unspecified', 'AV10', 'AS5',\n",
       "        'M7', 'A10', 'na', 'AS7', 'not-available', 'unknown', nan, 'A7',\n",
       "        'AM9'], dtype=object),\n",
       " AS6              12236\n",
       " AS8               8335\n",
       " M6                7697\n",
       " A6                5244\n",
       " AV                3163\n",
       " A8                2764\n",
       " M5                2081\n",
       " AS10              1848\n",
       " AM7               1473\n",
       " A9                1452\n",
       " AV6               1230\n",
       " AV7               1163\n",
       " AM6               1046\n",
       " A5                 928\n",
       " AS9                673\n",
       " A4                 576\n",
       " AV8                352\n",
       " AS7                308\n",
       " AS5                281\n",
       " not-recorded       253\n",
       " A10                156\n",
       " AM8                153\n",
       " na                 147\n",
       " missing            145\n",
       " not-available      137\n",
       " AV10               135\n",
       " unspecified        133\n",
       " unestablished      129\n",
       " unknown            129\n",
       " M7                 107\n",
       " AM9                 33\n",
       " A7                  20\n",
       " Name: Transmission, dtype: int64)"
      ]
     },
     "execution_count": 9,
     "metadata": {},
     "output_type": "execute_result"
    }
   ],
   "source": [
    "df['Transmission'].unique(), df['Transmission'].value_counts()"
   ]
  },
  {
   "cell_type": "code",
   "execution_count": 10,
   "id": "c95e2787-7260-4eed-b76a-0278c42fcbef",
   "metadata": {},
   "outputs": [
    {
     "data": {
      "text/plain": [
       "(array(['X', 'Z', nan, 'E', 'missing', 'not-recorded', 'not-available',\n",
       "        'D', 'unspecified', 'unknown', 'na', 'unestablished', 'N'],\n",
       "       dtype=object),\n",
       " X                33897\n",
       " Z                15307\n",
       " E                 2680\n",
       " D                 1102\n",
       " not-recorded       330\n",
       " unspecified        214\n",
       " unknown            189\n",
       " unestablished      170\n",
       " missing            168\n",
       " na                 163\n",
       " not-available      162\n",
       " N                    9\n",
       " Name: Fuel Type, dtype: int64)"
      ]
     },
     "execution_count": 10,
     "metadata": {},
     "output_type": "execute_result"
    }
   ],
   "source": [
    "df['Fuel Type'].unique(), df['Fuel Type'].value_counts() "
   ]
  },
  {
   "cell_type": "code",
   "execution_count": 11,
   "id": "295f36a6-17eb-485a-a6ba-2cb0e4ad42e1",
   "metadata": {},
   "outputs": [
    {
     "data": {
      "text/plain": [
       "(array(['4.0', '6.0', '8.0', 'unknown', 'na', '3.0', '10.0',\n",
       "        'not-recorded', 'unspecified', '12.0', nan, '5.0', 'missing',\n",
       "        'not-available', 'unestablished'], dtype=object),\n",
       " 4.0              26391\n",
       " 6.0              15088\n",
       " 8.0               7831\n",
       " not-recorded       819\n",
       " missing            441\n",
       " unestablished      431\n",
       " unspecified        423\n",
       " na                 409\n",
       " unknown            403\n",
       " not-available      399\n",
       " 3.0                348\n",
       " 12.0               273\n",
       " 10.0               267\n",
       " 5.0                216\n",
       " Name: Cylinders, dtype: int64)"
      ]
     },
     "execution_count": 11,
     "metadata": {},
     "output_type": "execute_result"
    }
   ],
   "source": [
    "df['Cylinders'].unique(), df['Cylinders'].value_counts()"
   ]
  },
  {
   "cell_type": "markdown",
   "id": "3cf4828c-5278-4454-9849-a0337ef1925d",
   "metadata": {
    "tags": []
   },
   "source": [
    "# TRAIN"
   ]
  },
  {
   "cell_type": "markdown",
   "id": "a68a658e-7549-42b6-98dd-a42078617ee0",
   "metadata": {
    "tags": []
   },
   "source": [
    "## Handles Categorical Data Missing Values\n",
    "### Create a rule based system to try to predict the missing values for the Categorical Features"
   ]
  },
  {
   "cell_type": "code",
   "execution_count": 12,
   "id": "f90eac25-e096-47f9-8b25-009d85aacad0",
   "metadata": {},
   "outputs": [
    {
     "data": {
      "text/html": [
       "<div>\n",
       "<style scoped>\n",
       "    .dataframe tbody tr th:only-of-type {\n",
       "        vertical-align: middle;\n",
       "    }\n",
       "\n",
       "    .dataframe tbody tr th {\n",
       "        vertical-align: top;\n",
       "    }\n",
       "\n",
       "    .dataframe thead th {\n",
       "        text-align: right;\n",
       "    }\n",
       "</style>\n",
       "<table border=\"1\" class=\"dataframe\">\n",
       "  <thead>\n",
       "    <tr style=\"text-align: right;\">\n",
       "      <th></th>\n",
       "      <th>Make</th>\n",
       "      <th>Vehicle Class</th>\n",
       "      <th>Engine Size(L)</th>\n",
       "      <th>Cylinders</th>\n",
       "      <th>Transmission</th>\n",
       "      <th>Fuel Type</th>\n",
       "    </tr>\n",
       "  </thead>\n",
       "  <tbody>\n",
       "    <tr>\n",
       "      <th>0</th>\n",
       "      <td>MITSU</td>\n",
       "      <td>SUV - SMALL</td>\n",
       "      <td>1.5</td>\n",
       "      <td>4.0</td>\n",
       "      <td>AV8</td>\n",
       "      <td>X</td>\n",
       "    </tr>\n",
       "    <tr>\n",
       "      <th>1</th>\n",
       "      <td>TOYOTI</td>\n",
       "      <td>PICKUP TRUCK - SMALL</td>\n",
       "      <td>not-available</td>\n",
       "      <td>6.0</td>\n",
       "      <td>A5</td>\n",
       "      <td>X</td>\n",
       "    </tr>\n",
       "    <tr>\n",
       "      <th>2</th>\n",
       "      <td>MATSUDA</td>\n",
       "      <td>COMPACT</td>\n",
       "      <td>2.0</td>\n",
       "      <td>4.0</td>\n",
       "      <td>AS6</td>\n",
       "      <td>X</td>\n",
       "    </tr>\n",
       "    <tr>\n",
       "      <th>3</th>\n",
       "      <td>CHEVO</td>\n",
       "      <td>VAN - PASSENGER</td>\n",
       "      <td>unknown</td>\n",
       "      <td>8.0</td>\n",
       "      <td>A6</td>\n",
       "      <td>X</td>\n",
       "    </tr>\n",
       "    <tr>\n",
       "      <th>4</th>\n",
       "      <td>TOYOTI</td>\n",
       "      <td>COMPACT</td>\n",
       "      <td>1.8</td>\n",
       "      <td>4.0</td>\n",
       "      <td>M6</td>\n",
       "      <td>X</td>\n",
       "    </tr>\n",
       "  </tbody>\n",
       "</table>\n",
       "</div>"
      ],
      "text/plain": [
       "      Make         Vehicle Class Engine Size(L) Cylinders Transmission  \\\n",
       "0    MITSU           SUV - SMALL            1.5       4.0          AV8   \n",
       "1   TOYOTI  PICKUP TRUCK - SMALL  not-available       6.0           A5   \n",
       "2  MATSUDA               COMPACT            2.0       4.0          AS6   \n",
       "3    CHEVO       VAN - PASSENGER        unknown       8.0           A6   \n",
       "4   TOYOTI               COMPACT            1.8       4.0           M6   \n",
       "\n",
       "  Fuel Type  \n",
       "0         X  \n",
       "1         X  \n",
       "2         X  \n",
       "3         X  \n",
       "4         X  "
      ]
     },
     "execution_count": 12,
     "metadata": {},
     "output_type": "execute_result"
    }
   ],
   "source": [
    "cat_columns =[column for column in df.columns if df[column].nunique() < 100]\n",
    "cat = pd.DataFrame(df[cat_columns])\n",
    "\n",
    "cat.head()"
   ]
  },
  {
   "cell_type": "code",
   "execution_count": 13,
   "id": "0d693a2d-adf1-4c09-93d4-ec6a7a693138",
   "metadata": {},
   "outputs": [],
   "source": [
    "#Create list of unique value of each categories\n",
    "unique_eclass = ['3.5', '5.3', '4.4',  '3.0', '1.8', '2.0',\n",
    "        '3.6', '2.5','2.4', '2.3', '1.4', '1.6', '5.0'\n",
    "        '1.3', '6.2', '4.8', '2.7', '6.0', '3.2', '6.5', '5.7', '3.7',\n",
    "        '1.2', '4.0', '3.3', '1.5', '5.2',\n",
    "        '3.8', '2.8', '4.6', '6.4',\n",
    "        '4.3', '6.6', '5.4', '1.0', '5.6', '5.8', '8.4', '3.4', '4.2',\n",
    "        '6.8', '2.2']\n",
    "\n",
    "unique_cyl = ['6.0', '4.0', '8.0' '12.0','3.0', '5.0', '10.0']\n",
    "\n",
    "unique_vclass = ['PICKUP TRUCK - STANDARD', 'SUBCOMPACT', 'SUV - SMALL',\n",
    "        'MINICOMPACT', 'COMPACT', 'FULL-SIZE', 'SUV - STANDARD', 'MINIVAN',\n",
    "        'STATION WAGON - SMALL', 'PICKUP TRUCK - SMALL',\n",
    "        'TWO-SEATER', 'STATION WAGON - MID-SIZE', 'MID-SIZE',\n",
    "        'SPECIAL PURPOSE VEHICLE', 'VAN - PASSENGER', 'VAN - CARGO']\n",
    "\n",
    "unique_make = ['FOLD', 'CHEVO', 'BMV', 'KIO', 'BARUSU', 'LECUS', 'GONDA',\n",
    "        'LAND CRAWLER', 'FOLKSWA', 'TOYOTI', 'JIPU', 'TOLVO', 'ASURA',\n",
    "        'NIRRAN', 'FIAR', 'DOGE', 'CADILUXE', 'MATSUDA', 'MITSU',\n",
    "        'RYUNDAI', 'LAMBOGI']\n",
    "\n",
    "unique_ftype = ['X', 'E', 'Z', 'D', 'N']\n",
    "\n",
    "unique_trans = ['A6', 'M6', 'AS6', 'AV7', 'AS8',\n",
    "        'A9', 'AV', 'AV8', 'M5', 'A8', 'AV6', 'AS10',\n",
    "        'AM7', 'A4', 'A5', 'AS7', 'AM6', 'AS5', 'AS9', 'AM9', 'AV10', 'AM8', 'M7',\n",
    "        'A10', 'A7']"
   ]
  },
  {
   "cell_type": "code",
   "execution_count": 14,
   "id": "05a97c0a-5616-48e4-b476-2ec8b2333a59",
   "metadata": {},
   "outputs": [],
   "source": [
    "def fillna_temp(input, list):\n",
    "    if not input or input not in list:\n",
    "        return 'Null'\n",
    "    else:\n",
    "        return input\n",
    "    \n",
    "cat['Fuel Type'] = cat['Fuel Type'].apply(lambda x : fillna_temp(x, unique_ftype))\n",
    "cat['Engine Size(L)'] = cat['Engine Size(L)'].apply(lambda x : fillna_temp(x, unique_eclass))\n",
    "cat['Transmission'] = cat['Transmission'].apply(lambda x : fillna_temp(x, unique_trans))\n",
    "cat['Vehicle Class'] = cat['Vehicle Class'].apply(lambda x: fillna_temp(x, unique_vclass))\n",
    "cat['Make'] = cat['Make'].apply(lambda x : fillna_temp(x, unique_make))\n",
    "cat['Cylinders'] = cat['Cylinders'].apply(lambda x : fillna_temp(x, unique_cyl))"
   ]
  },
  {
   "cell_type": "code",
   "execution_count": 15,
   "id": "0f7860f2-0806-4fab-aa84-e951ab4fec91",
   "metadata": {},
   "outputs": [
    {
     "name": "stdout",
     "output_type": "stream",
     "text": [
      "['MITSU' 'TOYOTI' 'MATSUDA' 'CHEVO' 'DOGE' 'BMV' 'LECUS' 'KIO' 'FOLD'\n",
      " 'JIPU' 'NIRRAN' 'CADILUXE' 'FOLKSWA' 'BARUSU' 'GONDA' 'LAND CRAWLER'\n",
      " 'RYUNDAI' 'TOLVO' 'FIAR' 'ASURA' 'LAMBOGI']\n",
      "========================\n",
      "['SUV - SMALL' 'PICKUP TRUCK - SMALL' 'COMPACT' 'VAN - PASSENGER'\n",
      " 'MID-SIZE' 'SUV - STANDARD' 'STATION WAGON - SMALL' 'FULL-SIZE'\n",
      " 'TWO-SEATER' 'PICKUP TRUCK - STANDARD' 'SUBCOMPACT' 'Null'\n",
      " 'STATION WAGON - MID-SIZE' 'MINICOMPACT' 'MINIVAN'\n",
      " 'SPECIAL PURPOSE VEHICLE' 'VAN - CARGO']\n",
      "========================\n",
      "['1.5' 'Null' '2.0' '1.8' '2.4' '3.5' '2.7' '1.6' '1.2' '2.5' '3.2' '8.4'\n",
      " '1.4' '3.8' '6.2' '4.4' '3.0' '3.6' '5.7' '5.2' '6.4' '2.3' '3.3' '5.3'\n",
      " '6.5' '1.0' '4.0' '3.7' '4.6' '4.8' '5.6' '2.8' '6.0' '4.2' '4.3' '2.2'\n",
      " '6.6' '5.4' '3.4' '5.8' '6.8']\n",
      "========================\n",
      "['4.0' '6.0' 'Null' '3.0' '10.0' '5.0']\n",
      "========================\n",
      "['AV8' 'A5' 'AS6' 'A6' 'M6' 'M5' 'A9' 'AS8' 'AV' 'AM6' 'AS10' 'A8' 'AS9'\n",
      " 'Null' 'AM8' 'AM7' 'AV7' 'A4' 'AV6' 'AV10' 'AS5' 'M7' 'A10' 'AS7' 'A7'\n",
      " 'AM9']\n",
      "========================\n",
      "['X' 'Z' 'Null' 'E' 'D' 'N']\n",
      "========================\n"
     ]
    }
   ],
   "source": [
    "for col in cat.columns:\n",
    "    print(cat[col].unique())\n",
    "    print('========================')"
   ]
  },
  {
   "cell_type": "code",
   "execution_count": 16,
   "id": "6dad1031-4adb-407e-baf7-c52575697fcd",
   "metadata": {},
   "outputs": [
    {
     "data": {
      "text/html": [
       "<div>\n",
       "<style scoped>\n",
       "    .dataframe tbody tr th:only-of-type {\n",
       "        vertical-align: middle;\n",
       "    }\n",
       "\n",
       "    .dataframe tbody tr th {\n",
       "        vertical-align: top;\n",
       "    }\n",
       "\n",
       "    .dataframe thead th {\n",
       "        text-align: right;\n",
       "    }\n",
       "</style>\n",
       "<table border=\"1\" class=\"dataframe\">\n",
       "  <thead>\n",
       "    <tr style=\"text-align: right;\">\n",
       "      <th></th>\n",
       "      <th>Make</th>\n",
       "      <th>Vehicle Class</th>\n",
       "      <th>Engine Size(L)</th>\n",
       "      <th>Cylinders</th>\n",
       "      <th>Transmission</th>\n",
       "      <th>Fuel Type</th>\n",
       "    </tr>\n",
       "  </thead>\n",
       "  <tbody>\n",
       "    <tr>\n",
       "      <th>0</th>\n",
       "      <td>MITSU</td>\n",
       "      <td>SUV - SMALL</td>\n",
       "      <td>1.5</td>\n",
       "      <td>4.0</td>\n",
       "      <td>AV8</td>\n",
       "      <td>X</td>\n",
       "    </tr>\n",
       "    <tr>\n",
       "      <th>1</th>\n",
       "      <td>TOYOTI</td>\n",
       "      <td>PICKUP TRUCK - SMALL</td>\n",
       "      <td>Null</td>\n",
       "      <td>6.0</td>\n",
       "      <td>A5</td>\n",
       "      <td>X</td>\n",
       "    </tr>\n",
       "    <tr>\n",
       "      <th>2</th>\n",
       "      <td>MATSUDA</td>\n",
       "      <td>COMPACT</td>\n",
       "      <td>2.0</td>\n",
       "      <td>4.0</td>\n",
       "      <td>AS6</td>\n",
       "      <td>X</td>\n",
       "    </tr>\n",
       "    <tr>\n",
       "      <th>3</th>\n",
       "      <td>CHEVO</td>\n",
       "      <td>VAN - PASSENGER</td>\n",
       "      <td>Null</td>\n",
       "      <td>Null</td>\n",
       "      <td>A6</td>\n",
       "      <td>X</td>\n",
       "    </tr>\n",
       "    <tr>\n",
       "      <th>4</th>\n",
       "      <td>TOYOTI</td>\n",
       "      <td>COMPACT</td>\n",
       "      <td>1.8</td>\n",
       "      <td>4.0</td>\n",
       "      <td>M6</td>\n",
       "      <td>X</td>\n",
       "    </tr>\n",
       "  </tbody>\n",
       "</table>\n",
       "</div>"
      ],
      "text/plain": [
       "      Make         Vehicle Class Engine Size(L) Cylinders Transmission  \\\n",
       "0    MITSU           SUV - SMALL            1.5       4.0          AV8   \n",
       "1   TOYOTI  PICKUP TRUCK - SMALL           Null       6.0           A5   \n",
       "2  MATSUDA               COMPACT            2.0       4.0          AS6   \n",
       "3    CHEVO       VAN - PASSENGER           Null      Null           A6   \n",
       "4   TOYOTI               COMPACT            1.8       4.0           M6   \n",
       "\n",
       "  Fuel Type  \n",
       "0         X  \n",
       "1         X  \n",
       "2         X  \n",
       "3         X  \n",
       "4         X  "
      ]
     },
     "execution_count": 16,
     "metadata": {},
     "output_type": "execute_result"
    }
   ],
   "source": [
    "cat.head()"
   ]
  },
  {
   "cell_type": "markdown",
   "id": "5214e20a-d3ff-4a8b-9ccf-91585a287093",
   "metadata": {},
   "source": [
    "### Vehicle Class \n",
    "Basis: assumption that one brand of car tends to create one vehicle type more than the other. Example: Lamborgini creates more two seater than other Vehicle Class (like PICKUP TRUCK, etc). Hence it is reasonable to predict the missing values with the most 'popular' car type produced by its brand"
   ]
  },
  {
   "cell_type": "code",
   "execution_count": 17,
   "id": "58956bc9-1913-4a58-a2aa-fd7dfbcd5f1b",
   "metadata": {},
   "outputs": [
    {
     "data": {
      "text/plain": [
       "Make              0\n",
       "Vehicle Class     0\n",
       "Engine Size(L)    0\n",
       "Cylinders         0\n",
       "Transmission      0\n",
       "Fuel Type         0\n",
       "dtype: int64"
      ]
     },
     "execution_count": 17,
     "metadata": {},
     "output_type": "execute_result"
    }
   ],
   "source": [
    "cat.isnull().sum()"
   ]
  },
  {
   "cell_type": "markdown",
   "id": "ad1e0622-11a5-45b5-b485-f1a12a8f11f3",
   "metadata": {},
   "source": [
    "Question: what is the maximum vehicle class category per car manufacturer"
   ]
  },
  {
   "cell_type": "code",
   "execution_count": 18,
   "id": "e32314fc-4c84-4247-96df-88378cf56e1f",
   "metadata": {},
   "outputs": [
    {
     "data": {
      "text/plain": [
       "('CHEVO', 'PICKUP TRUCK - STANDARD')"
      ]
     },
     "execution_count": 18,
     "metadata": {},
     "output_type": "execute_result"
    }
   ],
   "source": [
    "grouped = cat.groupby(['Make', 'Vehicle Class'])['Vehicle Class'].count()\n",
    "max_vc_per_make = grouped.groupby('Make').idxmax()\n",
    "\n",
    "#Test the result\n",
    "max_vc_per_make['CHEVO']\n",
    "\n",
    "    "
   ]
  },
  {
   "cell_type": "code",
   "execution_count": 19,
   "id": "e9dde601-1ac1-416f-a127-b753056995ec",
   "metadata": {},
   "outputs": [
    {
     "data": {
      "text/plain": [
       "0"
      ]
     },
     "execution_count": 19,
     "metadata": {},
     "output_type": "execute_result"
    }
   ],
   "source": [
    "#There are these many missing values inside the Vehicle class \n",
    "cat['Vehicle Class'].isnull().sum()\n",
    "    "
   ]
  },
  {
   "cell_type": "code",
   "execution_count": 20,
   "id": "fc45771d-817b-40bc-8b09-fc9f3d62223d",
   "metadata": {},
   "outputs": [],
   "source": [
    "def fill_vc(make, vc):\n",
    "    if vc == 'Null':\n",
    "        return max_vc_per_make[make][1]\n",
    "    else:\n",
    "        return vc \n",
    "\n",
    "cat['Vehicle Class'] = cat.apply(lambda x: fill_vc(x['Make'], x['Vehicle Class']), axis=1)\n",
    "\n",
    "    "
   ]
  },
  {
   "cell_type": "code",
   "execution_count": 21,
   "id": "46c4d97b-5c88-41b2-99e8-3be0914ed3ee",
   "metadata": {},
   "outputs": [
    {
     "data": {
      "text/plain": [
       "0"
      ]
     },
     "execution_count": 21,
     "metadata": {},
     "output_type": "execute_result"
    }
   ],
   "source": [
    "cat['Vehicle Class'].isnull().sum()"
   ]
  },
  {
   "cell_type": "code",
   "execution_count": 22,
   "id": "2beefb68-4991-4557-b1ab-bfef90850f31",
   "metadata": {},
   "outputs": [
    {
     "name": "stdout",
     "output_type": "stream",
     "text": [
      "Index(['Make', 'Vehicle Class', 'Engine Size(L)', 'Cylinders', 'Transmission',\n",
      "       'Fuel Type'],\n",
      "      dtype='object')\n"
     ]
    }
   ],
   "source": [
    "print(cat.columns)"
   ]
  },
  {
   "cell_type": "markdown",
   "id": "6e833c3e-b11c-4b6c-9e79-5b9a0baffc1e",
   "metadata": {
    "tags": []
   },
   "source": [
    "### Fuel Type \n",
    "I think it is common sense to say that a Vehicle Class with the same brand are more likely to have the same Fuel Type. Grouped the fuel type data based on Make and Vehicle Class, then choose \n",
    "the definite fuel type that is possible between the set"
   ]
  },
  {
   "cell_type": "code",
   "execution_count": 23,
   "id": "4fcd2331-106d-4cac-ab18-31f931d79ff1",
   "metadata": {},
   "outputs": [
    {
     "data": {
      "text/plain": [
       "0"
      ]
     },
     "execution_count": 23,
     "metadata": {},
     "output_type": "execute_result"
    }
   ],
   "source": [
    "cat['Fuel Type'].isnull().sum()"
   ]
  },
  {
   "cell_type": "code",
   "execution_count": 24,
   "id": "e90b20ea-a8a9-4843-af10-d57147072e69",
   "metadata": {},
   "outputs": [],
   "source": [
    "grouped = cat.groupby(['Make', 'Vehicle Class', 'Fuel Type'])['Fuel Type'].count()\n",
    "\n",
    "grouped_fuel_type = grouped.groupby(['Make', 'Vehicle Class']).idxmax()\n",
    "\n",
    "def fill_ft(make, vc, ft):\n",
    "    fuel_types_per_mvc = grouped_fuel_type[make][vc][2]\n",
    "    if ft == 'Null':\n",
    "        return fuel_types_per_mvc\n",
    "    else:\n",
    "        return ft\n",
    "    \n",
    "cat['Fuel Type'] = cat.apply(lambda x: fill_ft(x['Make'], x['Vehicle Class'], x['Fuel Type']), axis=1)\n"
   ]
  },
  {
   "cell_type": "code",
   "execution_count": 25,
   "id": "0a26c464-1e91-428c-a7e3-420a80ed920b",
   "metadata": {},
   "outputs": [
    {
     "data": {
      "text/plain": [
       "'Z'"
      ]
     },
     "execution_count": 25,
     "metadata": {},
     "output_type": "execute_result"
    }
   ],
   "source": [
    "grouped = cat.groupby(['Make', 'Vehicle Class', 'Fuel Type'])['Fuel Type'].count()\n",
    "\n",
    "grouped_fuel_type = grouped.groupby(['Make', 'Vehicle Class']).idxmax()\n",
    "\n",
    "grouped_fuel_type['ASURA']['COMPACT'][2]"
   ]
  },
  {
   "cell_type": "code",
   "execution_count": 26,
   "id": "292d541b-88fa-4be1-ab2d-9ae97caaae6e",
   "metadata": {},
   "outputs": [
    {
     "data": {
      "text/plain": [
       "0"
      ]
     },
     "execution_count": 26,
     "metadata": {},
     "output_type": "execute_result"
    }
   ],
   "source": [
    "cat['Fuel Type'].isnull().sum()"
   ]
  },
  {
   "cell_type": "code",
   "execution_count": 27,
   "id": "d90ea45b-1eda-4550-b0d1-d6c3fb0f0a38",
   "metadata": {},
   "outputs": [
    {
     "name": "stdout",
     "output_type": "stream",
     "text": [
      "Index(['Make', 'Vehicle Class', 'Engine Size(L)', 'Cylinders', 'Transmission',\n",
      "       'Fuel Type'],\n",
      "      dtype='object')\n"
     ]
    }
   ],
   "source": [
    "print(cat.columns)"
   ]
  },
  {
   "cell_type": "markdown",
   "id": "531616bb-a828-47b6-abcb-a549a9206e36",
   "metadata": {},
   "source": [
    "### Engine Size and Cylinders\n",
    "The underlying basis of the rule based is that engine size and cylinder have a strong correlation, hence we can fill the missing values of one value with respect to the other"
   ]
  },
  {
   "cell_type": "code",
   "execution_count": 28,
   "id": "798bb59f-4505-4a95-953a-c115db3c9ccc",
   "metadata": {},
   "outputs": [],
   "source": [
    "grouped = pd.DataFrame(cat[['Engine Size(L)', 'Cylinders', 'Transmission']])\n"
   ]
  },
  {
   "cell_type": "code",
   "execution_count": 29,
   "id": "f85a1521-099b-4b2d-b8f6-fa4b91fa357e",
   "metadata": {},
   "outputs": [],
   "source": [
    "def change_to_float(x):\n",
    "    try:\n",
    "        return float(x) \n",
    "    except ValueError:\n",
    "        return 0.0\n",
    "    \n",
    "\n",
    "\n",
    "cat['Engine Size(L)'] = cat['Engine Size(L)'].apply(change_to_float)\n",
    "cat['Cylinders'] = cat['Cylinders'].apply(change_to_float)\n"
   ]
  },
  {
   "cell_type": "code",
   "execution_count": 30,
   "id": "9c6f75fb-bed6-46ba-a4a3-68dfab7333bb",
   "metadata": {},
   "outputs": [
    {
     "data": {
      "text/plain": [
       "Engine Size(L)\n",
       "0.0     (0.0, 0.0)\n",
       "1.0     (1.0, 3.0)\n",
       "1.2     (1.2, 3.0)\n",
       "1.4     (1.4, 4.0)\n",
       "1.5     (1.5, 4.0)\n",
       "1.6     (1.6, 4.0)\n",
       "1.8     (1.8, 4.0)\n",
       "2.0     (2.0, 4.0)\n",
       "2.2     (2.2, 4.0)\n",
       "2.3     (2.3, 4.0)\n",
       "2.4     (2.4, 4.0)\n",
       "2.5     (2.5, 4.0)\n",
       "2.7     (2.7, 6.0)\n",
       "2.8     (2.8, 4.0)\n",
       "3.0     (3.0, 6.0)\n",
       "3.2     (3.2, 6.0)\n",
       "3.3     (3.3, 6.0)\n",
       "3.4     (3.4, 6.0)\n",
       "3.5     (3.5, 6.0)\n",
       "3.6     (3.6, 6.0)\n",
       "3.7     (3.7, 6.0)\n",
       "3.8     (3.8, 6.0)\n",
       "4.0     (4.0, 6.0)\n",
       "4.2     (4.2, 0.0)\n",
       "4.3     (4.3, 6.0)\n",
       "4.4     (4.4, 0.0)\n",
       "4.6     (4.6, 0.0)\n",
       "4.8     (4.8, 0.0)\n",
       "5.2    (5.2, 10.0)\n",
       "5.3     (5.3, 0.0)\n",
       "5.4     (5.4, 0.0)\n",
       "5.6     (5.6, 0.0)\n",
       "5.7     (5.7, 0.0)\n",
       "5.8     (5.8, 0.0)\n",
       "6.0     (6.0, 0.0)\n",
       "6.2     (6.2, 0.0)\n",
       "6.4     (6.4, 0.0)\n",
       "6.5     (6.5, 0.0)\n",
       "6.6     (6.6, 0.0)\n",
       "6.8    (6.8, 10.0)\n",
       "8.4    (8.4, 10.0)\n",
       "Name: Cylinders, dtype: object"
      ]
     },
     "execution_count": 30,
     "metadata": {},
     "output_type": "execute_result"
    }
   ],
   "source": [
    "grouped_by_es = cat.groupby(['Engine Size(L)', 'Cylinders'])['Cylinders'].count()\n",
    "max_cyl_per_es = grouped_by_es.groupby('Engine Size(L)').idxmax()\n",
    "\n",
    "max_cyl_per_es"
   ]
  },
  {
   "cell_type": "code",
   "execution_count": 31,
   "id": "3e171a2c-964d-421c-a9e7-134a7e7a8818",
   "metadata": {},
   "outputs": [
    {
     "data": {
      "text/plain": [
       "Cylinders\n",
       "0.0      (0.0, 0.0)\n",
       "3.0      (3.0, 1.2)\n",
       "4.0      (4.0, 2.0)\n",
       "5.0      (5.0, 2.5)\n",
       "6.0      (6.0, 3.5)\n",
       "10.0    (10.0, 5.2)\n",
       "Name: Engine Size(L), dtype: object"
      ]
     },
     "execution_count": 31,
     "metadata": {},
     "output_type": "execute_result"
    }
   ],
   "source": [
    "grouped = cat.groupby(['Cylinders', 'Engine Size(L)'])['Engine Size(L)'].count()\n",
    "max_es_per_cyl= grouped.groupby('Cylinders').idxmax()\n",
    "\n",
    "max_es_per_cyl"
   ]
  },
  {
   "cell_type": "code",
   "execution_count": 32,
   "id": "9ce978aa-58a7-472b-9edd-2e0713665f06",
   "metadata": {},
   "outputs": [
    {
     "data": {
      "text/plain": [
       "(Engine Size(L)    0\n",
       " Cylinders         0\n",
       " dtype: int64,\n",
       " array([1.5, 0. , 2. , 1.8, 2.4, 3.5, 2.7, 1.6, 1.2, 2.5, 3.2, 8.4, 1.4,\n",
       "        3.8, 6.2, 4.4, 3. , 3.6, 5.7, 5.2, 6.4, 2.3, 3.3, 5.3, 6.5, 1. ,\n",
       "        4. , 3.7, 4.6, 4.8, 5.6, 2.8, 6. , 4.2, 4.3, 2.2, 6.6, 5.4, 3.4,\n",
       "        5.8, 6.8]),\n",
       " array([ 4.,  6.,  0.,  3., 10.,  5.]))"
      ]
     },
     "execution_count": 32,
     "metadata": {},
     "output_type": "execute_result"
    }
   ],
   "source": [
    "cat[['Engine Size(L)', 'Cylinders']].isnull().sum(), cat['Engine Size(L)'].unique(), cat['Cylinders'].unique()"
   ]
  },
  {
   "cell_type": "code",
   "execution_count": 33,
   "id": "c930b168-331a-4eed-8ad3-84974843ee21",
   "metadata": {},
   "outputs": [],
   "source": [
    "def fill_es(cyl, es):\n",
    "    if pd.isnull(es):\n",
    "        if cyl == 'Null':\n",
    "            return max_es_per_cyl[0.0][1]\n",
    "        return max_es_per_cyl[cyl][1]\n",
    "    else:\n",
    "        return es\n",
    "    \n",
    "def fill_cyl(es, cyl):\n",
    "    if pd.isnull(cyl):\n",
    "        if es == 'Null':\n",
    "            return max_cyl_per_es[0.0][1]\n",
    "        return max_cyl_per_es[es][1]\n",
    "    else:\n",
    "        return cyl\n",
    "\n",
    "    \n",
    "cat['Engine Size(L)'] = cat.apply(lambda x: fill_es(x['Cylinders'], x['Engine Size(L)']), axis=1)\n",
    "cat['Cylinders'] = cat.apply(lambda x: fill_cyl(x['Engine Size(L)'], x['Cylinders']), axis=1)"
   ]
  },
  {
   "cell_type": "code",
   "execution_count": 34,
   "id": "4bf74d40-abd3-4a63-8700-b23925e3e1bd",
   "metadata": {},
   "outputs": [
    {
     "data": {
      "text/plain": [
       "Engine Size(L)    0\n",
       "Cylinders         0\n",
       "dtype: int64"
      ]
     },
     "execution_count": 34,
     "metadata": {},
     "output_type": "execute_result"
    }
   ],
   "source": [
    "cat[['Engine Size(L)', 'Cylinders']].isnull().sum()"
   ]
  },
  {
   "cell_type": "markdown",
   "id": "b23a78a0-e9f2-4e30-ba95-f7060bc105ec",
   "metadata": {},
   "source": [
    "### Transmission\n",
    "Encode every other categorical variable and see what is the variable that have the biggest correlation to Transmission (no high correlation). Just convert to 0 to the NaN values along with the other 'uspecified' and friends entry"
   ]
  },
  {
   "cell_type": "code",
   "execution_count": 35,
   "id": "f67a0145-9ca3-4602-b17f-df8300d3a145",
   "metadata": {},
   "outputs": [],
   "source": [
    "grouped = cat.groupby(['Make', 'Vehicle Class', 'Transmission'])['Transmission'].count()\n",
    "\n",
    "grouped_trans = grouped.groupby(['Make', 'Vehicle Class']).idxmax()\n",
    "\n",
    "def fill_trans(make, vc, trans):\n",
    "    trans_per_mvc = grouped_trans[make][vc][2]\n",
    "    if trans == 'Null':\n",
    "        return trans_per_mvc\n",
    "    else:\n",
    "        return trans\n",
    "\n",
    "cat['Transmission'] = cat.apply(lambda x: fill_ft(x['Make'], x['Vehicle Class'], x['Transmission']), axis=1)\n"
   ]
  },
  {
   "cell_type": "code",
   "execution_count": 36,
   "id": "f12a35ef-a80c-4326-abe9-c4f2fadc106b",
   "metadata": {},
   "outputs": [
    {
     "name": "stdout",
     "output_type": "stream",
     "text": [
      "<class 'pandas.core.frame.DataFrame'>\n",
      "RangeIndex: 54937 entries, 0 to 54936\n",
      "Data columns (total 6 columns):\n",
      " #   Column          Non-Null Count  Dtype  \n",
      "---  ------          --------------  -----  \n",
      " 0   Make            54937 non-null  object \n",
      " 1   Vehicle Class   54937 non-null  object \n",
      " 2   Engine Size(L)  54937 non-null  float64\n",
      " 3   Cylinders       54937 non-null  float64\n",
      " 4   Transmission    54937 non-null  object \n",
      " 5   Fuel Type       54937 non-null  object \n",
      "dtypes: float64(2), object(4)\n",
      "memory usage: 2.5+ MB\n"
     ]
    }
   ],
   "source": [
    "cat.info()"
   ]
  },
  {
   "cell_type": "markdown",
   "id": "5f0d2107-9ddc-42b6-a3e6-9cc046d1dda8",
   "metadata": {},
   "source": [
    "### Encode All the Categorical Features"
   ]
  },
  {
   "cell_type": "code",
   "execution_count": 37,
   "id": "c089864f-db8c-406d-bbe0-a590b332bc85",
   "metadata": {},
   "outputs": [
    {
     "name": "stdout",
     "output_type": "stream",
     "text": [
      "<class 'pandas.core.frame.DataFrame'>\n",
      "RangeIndex: 54937 entries, 0 to 54936\n",
      "Data columns (total 6 columns):\n",
      " #   Column          Non-Null Count  Dtype  \n",
      "---  ------          --------------  -----  \n",
      " 0   Make            54937 non-null  object \n",
      " 1   Vehicle Class   54937 non-null  object \n",
      " 2   Engine Size(L)  54937 non-null  float64\n",
      " 3   Cylinders       54937 non-null  float64\n",
      " 4   Transmission    54937 non-null  object \n",
      " 5   Fuel Type       54937 non-null  object \n",
      "dtypes: float64(2), object(4)\n",
      "memory usage: 2.5+ MB\n"
     ]
    }
   ],
   "source": [
    "cat.info()"
   ]
  },
  {
   "cell_type": "code",
   "execution_count": 38,
   "id": "0f205ea1-ccbc-4c3b-bc37-f249e61d113d",
   "metadata": {},
   "outputs": [
    {
     "data": {
      "text/html": [
       "<div>\n",
       "<style scoped>\n",
       "    .dataframe tbody tr th:only-of-type {\n",
       "        vertical-align: middle;\n",
       "    }\n",
       "\n",
       "    .dataframe tbody tr th {\n",
       "        vertical-align: top;\n",
       "    }\n",
       "\n",
       "    .dataframe thead th {\n",
       "        text-align: right;\n",
       "    }\n",
       "</style>\n",
       "<table border=\"1\" class=\"dataframe\">\n",
       "  <thead>\n",
       "    <tr style=\"text-align: right;\">\n",
       "      <th></th>\n",
       "      <th>Make</th>\n",
       "      <th>Vehicle Class</th>\n",
       "      <th>Engine Size(L)</th>\n",
       "      <th>Cylinders</th>\n",
       "      <th>Transmission</th>\n",
       "      <th>Fuel Type</th>\n",
       "    </tr>\n",
       "  </thead>\n",
       "  <tbody>\n",
       "    <tr>\n",
       "      <th>0</th>\n",
       "      <td>MITSU</td>\n",
       "      <td>SUV - SMALL</td>\n",
       "      <td>1.5</td>\n",
       "      <td>4.0</td>\n",
       "      <td>AV8</td>\n",
       "      <td>X</td>\n",
       "    </tr>\n",
       "    <tr>\n",
       "      <th>1</th>\n",
       "      <td>TOYOTI</td>\n",
       "      <td>PICKUP TRUCK - SMALL</td>\n",
       "      <td>0.0</td>\n",
       "      <td>6.0</td>\n",
       "      <td>A5</td>\n",
       "      <td>X</td>\n",
       "    </tr>\n",
       "    <tr>\n",
       "      <th>2</th>\n",
       "      <td>MATSUDA</td>\n",
       "      <td>COMPACT</td>\n",
       "      <td>2.0</td>\n",
       "      <td>4.0</td>\n",
       "      <td>AS6</td>\n",
       "      <td>X</td>\n",
       "    </tr>\n",
       "    <tr>\n",
       "      <th>3</th>\n",
       "      <td>CHEVO</td>\n",
       "      <td>VAN - PASSENGER</td>\n",
       "      <td>0.0</td>\n",
       "      <td>0.0</td>\n",
       "      <td>A6</td>\n",
       "      <td>X</td>\n",
       "    </tr>\n",
       "    <tr>\n",
       "      <th>4</th>\n",
       "      <td>TOYOTI</td>\n",
       "      <td>COMPACT</td>\n",
       "      <td>1.8</td>\n",
       "      <td>4.0</td>\n",
       "      <td>M6</td>\n",
       "      <td>X</td>\n",
       "    </tr>\n",
       "  </tbody>\n",
       "</table>\n",
       "</div>"
      ],
      "text/plain": [
       "      Make         Vehicle Class  Engine Size(L)  Cylinders Transmission  \\\n",
       "0    MITSU           SUV - SMALL             1.5        4.0          AV8   \n",
       "1   TOYOTI  PICKUP TRUCK - SMALL             0.0        6.0           A5   \n",
       "2  MATSUDA               COMPACT             2.0        4.0          AS6   \n",
       "3    CHEVO       VAN - PASSENGER             0.0        0.0           A6   \n",
       "4   TOYOTI               COMPACT             1.8        4.0           M6   \n",
       "\n",
       "  Fuel Type  \n",
       "0         X  \n",
       "1         X  \n",
       "2         X  \n",
       "3         X  \n",
       "4         X  "
      ]
     },
     "execution_count": 38,
     "metadata": {},
     "output_type": "execute_result"
    }
   ],
   "source": [
    "#Create list of unique value of each categories\n",
    "\n",
    "unique_vclass = ['PICKUP TRUCK - STANDARD', 'SUBCOMPACT', 'SUV - SMALL',\n",
    "        'MINICOMPACT', 'COMPACT', 'FULL-SIZE', 'SUV - STANDARD', 'MINIVAN',\n",
    "        'STATION WAGON - SMALL', 'PICKUP TRUCK - SMALL',\n",
    "        'TWO-SEATER', 'STATION WAGON - MID-SIZE', 'MID-SIZE',\n",
    "        'SPECIAL PURPOSE VEHICLE', 'VAN - PASSENGER', 'VAN - CARGO']\n",
    "\n",
    "unique_make = ['FOLD', 'CHEVO', 'BMV', 'KIO', 'BARUSU', 'LECUS', 'GONDA',\n",
    "        'LAND CRAWLER', 'FOLKSWA', 'TOYOTI', 'JIPU', 'TOLVO', 'ASURA',\n",
    "        'NIRRAN', 'FIAR', 'DOGE', 'CADILUXE', 'MATSUDA', 'MITSU',\n",
    "        'RYUNDAI', 'LAMBOGI']\n",
    "\n",
    "unique_ftype = ['X', 'E', 'Z', 'D', 'N']\n",
    "\n",
    "unique_trans = ['A6', 'M6', 'AS6', 'AV7', 'AS8',\n",
    "        'A9', 'AV', 'AV8', 'M5', 'A8', 'AV6', 'AS10',\n",
    "        'AM7', 'A4', 'A5', 'AS7', 'AM6', 'AS5',\n",
    "        'na', 'AS9', '-1', 'AM9', 'AV10', 'AM8', 'M7',\n",
    "        'A10', 'A7']\n",
    "\n",
    "cat.head()"
   ]
  },
  {
   "cell_type": "code",
   "execution_count": 39,
   "id": "81ded946-aa97-4efd-96ee-60f9a088ff8e",
   "metadata": {},
   "outputs": [],
   "source": [
    "def encode_categorical(input, list):\n",
    "    if input in list:\n",
    "        return float(list.index(input))\n",
    "    else:\n",
    "        return -1.0"
   ]
  },
  {
   "cell_type": "code",
   "execution_count": 40,
   "id": "b2bcfa7c-4ad8-4a27-ad37-9b1c58a80699",
   "metadata": {},
   "outputs": [
    {
     "data": {
      "text/html": [
       "<div>\n",
       "<style scoped>\n",
       "    .dataframe tbody tr th:only-of-type {\n",
       "        vertical-align: middle;\n",
       "    }\n",
       "\n",
       "    .dataframe tbody tr th {\n",
       "        vertical-align: top;\n",
       "    }\n",
       "\n",
       "    .dataframe thead th {\n",
       "        text-align: right;\n",
       "    }\n",
       "</style>\n",
       "<table border=\"1\" class=\"dataframe\">\n",
       "  <thead>\n",
       "    <tr style=\"text-align: right;\">\n",
       "      <th></th>\n",
       "      <th>Make</th>\n",
       "      <th>Vehicle Class</th>\n",
       "      <th>Engine Size(L)</th>\n",
       "      <th>Cylinders</th>\n",
       "      <th>Transmission</th>\n",
       "      <th>Fuel Type</th>\n",
       "    </tr>\n",
       "  </thead>\n",
       "  <tbody>\n",
       "    <tr>\n",
       "      <th>0</th>\n",
       "      <td>18.0</td>\n",
       "      <td>2.0</td>\n",
       "      <td>1.5</td>\n",
       "      <td>4.0</td>\n",
       "      <td>7.0</td>\n",
       "      <td>0.0</td>\n",
       "    </tr>\n",
       "    <tr>\n",
       "      <th>1</th>\n",
       "      <td>9.0</td>\n",
       "      <td>9.0</td>\n",
       "      <td>0.0</td>\n",
       "      <td>6.0</td>\n",
       "      <td>14.0</td>\n",
       "      <td>0.0</td>\n",
       "    </tr>\n",
       "    <tr>\n",
       "      <th>2</th>\n",
       "      <td>17.0</td>\n",
       "      <td>4.0</td>\n",
       "      <td>2.0</td>\n",
       "      <td>4.0</td>\n",
       "      <td>2.0</td>\n",
       "      <td>0.0</td>\n",
       "    </tr>\n",
       "    <tr>\n",
       "      <th>3</th>\n",
       "      <td>1.0</td>\n",
       "      <td>14.0</td>\n",
       "      <td>0.0</td>\n",
       "      <td>0.0</td>\n",
       "      <td>0.0</td>\n",
       "      <td>0.0</td>\n",
       "    </tr>\n",
       "    <tr>\n",
       "      <th>4</th>\n",
       "      <td>9.0</td>\n",
       "      <td>4.0</td>\n",
       "      <td>1.8</td>\n",
       "      <td>4.0</td>\n",
       "      <td>1.0</td>\n",
       "      <td>0.0</td>\n",
       "    </tr>\n",
       "  </tbody>\n",
       "</table>\n",
       "</div>"
      ],
      "text/plain": [
       "   Make  Vehicle Class  Engine Size(L)  Cylinders  Transmission  Fuel Type\n",
       "0  18.0            2.0             1.5        4.0           7.0        0.0\n",
       "1   9.0            9.0             0.0        6.0          14.0        0.0\n",
       "2  17.0            4.0             2.0        4.0           2.0        0.0\n",
       "3   1.0           14.0             0.0        0.0           0.0        0.0\n",
       "4   9.0            4.0             1.8        4.0           1.0        0.0"
      ]
     },
     "execution_count": 40,
     "metadata": {},
     "output_type": "execute_result"
    }
   ],
   "source": [
    "cat['Vehicle Class'] = cat['Vehicle Class'].apply(lambda x: encode_categorical(x, unique_vclass))\n",
    "cat['Fuel Type'] = cat['Fuel Type'].apply(lambda x: encode_categorical(x, unique_ftype))\n",
    "cat['Make'] = cat['Make'].apply(lambda x: encode_categorical(x, unique_make))\n",
    "cat['Transmission'] = cat['Transmission'].apply(lambda x: encode_categorical(x, unique_trans))\n",
    "\n",
    "cat.head()"
   ]
  },
  {
   "cell_type": "code",
   "execution_count": 41,
   "id": "e12f11ee-dafa-49f9-ba82-a39ccacb3990",
   "metadata": {},
   "outputs": [
    {
     "data": {
      "text/plain": [
       "21"
      ]
     },
     "execution_count": 41,
     "metadata": {},
     "output_type": "execute_result"
    }
   ],
   "source": [
    "cat['Make'].nunique()"
   ]
  },
  {
   "cell_type": "code",
   "execution_count": 42,
   "id": "d918260e-8fff-4077-a32f-bc67a2a66c15",
   "metadata": {},
   "outputs": [],
   "source": [
    "df['Make'] = cat['Make']\n",
    "df['Vehicle Class'] = cat['Vehicle Class']\n",
    "df['Engine Size(L)'] = cat['Engine Size(L)']\n",
    "df['Transmission'] = cat['Transmission']\n",
    "df['Fuel Type'] = cat['Fuel Type']\n",
    "df['Cylinders'] = cat['Cylinders']"
   ]
  },
  {
   "cell_type": "code",
   "execution_count": 43,
   "id": "f4bac6f3-bddd-495e-b79a-fdcd5c9fe575",
   "metadata": {},
   "outputs": [
    {
     "data": {
      "text/plain": [
       "(   Id  Make  Vehicle Class  Engine Size(L)  Cylinders  Transmission  \\\n",
       " 0   1  18.0            2.0             1.5        4.0           7.0   \n",
       " 1   2   9.0            9.0             0.0        6.0          14.0   \n",
       " 2   3  17.0            4.0             2.0        4.0           2.0   \n",
       " 3   4   1.0           14.0             0.0        0.0           0.0   \n",
       " 4   5   9.0            4.0             1.8        4.0           1.0   \n",
       " \n",
       "    Fuel Type Fuel Consumption City     Fuel Consumption Hwy  \\\n",
       " 0        0.0             8.40 km/L              0.72 L/10km   \n",
       " 1        0.0         7.25 km per L             9.70 L/100km   \n",
       " 2        0.0             9.80 km/L           38.70 mpg Imp.   \n",
       " 3        0.0           1.73 L/10km  11.70 liters per 100 km   \n",
       " 4        0.0          8.10 L/100km           35.76 mpg Imp.   \n",
       " \n",
       "      Fuel Consumption Comb  CO2 Emissions(g/km)  \n",
       " 0              0.98 L/10km                  208  \n",
       " 1            11.96 L/100km                  325  \n",
       " 2           31.76 mpg Imp.                  170  \n",
       " 3  14.78 liters per 100 km                  362  \n",
       " 4   8.01 liters per 100 km                  180  ,\n",
       " Id                          0\n",
       " Make                        0\n",
       " Vehicle Class               0\n",
       " Engine Size(L)              0\n",
       " Cylinders                   0\n",
       " Transmission                0\n",
       " Fuel Type                   0\n",
       " Fuel Consumption City    1568\n",
       " Fuel Consumption Hwy     1701\n",
       " Fuel Consumption Comb    1674\n",
       " CO2 Emissions(g/km)         0\n",
       " dtype: int64)"
      ]
     },
     "execution_count": 43,
     "metadata": {},
     "output_type": "execute_result"
    }
   ],
   "source": [
    "df.head(), df.isnull().sum()"
   ]
  },
  {
   "cell_type": "markdown",
   "id": "28133af0-c755-4f92-8e8f-ce08ba8a5389",
   "metadata": {
    "tags": []
   },
   "source": [
    "## Handles Numerical Values"
   ]
  },
  {
   "cell_type": "code",
   "execution_count": 44,
   "id": "2d473990-2482-4c59-90a3-612199a738ff",
   "metadata": {},
   "outputs": [],
   "source": [
    "import re\n",
    "def recognize_format_fuelX(input_data):\n",
    "    types_counter = []\n",
    "\n",
    "\n",
    "    mpg_to_l_per_100km = 235.214583\n",
    "    l_per_10km_to_l_per_100km = 10\n",
    "\n",
    "    for val in input_data:\n",
    "        if isinstance(val, str):\n",
    "            if re.search(r'(L/100km|L/100 km|liters per 100 km)$', val):\n",
    "                value = float(re.search(r'\\d+.\\d+', val).group())\n",
    "                if value != 0:  # Avoid division by zero\n",
    "                    types_counter.append(100 / value)\n",
    "                else:\n",
    "                    types_counter.append(np.nan)\n",
    "\n",
    "            elif re.search(r'(km/L|km per L)$', val):\n",
    "                value = float(re.search(r'\\d+.\\d+', val).group())\n",
    "                types_counter.append(value * 100)\n",
    "\n",
    "            elif re.search(r'(mpg Imp.|MPG (AS))$', val, re.IGNORECASE):\n",
    "                value = float(re.search(r'\\d+.\\d+', val).group())\n",
    "                if value != 0: \n",
    "                    types_counter.append(mpg_to_l_per_100km / value)\n",
    "                else:\n",
    "                    types_counter.append(np.nan)\n",
    "            elif re.search(r'(\\d+(.\\d+)?\\sL/10\\skm)$', val):\n",
    "                value = float(re.search(r'\\d+(.\\d+)?', val).group())\n",
    "                if value != 0:\n",
    "                    types_counter.append(1000 / (value / l_per_10km_to_l_per_100km))\n",
    "                else:\n",
    "                    types_counter.append(np.nan)\n",
    "            elif val == 'zero':\n",
    "                types_counter.append(0)\n",
    "\n",
    "            else:\n",
    "                types_counter.append(np.nan)\n",
    "\n",
    "        else:\n",
    "            types_counter.append(np.nan)\n",
    "\n",
    "    return types_counter\n",
    "fuel_consumption_column = df['Fuel Consumption City']\n",
    "converted_data = recognize_format_fuelX(fuel_consumption_column)\n",
    "fuel_consumption_column = df['Fuel Consumption Hwy']\n",
    "converted_data1 = recognize_format_fuelX(fuel_consumption_column)\n",
    "fuel_consumption_column = df['Fuel Consumption Comb']\n",
    "converted_data2 = recognize_format_fuelX(fuel_consumption_column)\n",
    "\n",
    "df['Fuel Consumption City'] = converted_data\n",
    "df['Fuel Consumption Hwy'] = converted_data1\n",
    "df['Fuel Consumption Comb'] = converted_data2\n",
    "\n"
   ]
  },
  {
   "cell_type": "markdown",
   "id": "dfe0b24b-e84a-4d20-8802-96164f6dd825",
   "metadata": {},
   "source": [
    "### Step 2: Compute missing values in Fuel Consumption Comb using the formula"
   ]
  },
  {
   "cell_type": "code",
   "execution_count": 45,
   "id": "94921358-0c6c-4e4d-8cc0-30a79ab08dee",
   "metadata": {},
   "outputs": [],
   "source": [
    "missing_comb_mask = df['Fuel Consumption Comb'].isnull()\n",
    "df.loc[missing_comb_mask, 'Fuel Consumption Comb'] = 0.55 * df['Fuel Consumption City'] + 0.45 * df['Fuel Consumption Hwy']"
   ]
  },
  {
   "cell_type": "markdown",
   "id": "2ce8003e-2d90-4f61-b9a2-fdbc1e281c1a",
   "metadata": {},
   "source": [
    "### Step 3: Fill in missing values in Fuel Consumption City and Fuel Consumption Hwy"
   ]
  },
  {
   "cell_type": "code",
   "execution_count": 46,
   "id": "c2f4a5da-3f9e-4148-862c-e1d20c15a345",
   "metadata": {},
   "outputs": [],
   "source": [
    "missing_city_mask = df['Fuel Consumption City'].isnull()\n",
    "missing_hwy_mask = df['Fuel Consumption Hwy'].isnull()"
   ]
  },
  {
   "cell_type": "markdown",
   "id": "24ac7ac1-95b3-43ce-9f20-ea076da919c8",
   "metadata": {},
   "source": [
    "### Calculate missing values in Fuel Consumption City and Hwy using Comb and the other known value"
   ]
  },
  {
   "cell_type": "code",
   "execution_count": 47,
   "id": "7846d20e-b345-4953-aa00-b524239c42fc",
   "metadata": {},
   "outputs": [],
   "source": [
    "df.loc[missing_city_mask, 'Fuel Consumption City'] = (df.loc[missing_city_mask, 'Fuel Consumption Comb'] - 0.45 * df.loc[missing_city_mask, 'Fuel Consumption Hwy']) / 0.55\n",
    "df.loc[missing_hwy_mask, 'Fuel Consumption Hwy'] = (df.loc[missing_hwy_mask, 'Fuel Consumption Comb'] - 0.55 * df.loc[missing_hwy_mask, 'Fuel Consumption City']) / 0.45"
   ]
  },
  {
   "cell_type": "markdown",
   "id": "1975e775-e9d1-4bb2-959a-945b0490bc79",
   "metadata": {},
   "source": [
    "### Drop rows with any remaining NaN values in these columns"
   ]
  },
  {
   "cell_type": "code",
   "execution_count": 48,
   "id": "2221b1f4-b4a9-4755-a5f0-c4377f1f2fa0",
   "metadata": {},
   "outputs": [],
   "source": [
    "mean_city = df['Fuel Consumption City'].mean()\n",
    "mean_hwy = df['Fuel Consumption Hwy'].mean()\n",
    "mean_comb = df['Fuel Consumption Comb'].mean()\n",
    "\n",
    "# Fill null values with the means\n",
    "df['Fuel Consumption City'].fillna(mean_city, inplace=True)\n",
    "df['Fuel Consumption Hwy'].fillna(mean_hwy, inplace=True)\n",
    "df['Fuel Consumption Comb'].fillna(mean_comb, inplace=True)"
   ]
  },
  {
   "cell_type": "code",
   "execution_count": 49,
   "id": "bbcb6a65-ac6c-41c1-a9c8-1f8a0dfcdf6d",
   "metadata": {},
   "outputs": [
    {
     "data": {
      "text/html": [
       "<div>\n",
       "<style scoped>\n",
       "    .dataframe tbody tr th:only-of-type {\n",
       "        vertical-align: middle;\n",
       "    }\n",
       "\n",
       "    .dataframe tbody tr th {\n",
       "        vertical-align: top;\n",
       "    }\n",
       "\n",
       "    .dataframe thead th {\n",
       "        text-align: right;\n",
       "    }\n",
       "</style>\n",
       "<table border=\"1\" class=\"dataframe\">\n",
       "  <thead>\n",
       "    <tr style=\"text-align: right;\">\n",
       "      <th></th>\n",
       "      <th>Id</th>\n",
       "      <th>Make</th>\n",
       "      <th>Vehicle Class</th>\n",
       "      <th>Engine Size(L)</th>\n",
       "      <th>Cylinders</th>\n",
       "      <th>Transmission</th>\n",
       "      <th>Fuel Type</th>\n",
       "      <th>Fuel Consumption City</th>\n",
       "      <th>Fuel Consumption Hwy</th>\n",
       "      <th>Fuel Consumption Comb</th>\n",
       "      <th>CO2 Emissions(g/km)</th>\n",
       "    </tr>\n",
       "  </thead>\n",
       "  <tbody>\n",
       "    <tr>\n",
       "      <th>0</th>\n",
       "      <td>1</td>\n",
       "      <td>18.0</td>\n",
       "      <td>2.0</td>\n",
       "      <td>1.5</td>\n",
       "      <td>4.0</td>\n",
       "      <td>7.0</td>\n",
       "      <td>0.0</td>\n",
       "      <td>840.000000</td>\n",
       "      <td>381.904671</td>\n",
       "      <td>327.125916</td>\n",
       "      <td>208</td>\n",
       "    </tr>\n",
       "    <tr>\n",
       "      <th>1</th>\n",
       "      <td>2</td>\n",
       "      <td>9.0</td>\n",
       "      <td>9.0</td>\n",
       "      <td>0.0</td>\n",
       "      <td>6.0</td>\n",
       "      <td>14.0</td>\n",
       "      <td>0.0</td>\n",
       "      <td>725.000000</td>\n",
       "      <td>10.309278</td>\n",
       "      <td>8.361204</td>\n",
       "      <td>325</td>\n",
       "    </tr>\n",
       "    <tr>\n",
       "      <th>2</th>\n",
       "      <td>3</td>\n",
       "      <td>17.0</td>\n",
       "      <td>4.0</td>\n",
       "      <td>2.0</td>\n",
       "      <td>4.0</td>\n",
       "      <td>2.0</td>\n",
       "      <td>0.0</td>\n",
       "      <td>980.000000</td>\n",
       "      <td>6.077896</td>\n",
       "      <td>7.406001</td>\n",
       "      <td>170</td>\n",
       "    </tr>\n",
       "    <tr>\n",
       "      <th>3</th>\n",
       "      <td>4</td>\n",
       "      <td>1.0</td>\n",
       "      <td>14.0</td>\n",
       "      <td>0.0</td>\n",
       "      <td>0.0</td>\n",
       "      <td>0.0</td>\n",
       "      <td>0.0</td>\n",
       "      <td>5.308629</td>\n",
       "      <td>8.547009</td>\n",
       "      <td>6.765900</td>\n",
       "      <td>362</td>\n",
       "    </tr>\n",
       "    <tr>\n",
       "      <th>4</th>\n",
       "      <td>5</td>\n",
       "      <td>9.0</td>\n",
       "      <td>4.0</td>\n",
       "      <td>1.8</td>\n",
       "      <td>4.0</td>\n",
       "      <td>1.0</td>\n",
       "      <td>0.0</td>\n",
       "      <td>12.345679</td>\n",
       "      <td>6.577589</td>\n",
       "      <td>12.484395</td>\n",
       "      <td>180</td>\n",
       "    </tr>\n",
       "  </tbody>\n",
       "</table>\n",
       "</div>"
      ],
      "text/plain": [
       "   Id  Make  Vehicle Class  Engine Size(L)  Cylinders  Transmission  \\\n",
       "0   1  18.0            2.0             1.5        4.0           7.0   \n",
       "1   2   9.0            9.0             0.0        6.0          14.0   \n",
       "2   3  17.0            4.0             2.0        4.0           2.0   \n",
       "3   4   1.0           14.0             0.0        0.0           0.0   \n",
       "4   5   9.0            4.0             1.8        4.0           1.0   \n",
       "\n",
       "   Fuel Type  Fuel Consumption City  Fuel Consumption Hwy  \\\n",
       "0        0.0             840.000000            381.904671   \n",
       "1        0.0             725.000000             10.309278   \n",
       "2        0.0             980.000000              6.077896   \n",
       "3        0.0               5.308629              8.547009   \n",
       "4        0.0              12.345679              6.577589   \n",
       "\n",
       "   Fuel Consumption Comb  CO2 Emissions(g/km)  \n",
       "0             327.125916                  208  \n",
       "1               8.361204                  325  \n",
       "2               7.406001                  170  \n",
       "3               6.765900                  362  \n",
       "4              12.484395                  180  "
      ]
     },
     "execution_count": 49,
     "metadata": {},
     "output_type": "execute_result"
    }
   ],
   "source": [
    "df.head()"
   ]
  },
  {
   "cell_type": "code",
   "execution_count": 50,
   "id": "aec4fdca-d9a1-4f40-943c-54707dc0dfc9",
   "metadata": {},
   "outputs": [
    {
     "data": {
      "text/plain": [
       "Id                       0\n",
       "Make                     0\n",
       "Vehicle Class            0\n",
       "Engine Size(L)           0\n",
       "Cylinders                0\n",
       "Transmission             0\n",
       "Fuel Type                0\n",
       "Fuel Consumption City    0\n",
       "Fuel Consumption Hwy     0\n",
       "Fuel Consumption Comb    0\n",
       "CO2 Emissions(g/km)      0\n",
       "dtype: int64"
      ]
     },
     "execution_count": 50,
     "metadata": {},
     "output_type": "execute_result"
    }
   ],
   "source": [
    "df.isnull().sum()"
   ]
  },
  {
   "cell_type": "markdown",
   "id": "055a2c3d-a874-4526-abf6-9bf0dc629ade",
   "metadata": {
    "tags": []
   },
   "source": [
    "## Modelling"
   ]
  },
  {
   "cell_type": "code",
   "execution_count": 51,
   "id": "a6625c43",
   "metadata": {},
   "outputs": [],
   "source": [
    "X = df.iloc[:, :-1] \n",
    "y = df.iloc[:, -1]\n",
    "from sklearn.model_selection import train_test_split\n",
    "X_train, X_test, y_train, y_test = train_test_split(X, y, test_size=0.2)"
   ]
  },
  {
   "cell_type": "code",
   "execution_count": 52,
   "id": "f86be631",
   "metadata": {},
   "outputs": [
    {
     "name": "stdout",
     "output_type": "stream",
     "text": [
      "          Id  Make  Vehicle Class  Engine Size(L)  Cylinders  Transmission  \\\n",
      "34013  34014   2.0            6.0             4.4        0.0           4.0   \n",
      "37209  37210   9.0           12.0             1.8        4.0          -1.0   \n",
      "3022    3023  14.0            8.0             1.4        4.0           0.0   \n",
      "26500  26501   2.0            4.0             3.0        6.0          12.0   \n",
      "18897  18898   2.0            4.0             2.0        4.0           4.0   \n",
      "...      ...   ...            ...             ...        ...           ...   \n",
      "23098  23099  15.0            5.0             5.7        0.0          14.0   \n",
      "37132  37133  18.0            2.0             2.0        4.0          10.0   \n",
      "12045  12046  18.0            4.0             0.0        4.0          10.0   \n",
      "52421  52422   8.0            4.0             1.8        4.0           8.0   \n",
      "21781  21782   9.0            4.0             1.5        4.0          13.0   \n",
      "\n",
      "       Fuel Type  Fuel Consumption City  Fuel Consumption Hwy  \\\n",
      "34013        2.0               6.535948             10.869565   \n",
      "37209        0.0            1986.412635              5.495668   \n",
      "3022         0.0               6.578947           1638.625731   \n",
      "26500        2.0             295.900799              9.900990   \n",
      "18897        2.0             962.000000            381.904671   \n",
      "...          ...                    ...                   ...   \n",
      "23098        0.0               6.329114            704.000000   \n",
      "37132        0.0            -936.358563           1163.000000   \n",
      "12045        0.0              16.518687              6.077896   \n",
      "52421        0.0            1087.000000              6.661416   \n",
      "21781        0.0              10.869565             12.345679   \n",
      "\n",
      "       Fuel Consumption Comb  \n",
      "34013               7.968127  \n",
      "37209            1095.000000  \n",
      "3022              741.000000  \n",
      "26500             327.125916  \n",
      "18897             327.125916  \n",
      "...                      ...  \n",
      "23098             320.281013  \n",
      "37132               8.352791  \n",
      "12045              11.820331  \n",
      "52421              11.547344  \n",
      "21781              11.533816  \n",
      "\n",
      "[43949 rows x 10 columns]\n"
     ]
    }
   ],
   "source": [
    "print(X_train)"
   ]
  },
  {
   "cell_type": "code",
   "execution_count": 53,
   "id": "c3499166",
   "metadata": {},
   "outputs": [
    {
     "name": "stdout",
     "output_type": "stream",
     "text": [
      "21.59003756153266\n"
     ]
    }
   ],
   "source": [
    "import xgboost as xgb\n",
    "from sklearn.metrics import mean_squared_error\n",
    "xgbr = xgb.XGBRegressor()\n",
    "xgbr.fit(X_train, y_train)\n",
    "y_pred = xgbr.predict(X_test)\n",
    "print(mean_squared_error(y_test, y_pred, squared=False))"
   ]
  },
  {
   "cell_type": "code",
   "execution_count": 54,
   "id": "851f626f",
   "metadata": {},
   "outputs": [],
   "source": [
    "#from sklearn.svm import SVR\n",
    "#from sklearn.metrics import mean_squared_error\n",
    "#svr = SVR()\n",
    "#svr.fit(X_train, y_train)\n",
    "#y_pred = svr.predict(X_test)\n",
    "#print(mean_squared_error(y_test, y_pred, squared=False))"
   ]
  },
  {
   "cell_type": "markdown",
   "id": "d69e2d97-a3c2-4073-b374-187f7c1e8779",
   "metadata": {
    "jp-MarkdownHeadingCollapsed": true,
    "tags": []
   },
   "source": [
    "# TEST"
   ]
  },
  {
   "cell_type": "code",
   "execution_count": 55,
   "id": "dc12d4a4",
   "metadata": {},
   "outputs": [
    {
     "data": {
      "text/plain": [
       "(23545, 10)"
      ]
     },
     "execution_count": 55,
     "metadata": {},
     "output_type": "execute_result"
    }
   ],
   "source": [
    "test = pd.read_csv('test.csv')\n",
    "test.shape"
   ]
  },
  {
   "cell_type": "markdown",
   "id": "892f4ff4-3073-4e33-b8d6-5b2e02f06b4a",
   "metadata": {
    "tags": []
   },
   "source": [
    "## Handles Categorical Data"
   ]
  },
  {
   "cell_type": "code",
   "execution_count": 56,
   "id": "fec43203",
   "metadata": {},
   "outputs": [
    {
     "data": {
      "text/html": [
       "<div>\n",
       "<style scoped>\n",
       "    .dataframe tbody tr th:only-of-type {\n",
       "        vertical-align: middle;\n",
       "    }\n",
       "\n",
       "    .dataframe tbody tr th {\n",
       "        vertical-align: top;\n",
       "    }\n",
       "\n",
       "    .dataframe thead th {\n",
       "        text-align: right;\n",
       "    }\n",
       "</style>\n",
       "<table border=\"1\" class=\"dataframe\">\n",
       "  <thead>\n",
       "    <tr style=\"text-align: right;\">\n",
       "      <th></th>\n",
       "      <th>Make</th>\n",
       "      <th>Vehicle Class</th>\n",
       "      <th>Engine Size(L)</th>\n",
       "      <th>Cylinders</th>\n",
       "      <th>Transmission</th>\n",
       "      <th>Fuel Type</th>\n",
       "    </tr>\n",
       "  </thead>\n",
       "  <tbody>\n",
       "    <tr>\n",
       "      <th>0</th>\n",
       "      <td>FOLD</td>\n",
       "      <td>PICKUP TRUCK - STANDARD</td>\n",
       "      <td>5.0</td>\n",
       "      <td>8.0</td>\n",
       "      <td>AS10</td>\n",
       "      <td>X</td>\n",
       "    </tr>\n",
       "    <tr>\n",
       "      <th>1</th>\n",
       "      <td>BMV</td>\n",
       "      <td>COMPACT</td>\n",
       "      <td>2.0</td>\n",
       "      <td>4.0</td>\n",
       "      <td>A8</td>\n",
       "      <td>Z</td>\n",
       "    </tr>\n",
       "    <tr>\n",
       "      <th>2</th>\n",
       "      <td>JIPU</td>\n",
       "      <td>SUV - SMALL</td>\n",
       "      <td>1.3</td>\n",
       "      <td>4.0</td>\n",
       "      <td>A9</td>\n",
       "      <td>X</td>\n",
       "    </tr>\n",
       "    <tr>\n",
       "      <th>3</th>\n",
       "      <td>LECUS</td>\n",
       "      <td>SUV - SMALL</td>\n",
       "      <td>not-recorded</td>\n",
       "      <td>4.0</td>\n",
       "      <td>AS6</td>\n",
       "      <td>Z</td>\n",
       "    </tr>\n",
       "    <tr>\n",
       "      <th>4</th>\n",
       "      <td>BARUSU</td>\n",
       "      <td>COMPACT</td>\n",
       "      <td>2.0</td>\n",
       "      <td>unestablished</td>\n",
       "      <td>M6</td>\n",
       "      <td>Z</td>\n",
       "    </tr>\n",
       "  </tbody>\n",
       "</table>\n",
       "</div>"
      ],
      "text/plain": [
       "     Make            Vehicle Class Engine Size(L)      Cylinders Transmission  \\\n",
       "0    FOLD  PICKUP TRUCK - STANDARD            5.0            8.0         AS10   \n",
       "1     BMV                  COMPACT            2.0            4.0           A8   \n",
       "2    JIPU              SUV - SMALL            1.3            4.0           A9   \n",
       "3   LECUS              SUV - SMALL   not-recorded            4.0          AS6   \n",
       "4  BARUSU                  COMPACT            2.0  unestablished           M6   \n",
       "\n",
       "  Fuel Type  \n",
       "0         X  \n",
       "1         Z  \n",
       "2         X  \n",
       "3         Z  \n",
       "4         Z  "
      ]
     },
     "execution_count": 56,
     "metadata": {},
     "output_type": "execute_result"
    }
   ],
   "source": [
    "cat_columns =[column for column in test.columns if test[column].nunique() < 100]\n",
    "cat = pd.DataFrame(test[cat_columns])\n",
    "\n",
    "cat.head()"
   ]
  },
  {
   "cell_type": "code",
   "execution_count": 57,
   "id": "f4fc4c7d",
   "metadata": {},
   "outputs": [
    {
     "data": {
      "text/plain": [
       "Make                0\n",
       "Vehicle Class     219\n",
       "Engine Size(L)    632\n",
       "Cylinders         506\n",
       "Transmission      163\n",
       "Fuel Type         221\n",
       "dtype: int64"
      ]
     },
     "execution_count": 57,
     "metadata": {},
     "output_type": "execute_result"
    }
   ],
   "source": [
    "cat.isnull().sum()"
   ]
  },
  {
   "cell_type": "code",
   "execution_count": 58,
   "id": "ebab97da-6ef8-49e6-8018-131342dcb7a4",
   "metadata": {},
   "outputs": [],
   "source": [
    "#Create list of unique value of each categories\n",
    "unique_eclass = ['3.5', '5.3', '4.4',  '3.0', '1.8', '2.0',\n",
    "        '3.6', '2.5','2.4', '2.3', '1.4', '1.6', '5.0'\n",
    "        '1.3', '6.2', '4.8', '2.7', '6.0', '3.2', '6.5', '5.7', '3.7',\n",
    "        '1.2', '4.0', '3.3', '1.5', '5.2',\n",
    "        '3.8', '2.8', '4.6', '6.4',\n",
    "        '4.3', '6.6', '5.4', '1.0', '5.6', '5.8', '8.4', '3.4', '4.2',\n",
    "        '6.8', '2.2']\n",
    "\n",
    "unique_cyl = ['6.0', '4.0', '8.0' '12.0','3.0', '5.0', '10.0']\n",
    "\n",
    "unique_vclass = ['PICKUP TRUCK - STANDARD', 'SUBCOMPACT', 'SUV - SMALL',\n",
    "        'MINICOMPACT', 'COMPACT', 'FULL-SIZE', 'SUV - STANDARD', 'MINIVAN',\n",
    "        'STATION WAGON - SMALL', 'PICKUP TRUCK - SMALL',\n",
    "        'TWO-SEATER', 'STATION WAGON - MID-SIZE', 'MID-SIZE',\n",
    "        'SPECIAL PURPOSE VEHICLE', 'VAN - PASSENGER', 'VAN - CARGO']\n",
    "\n",
    "unique_make = ['FOLD', 'CHEVO', 'BMV', 'KIO', 'BARUSU', 'LECUS', 'GONDA',\n",
    "        'LAND CRAWLER', 'FOLKSWA', 'TOYOTI', 'JIPU', 'TOLVO', 'ASURA',\n",
    "        'NIRRAN', 'FIAR', 'DOGE', 'CADILUXE', 'MATSUDA', 'MITSU',\n",
    "        'RYUNDAI', 'LAMBOGI']\n",
    "\n",
    "unique_ftype = ['X', 'E', 'Z', 'D', 'N']\n",
    "\n",
    "unique_trans = ['A6', 'M6', 'AS6', 'AV7', 'AS8',\n",
    "        'A9', 'AV', 'AV8', 'M5', 'A8', 'AV6', 'AS10',\n",
    "        'AM7', 'A4', 'A5', 'AS7', 'AM6', 'AS5', 'AS9', 'AM9', 'AV10', 'AM8', 'M7',\n",
    "        'A10', 'A7']"
   ]
  },
  {
   "cell_type": "code",
   "execution_count": 59,
   "id": "92596364-f863-40ac-8d24-1f99d6457928",
   "metadata": {},
   "outputs": [],
   "source": [
    "def fillna_temp(input, list):\n",
    "    if not input or input not in list:\n",
    "        return 'Null'\n",
    "    else:\n",
    "        return input\n",
    "    \n",
    "cat['Fuel Type'] = cat['Fuel Type'].apply(lambda x : fillna_temp(x, unique_ftype))\n",
    "cat['Engine Size(L)'] = cat['Engine Size(L)'].apply(lambda x : fillna_temp(x, unique_eclass))\n",
    "cat['Transmission'] = cat['Transmission'].apply(lambda x : fillna_temp(x, unique_trans))\n",
    "cat['Vehicle Class'] = cat['Vehicle Class'].apply(lambda x: fillna_temp(x, unique_vclass))\n",
    "cat['Make'] = cat['Make'].apply(lambda x : fillna_temp(x, unique_make))\n",
    "cat['Cylinders'] = cat['Cylinders'].apply(lambda x : fillna_temp(x, unique_cyl))\n",
    "\n"
   ]
  },
  {
   "cell_type": "code",
   "execution_count": 60,
   "id": "7f8be63d-f6fa-423b-91cb-8ad155d7c62d",
   "metadata": {},
   "outputs": [
    {
     "name": "stdout",
     "output_type": "stream",
     "text": [
      "['FOLD' 'BMV' 'JIPU' 'LECUS' 'BARUSU' 'CHEVO' 'LAND CRAWLER' 'TOLVO'\n",
      " 'RYUNDAI' 'LAMBOGI' 'KIO' 'TOYOTI' 'ASURA' 'MITSU' 'DOGE' 'CADILUXE'\n",
      " 'GONDA' 'MATSUDA' 'NIRRAN' 'FOLKSWA' 'FIAR']\n",
      "========================\n",
      "['PICKUP TRUCK - STANDARD' 'COMPACT' 'SUV - SMALL' 'TWO-SEATER'\n",
      " 'SUV - STANDARD' 'MID-SIZE' 'Null' 'FULL-SIZE' 'SUBCOMPACT'\n",
      " 'STATION WAGON - SMALL' 'VAN - PASSENGER' 'PICKUP TRUCK - SMALL'\n",
      " 'SPECIAL PURPOSE VEHICLE' 'MINIVAN' 'MINICOMPACT' 'VAN - CARGO'\n",
      " 'STATION WAGON - MID-SIZE']\n",
      "========================\n",
      "['Null' '2.0' '6.2' '1.8' '4.4' '1.6' '2.4' '3.0' '1.4' '6.0' '5.2' '3.5'\n",
      " '3.3' '2.5' '2.3' '3.2' '3.6' '3.8' '1.0' '4.8' '2.8' '2.7' '5.6' '1.5'\n",
      " '5.3' '5.8' '6.6' '5.7' '6.4' '8.4' '4.6' '5.4' '3.7' '4.0' '1.2' '4.3'\n",
      " '6.5' '3.4' '6.8' '2.2' '4.2']\n",
      "========================\n",
      "['Null' '4.0' '10.0' '6.0' '3.0' '5.0']\n",
      "========================\n",
      "['AS10' 'A8' 'A9' 'AS6' 'M6' 'M7' 'AS8' 'A6' 'AM7' 'M5' 'AS9' 'AV7' 'AV6'\n",
      " 'Null' 'AV' 'AM6' 'A5' 'AS7' 'A4' 'AV8' 'AS5' 'A10' 'AM8' 'AV10' 'AM9'\n",
      " 'A7']\n",
      "========================\n",
      "['X' 'Z' 'D' 'Null' 'E' 'N']\n",
      "========================\n"
     ]
    }
   ],
   "source": [
    "for col in cat.columns:\n",
    "    print(cat[col].unique())\n",
    "    print('========================')"
   ]
  },
  {
   "cell_type": "markdown",
   "id": "f32f0e03-44ad-49d7-b057-2e51d279a9e3",
   "metadata": {},
   "source": [
    "### Vehicle Class"
   ]
  },
  {
   "cell_type": "code",
   "execution_count": 61,
   "id": "04881748",
   "metadata": {},
   "outputs": [
    {
     "data": {
      "text/plain": [
       "('CHEVO', 'PICKUP TRUCK - STANDARD')"
      ]
     },
     "execution_count": 61,
     "metadata": {},
     "output_type": "execute_result"
    }
   ],
   "source": [
    "grouped = cat.groupby(['Make', 'Vehicle Class'])['Vehicle Class'].count()\n",
    "max_vc_per_make = grouped.groupby('Make').idxmax()\n",
    "\n",
    "#Test the result\n",
    "max_vc_per_make['CHEVO']\n"
   ]
  },
  {
   "cell_type": "code",
   "execution_count": 62,
   "id": "3f1b7f3b",
   "metadata": {},
   "outputs": [
    {
     "data": {
      "text/plain": [
       "0"
      ]
     },
     "execution_count": 62,
     "metadata": {},
     "output_type": "execute_result"
    }
   ],
   "source": [
    "cat['Vehicle Class'].isnull().sum()"
   ]
  },
  {
   "cell_type": "code",
   "execution_count": 63,
   "id": "034e3169",
   "metadata": {},
   "outputs": [],
   "source": [
    "def fill_vc(make, vc):\n",
    "    if vc == 'Null':\n",
    "        return max_vc_per_make[make][1]\n",
    "    else:\n",
    "        return vc \n",
    "\n",
    "cat['Vehicle Class'] = cat.apply(lambda x: fill_vc(x['Make'], x['Vehicle Class']), axis=1)\n",
    "\n",
    "    "
   ]
  },
  {
   "cell_type": "markdown",
   "id": "f654937a-498a-4a31-b38e-c897162b08ae",
   "metadata": {},
   "source": [
    "### Fuel Type"
   ]
  },
  {
   "cell_type": "code",
   "execution_count": 64,
   "id": "894cad94",
   "metadata": {},
   "outputs": [],
   "source": [
    "grouped = cat.groupby(['Make', 'Vehicle Class', 'Fuel Type'])['Fuel Type'].count()\n",
    "\n",
    "grouped_fuel_type = grouped.groupby(['Make', 'Vehicle Class']).idxmax()\n",
    "\n",
    "def fill_ft(make, vc, ft):\n",
    "    fuel_types_per_mvc = grouped_fuel_type[make][vc][2]\n",
    "    if ft == 'Null':\n",
    "        return fuel_types_per_mvc\n",
    "    else:\n",
    "        return ft\n",
    "    \n",
    "cat['Fuel Type'] = cat.apply(lambda x: fill_ft(x['Make'], x['Vehicle Class'], x['Fuel Type']), axis=1)\n"
   ]
  },
  {
   "cell_type": "markdown",
   "id": "3b83252a-d160-4f13-9c28-dc5173e8606e",
   "metadata": {},
   "source": [
    "### Engine Size and Cylinders"
   ]
  },
  {
   "cell_type": "code",
   "execution_count": 65,
   "id": "c06cd78f",
   "metadata": {},
   "outputs": [],
   "source": [
    "def change_to_float(x):\n",
    "    try:\n",
    "        return float(x) \n",
    "    except ValueError:\n",
    "        return 0.0\n",
    "    \n",
    "\n",
    "\n",
    "cat['Engine Size(L)'] = cat['Engine Size(L)'].apply(change_to_float)\n",
    "cat['Cylinders'] = cat['Cylinders'].apply(change_to_float)"
   ]
  },
  {
   "cell_type": "code",
   "execution_count": 66,
   "id": "d728244d",
   "metadata": {},
   "outputs": [
    {
     "data": {
      "text/plain": [
       "Engine Size(L)\n",
       "0.0     (0.0, 0.0)\n",
       "1.0     (1.0, 3.0)\n",
       "1.2     (1.2, 3.0)\n",
       "1.4     (1.4, 4.0)\n",
       "1.5     (1.5, 4.0)\n",
       "1.6     (1.6, 4.0)\n",
       "1.8     (1.8, 4.0)\n",
       "2.0     (2.0, 4.0)\n",
       "2.2     (2.2, 4.0)\n",
       "2.3     (2.3, 4.0)\n",
       "2.4     (2.4, 4.0)\n",
       "2.5     (2.5, 4.0)\n",
       "2.7     (2.7, 6.0)\n",
       "2.8     (2.8, 4.0)\n",
       "3.0     (3.0, 6.0)\n",
       "3.2     (3.2, 6.0)\n",
       "3.3     (3.3, 6.0)\n",
       "3.4     (3.4, 6.0)\n",
       "3.5     (3.5, 6.0)\n",
       "3.6     (3.6, 6.0)\n",
       "3.7     (3.7, 6.0)\n",
       "3.8     (3.8, 6.0)\n",
       "4.0     (4.0, 6.0)\n",
       "4.2     (4.2, 0.0)\n",
       "4.3     (4.3, 6.0)\n",
       "4.4     (4.4, 0.0)\n",
       "4.6     (4.6, 0.0)\n",
       "4.8     (4.8, 0.0)\n",
       "5.2    (5.2, 10.0)\n",
       "5.3     (5.3, 0.0)\n",
       "5.4     (5.4, 0.0)\n",
       "5.6     (5.6, 0.0)\n",
       "5.7     (5.7, 0.0)\n",
       "5.8     (5.8, 0.0)\n",
       "6.0     (6.0, 0.0)\n",
       "6.2     (6.2, 0.0)\n",
       "6.4     (6.4, 0.0)\n",
       "6.5     (6.5, 0.0)\n",
       "6.6     (6.6, 0.0)\n",
       "6.8    (6.8, 10.0)\n",
       "8.4    (8.4, 10.0)\n",
       "Name: Cylinders, dtype: object"
      ]
     },
     "execution_count": 66,
     "metadata": {},
     "output_type": "execute_result"
    }
   ],
   "source": [
    "grouped_by_es = cat.groupby(['Engine Size(L)', 'Cylinders'])['Cylinders'].count()\n",
    "max_cyl_per_es = grouped_by_es.groupby('Engine Size(L)').idxmax()\n",
    "\n",
    "max_cyl_per_es"
   ]
  },
  {
   "cell_type": "code",
   "execution_count": 67,
   "id": "f7aa197a",
   "metadata": {},
   "outputs": [
    {
     "data": {
      "text/plain": [
       "Cylinders\n",
       "0.0      (0.0, 0.0)\n",
       "3.0      (3.0, 1.2)\n",
       "4.0      (4.0, 2.0)\n",
       "5.0      (5.0, 2.5)\n",
       "6.0      (6.0, 3.5)\n",
       "10.0    (10.0, 5.2)\n",
       "Name: Engine Size(L), dtype: object"
      ]
     },
     "execution_count": 67,
     "metadata": {},
     "output_type": "execute_result"
    }
   ],
   "source": [
    "grouped = cat.groupby(['Cylinders', 'Engine Size(L)'])['Engine Size(L)'].count()\n",
    "max_es_per_cyl= grouped.groupby('Cylinders').idxmax()\n",
    "\n",
    "max_es_per_cyl"
   ]
  },
  {
   "cell_type": "code",
   "execution_count": 68,
   "id": "2cbb8f53",
   "metadata": {},
   "outputs": [
    {
     "data": {
      "text/plain": [
       "(Engine Size(L)    0\n",
       " Cylinders         0\n",
       " dtype: int64,\n",
       " array([0. , 2. , 6.2, 1.8, 4.4, 1.6, 2.4, 3. , 1.4, 6. , 5.2, 3.5, 3.3,\n",
       "        2.5, 2.3, 3.2, 3.6, 3.8, 1. , 4.8, 2.8, 2.7, 5.6, 1.5, 5.3, 5.8,\n",
       "        6.6, 5.7, 6.4, 8.4, 4.6, 5.4, 3.7, 4. , 1.2, 4.3, 6.5, 3.4, 6.8,\n",
       "        2.2, 4.2]),\n",
       " array([ 0.,  4., 10.,  6.,  3.,  5.]))"
      ]
     },
     "execution_count": 68,
     "metadata": {},
     "output_type": "execute_result"
    }
   ],
   "source": [
    "cat[['Engine Size(L)', 'Cylinders']].isnull().sum(), cat['Engine Size(L)'].unique(), cat['Cylinders'].unique()"
   ]
  },
  {
   "cell_type": "code",
   "execution_count": 69,
   "id": "68bc266e",
   "metadata": {},
   "outputs": [],
   "source": [
    "def fill_es(cyl, es):\n",
    "    if pd.isnull(es):\n",
    "        if cyl == 'Null':\n",
    "            return max_es_per_cyl[0.0][1]\n",
    "        return max_es_per_cyl[cyl][1]\n",
    "    else:\n",
    "        return es\n",
    "    \n",
    "def fill_cyl(es, cyl):\n",
    "    if pd.isnull(cyl):\n",
    "        if es == 'Null':\n",
    "            return max_cyl_per_es[0.0][1]\n",
    "        return max_cyl_per_es[es][1]\n",
    "    else:\n",
    "        return cyl\n",
    "\n",
    "    \n",
    "cat['Engine Size(L)'] = cat.apply(lambda x: fill_es(x['Cylinders'], x['Engine Size(L)']), axis=1)\n",
    "cat['Cylinders'] = cat.apply(lambda x: fill_cyl(x['Engine Size(L)'], x['Cylinders']), axis=1)"
   ]
  },
  {
   "cell_type": "markdown",
   "id": "987365ab-605d-4c5a-bf20-fce0727ec4d3",
   "metadata": {},
   "source": [
    "### Transmission"
   ]
  },
  {
   "cell_type": "code",
   "execution_count": 70,
   "id": "c9464cba-7ecb-489f-9964-79a8c970df4a",
   "metadata": {},
   "outputs": [],
   "source": [
    "grouped = cat.groupby(['Make', 'Vehicle Class', 'Transmission'])['Transmission'].count()\n",
    "\n",
    "grouped_trans = grouped.groupby(['Make', 'Vehicle Class']).idxmax()\n",
    "\n",
    "def fill_trans(make, vc, trans):\n",
    "    trans_per_mvc = grouped_trans[make][vc][2]\n",
    "    if trans == 'Null':\n",
    "        return trans_per_mvc\n",
    "    else:\n",
    "        return trans\n",
    "\n",
    "cat['Transmission'] = cat.apply(lambda x: fill_ft(x['Make'], x['Vehicle Class'], x['Transmission']), axis=1)\n"
   ]
  },
  {
   "cell_type": "markdown",
   "id": "b5b4ede7-24f0-4963-952e-ee3fb07f3af0",
   "metadata": {},
   "source": [
    "### Encode all the categorical"
   ]
  },
  {
   "cell_type": "code",
   "execution_count": 71,
   "id": "08571fe1",
   "metadata": {},
   "outputs": [],
   "source": [
    "def encode_categorical(input, list):\n",
    "    if input in list:\n",
    "        return float(list.index(input))\n",
    "    else:\n",
    "        return -1.0"
   ]
  },
  {
   "cell_type": "code",
   "execution_count": 72,
   "id": "54771ae2",
   "metadata": {},
   "outputs": [
    {
     "data": {
      "text/html": [
       "<div>\n",
       "<style scoped>\n",
       "    .dataframe tbody tr th:only-of-type {\n",
       "        vertical-align: middle;\n",
       "    }\n",
       "\n",
       "    .dataframe tbody tr th {\n",
       "        vertical-align: top;\n",
       "    }\n",
       "\n",
       "    .dataframe thead th {\n",
       "        text-align: right;\n",
       "    }\n",
       "</style>\n",
       "<table border=\"1\" class=\"dataframe\">\n",
       "  <thead>\n",
       "    <tr style=\"text-align: right;\">\n",
       "      <th></th>\n",
       "      <th>Make</th>\n",
       "      <th>Vehicle Class</th>\n",
       "      <th>Engine Size(L)</th>\n",
       "      <th>Cylinders</th>\n",
       "      <th>Transmission</th>\n",
       "      <th>Fuel Type</th>\n",
       "    </tr>\n",
       "  </thead>\n",
       "  <tbody>\n",
       "    <tr>\n",
       "      <th>0</th>\n",
       "      <td>0.0</td>\n",
       "      <td>0.0</td>\n",
       "      <td>0.0</td>\n",
       "      <td>0.0</td>\n",
       "      <td>11.0</td>\n",
       "      <td>0.0</td>\n",
       "    </tr>\n",
       "    <tr>\n",
       "      <th>1</th>\n",
       "      <td>2.0</td>\n",
       "      <td>4.0</td>\n",
       "      <td>2.0</td>\n",
       "      <td>4.0</td>\n",
       "      <td>9.0</td>\n",
       "      <td>2.0</td>\n",
       "    </tr>\n",
       "    <tr>\n",
       "      <th>2</th>\n",
       "      <td>10.0</td>\n",
       "      <td>2.0</td>\n",
       "      <td>0.0</td>\n",
       "      <td>4.0</td>\n",
       "      <td>5.0</td>\n",
       "      <td>0.0</td>\n",
       "    </tr>\n",
       "    <tr>\n",
       "      <th>3</th>\n",
       "      <td>5.0</td>\n",
       "      <td>2.0</td>\n",
       "      <td>0.0</td>\n",
       "      <td>4.0</td>\n",
       "      <td>2.0</td>\n",
       "      <td>2.0</td>\n",
       "    </tr>\n",
       "    <tr>\n",
       "      <th>4</th>\n",
       "      <td>4.0</td>\n",
       "      <td>4.0</td>\n",
       "      <td>2.0</td>\n",
       "      <td>0.0</td>\n",
       "      <td>1.0</td>\n",
       "      <td>2.0</td>\n",
       "    </tr>\n",
       "  </tbody>\n",
       "</table>\n",
       "</div>"
      ],
      "text/plain": [
       "   Make  Vehicle Class  Engine Size(L)  Cylinders  Transmission  Fuel Type\n",
       "0   0.0            0.0             0.0        0.0          11.0        0.0\n",
       "1   2.0            4.0             2.0        4.0           9.0        2.0\n",
       "2  10.0            2.0             0.0        4.0           5.0        0.0\n",
       "3   5.0            2.0             0.0        4.0           2.0        2.0\n",
       "4   4.0            4.0             2.0        0.0           1.0        2.0"
      ]
     },
     "execution_count": 72,
     "metadata": {},
     "output_type": "execute_result"
    }
   ],
   "source": [
    "cat['Vehicle Class'] = cat['Vehicle Class'].apply(lambda x: encode_categorical(x, unique_vclass))\n",
    "cat['Fuel Type'] = cat['Fuel Type'].apply(lambda x: encode_categorical(x, unique_ftype))\n",
    "cat['Make'] = cat['Make'].apply(lambda x: encode_categorical(x, unique_make))\n",
    "cat['Transmission'] = cat['Transmission'].apply(lambda x: encode_categorical(x, unique_trans))\n",
    "\n",
    "cat.head()"
   ]
  },
  {
   "cell_type": "code",
   "execution_count": 73,
   "id": "b247d60f",
   "metadata": {},
   "outputs": [],
   "source": [
    "test['Make'] = cat['Make']\n",
    "test['Vehicle Class'] = cat['Vehicle Class']\n",
    "test['Engine Size(L)'] = cat['Engine Size(L)']\n",
    "test['Transmission'] = cat['Transmission']\n",
    "test['Fuel Type'] = cat['Fuel Type']\n",
    "test['Cylinders'] = cat['Cylinders']"
   ]
  },
  {
   "cell_type": "markdown",
   "id": "642888cb-be18-4406-b590-977fed9f30ee",
   "metadata": {
    "tags": []
   },
   "source": [
    "## HANDLES NUMERICAL TEST DATA"
   ]
  },
  {
   "cell_type": "code",
   "execution_count": 74,
   "id": "8213c544",
   "metadata": {},
   "outputs": [],
   "source": [
    "import re\n",
    "def recognize_format_fuelX(input_data):\n",
    "    types_counter = []\n",
    "\n",
    "\n",
    "    mpg_to_l_per_100km = 235.214583\n",
    "    l_per_10km_to_l_per_100km = 10\n",
    "\n",
    "    for val in input_data:\n",
    "        if isinstance(val, str):\n",
    "            if re.search(r'(L/100km|L/100 km|liters per 100 km)$', val):\n",
    "                value = float(re.search(r'\\d+.\\d+', val).group())\n",
    "                if value != 0:  # Avoid division by zero\n",
    "                    types_counter.append(100 / value)\n",
    "                else:\n",
    "                    types_counter.append(np.nan)\n",
    "\n",
    "            elif re.search(r'(km/L|km per L)$', val):\n",
    "                value = float(re.search(r'\\d+.\\d+', val).group())\n",
    "                types_counter.append(value * 100)\n",
    "\n",
    "            elif re.search(r'(mpg Imp.|MPG (AS))$', val, re.IGNORECASE):\n",
    "                value = float(re.search(r'\\d+.\\d+', val).group())\n",
    "                if value != 0: \n",
    "                    types_counter.append(mpg_to_l_per_100km / value)\n",
    "                else:\n",
    "                    types_counter.append(np.nan)\n",
    "            elif re.search(r'(\\d+(.\\d+)?\\sL/10\\skm)$', val):\n",
    "                value = float(re.search(r'\\d+(.\\d+)?', val).group())\n",
    "                if value != 0:\n",
    "                    types_counter.append(1000 / (value / l_per_10km_to_l_per_100km))\n",
    "                else:\n",
    "                    types_counter.append(np.nan)\n",
    "            elif val == 'zero':\n",
    "                types_counter.append(0)\n",
    "\n",
    "            else:\n",
    "                types_counter.append(np.nan)\n",
    "\n",
    "        else:\n",
    "            types_counter.append(np.nan)\n",
    "\n",
    "    return types_counter\n",
    "fuel_consumption_column = test['Fuel Consumption City']\n",
    "converted_data = recognize_format_fuelX(fuel_consumption_column)\n",
    "fuel_consumption_column = test['Fuel Consumption Hwy']\n",
    "converted_data1 = recognize_format_fuelX(fuel_consumption_column)\n",
    "fuel_consumption_column = test['Fuel Consumption Comb']\n",
    "converted_data2 = recognize_format_fuelX(fuel_consumption_column)\n",
    "\n",
    "test['Fuel Consumption City'] = converted_data\n",
    "test['Fuel Consumption Hwy'] = converted_data1\n",
    "test['Fuel Consumption Comb'] = converted_data2\n"
   ]
  },
  {
   "cell_type": "code",
   "execution_count": 75,
   "id": "4c33ecbd",
   "metadata": {},
   "outputs": [],
   "source": [
    "missing_comb_mask = test['Fuel Consumption Comb'].isnull()\n",
    "test.loc[missing_comb_mask, 'Fuel Consumption Comb'] = 0.55 * test['Fuel Consumption City'] + 0.45 * test['Fuel Consumption Hwy']"
   ]
  },
  {
   "cell_type": "code",
   "execution_count": 76,
   "id": "d9c54eb4",
   "metadata": {},
   "outputs": [],
   "source": [
    "missing_city_mask = test['Fuel Consumption City'].isnull()\n",
    "missing_hwy_mask = test['Fuel Consumption Hwy'].isnull()"
   ]
  },
  {
   "cell_type": "code",
   "execution_count": 77,
   "id": "9811d28c",
   "metadata": {},
   "outputs": [],
   "source": [
    "test.loc[missing_city_mask, 'Fuel Consumption City'] = (test.loc[missing_city_mask, 'Fuel Consumption Comb'] - 0.45 * test.loc[missing_city_mask, 'Fuel Consumption Hwy']) / 0.55\n",
    "test.loc[missing_hwy_mask, 'Fuel Consumption Hwy'] = (test.loc[missing_hwy_mask, 'Fuel Consumption Comb'] - 0.55 * test.loc[missing_hwy_mask, 'Fuel Consumption City']) / 0.45"
   ]
  },
  {
   "cell_type": "code",
   "execution_count": 78,
   "id": "116ef1ae",
   "metadata": {},
   "outputs": [
    {
     "data": {
      "text/plain": [
       "Id                          0\n",
       "Make                        0\n",
       "Vehicle Class               0\n",
       "Engine Size(L)              0\n",
       "Cylinders                   0\n",
       "Transmission                0\n",
       "Fuel Type                   0\n",
       "Fuel Consumption City    3099\n",
       "Fuel Consumption Hwy     3126\n",
       "Fuel Consumption Comb    3143\n",
       "dtype: int64"
      ]
     },
     "execution_count": 78,
     "metadata": {},
     "output_type": "execute_result"
    }
   ],
   "source": [
    "test.isnull().sum()"
   ]
  },
  {
   "cell_type": "code",
   "execution_count": 79,
   "id": "8ab05d9a",
   "metadata": {},
   "outputs": [],
   "source": [
    "mean_city = test['Fuel Consumption City'].mean()\n",
    "mean_hwy = test['Fuel Consumption Hwy'].mean()\n",
    "mean_comb = test['Fuel Consumption Comb'].mean()\n",
    "\n",
    "# Fill null values with the means\n",
    "test['Fuel Consumption City'].fillna(mean_city, inplace=True)\n",
    "test['Fuel Consumption Hwy'].fillna(mean_hwy, inplace=True)\n",
    "test['Fuel Consumption Comb'].fillna(mean_comb, inplace=True)"
   ]
  },
  {
   "cell_type": "code",
   "execution_count": 80,
   "id": "df655f05",
   "metadata": {},
   "outputs": [
    {
     "data": {
      "text/html": [
       "<div>\n",
       "<style scoped>\n",
       "    .dataframe tbody tr th:only-of-type {\n",
       "        vertical-align: middle;\n",
       "    }\n",
       "\n",
       "    .dataframe tbody tr th {\n",
       "        vertical-align: top;\n",
       "    }\n",
       "\n",
       "    .dataframe thead th {\n",
       "        text-align: right;\n",
       "    }\n",
       "</style>\n",
       "<table border=\"1\" class=\"dataframe\">\n",
       "  <thead>\n",
       "    <tr style=\"text-align: right;\">\n",
       "      <th></th>\n",
       "      <th>Id</th>\n",
       "      <th>Make</th>\n",
       "      <th>Vehicle Class</th>\n",
       "      <th>Engine Size(L)</th>\n",
       "      <th>Cylinders</th>\n",
       "      <th>Transmission</th>\n",
       "      <th>Fuel Type</th>\n",
       "      <th>Fuel Consumption City</th>\n",
       "      <th>Fuel Consumption Hwy</th>\n",
       "      <th>Fuel Consumption Comb</th>\n",
       "    </tr>\n",
       "  </thead>\n",
       "  <tbody>\n",
       "    <tr>\n",
       "      <th>0</th>\n",
       "      <td>54938</td>\n",
       "      <td>0.0</td>\n",
       "      <td>0.0</td>\n",
       "      <td>0.0</td>\n",
       "      <td>0.0</td>\n",
       "      <td>11.0</td>\n",
       "      <td>0.0</td>\n",
       "      <td>7.042254</td>\n",
       "      <td>6.578947</td>\n",
       "      <td>6.833766</td>\n",
       "    </tr>\n",
       "    <tr>\n",
       "      <th>1</th>\n",
       "      <td>54939</td>\n",
       "      <td>2.0</td>\n",
       "      <td>4.0</td>\n",
       "      <td>2.0</td>\n",
       "      <td>4.0</td>\n",
       "      <td>9.0</td>\n",
       "      <td>2.0</td>\n",
       "      <td>10.989011</td>\n",
       "      <td>5.412209</td>\n",
       "      <td>8.479450</td>\n",
       "    </tr>\n",
       "    <tr>\n",
       "      <th>2</th>\n",
       "      <td>54940</td>\n",
       "      <td>10.0</td>\n",
       "      <td>2.0</td>\n",
       "      <td>0.0</td>\n",
       "      <td>4.0</td>\n",
       "      <td>5.0</td>\n",
       "      <td>0.0</td>\n",
       "      <td>8.494568</td>\n",
       "      <td>12.820513</td>\n",
       "      <td>10.964912</td>\n",
       "    </tr>\n",
       "    <tr>\n",
       "      <th>3</th>\n",
       "      <td>54941</td>\n",
       "      <td>5.0</td>\n",
       "      <td>2.0</td>\n",
       "      <td>0.0</td>\n",
       "      <td>4.0</td>\n",
       "      <td>2.0</td>\n",
       "      <td>2.0</td>\n",
       "      <td>288.412705</td>\n",
       "      <td>380.125527</td>\n",
       "      <td>329.172990</td>\n",
       "    </tr>\n",
       "    <tr>\n",
       "      <th>4</th>\n",
       "      <td>54942</td>\n",
       "      <td>4.0</td>\n",
       "      <td>4.0</td>\n",
       "      <td>2.0</td>\n",
       "      <td>0.0</td>\n",
       "      <td>1.0</td>\n",
       "      <td>2.0</td>\n",
       "      <td>1136.000000</td>\n",
       "      <td>5.911399</td>\n",
       "      <td>12.437811</td>\n",
       "    </tr>\n",
       "  </tbody>\n",
       "</table>\n",
       "</div>"
      ],
      "text/plain": [
       "      Id  Make  Vehicle Class  Engine Size(L)  Cylinders  Transmission  \\\n",
       "0  54938   0.0            0.0             0.0        0.0          11.0   \n",
       "1  54939   2.0            4.0             2.0        4.0           9.0   \n",
       "2  54940  10.0            2.0             0.0        4.0           5.0   \n",
       "3  54941   5.0            2.0             0.0        4.0           2.0   \n",
       "4  54942   4.0            4.0             2.0        0.0           1.0   \n",
       "\n",
       "   Fuel Type  Fuel Consumption City  Fuel Consumption Hwy  \\\n",
       "0        0.0               7.042254              6.578947   \n",
       "1        2.0              10.989011              5.412209   \n",
       "2        0.0               8.494568             12.820513   \n",
       "3        2.0             288.412705            380.125527   \n",
       "4        2.0            1136.000000              5.911399   \n",
       "\n",
       "   Fuel Consumption Comb  \n",
       "0               6.833766  \n",
       "1               8.479450  \n",
       "2              10.964912  \n",
       "3             329.172990  \n",
       "4              12.437811  "
      ]
     },
     "execution_count": 80,
     "metadata": {},
     "output_type": "execute_result"
    }
   ],
   "source": [
    "test.head()"
   ]
  },
  {
   "cell_type": "code",
   "execution_count": 81,
   "id": "b19d5781",
   "metadata": {},
   "outputs": [
    {
     "data": {
      "text/plain": [
       "Id                       0\n",
       "Make                     0\n",
       "Vehicle Class            0\n",
       "Engine Size(L)           0\n",
       "Cylinders                0\n",
       "Transmission             0\n",
       "Fuel Type                0\n",
       "Fuel Consumption City    0\n",
       "Fuel Consumption Hwy     0\n",
       "Fuel Consumption Comb    0\n",
       "dtype: int64"
      ]
     },
     "execution_count": 81,
     "metadata": {},
     "output_type": "execute_result"
    }
   ],
   "source": [
    "test.isnull().sum()"
   ]
  },
  {
   "cell_type": "code",
   "execution_count": 82,
   "id": "bfe2d423",
   "metadata": {},
   "outputs": [
    {
     "data": {
      "text/plain": [
       "(23545, 10)"
      ]
     },
     "execution_count": 82,
     "metadata": {},
     "output_type": "execute_result"
    }
   ],
   "source": [
    "test.shape"
   ]
  },
  {
   "cell_type": "markdown",
   "id": "b9ba56ac-ffe3-4ccd-b714-995917984f3c",
   "metadata": {
    "tags": []
   },
   "source": [
    "## PREDICTION AND SUBMISSION"
   ]
  },
  {
   "cell_type": "code",
   "execution_count": 83,
   "id": "b577e123",
   "metadata": {},
   "outputs": [],
   "source": [
    "y_pred = xgbr.predict(test)"
   ]
  },
  {
   "cell_type": "code",
   "execution_count": 84,
   "id": "6c52be5f",
   "metadata": {},
   "outputs": [
    {
     "data": {
      "text/plain": [
       "(23545, 2)"
      ]
     },
     "execution_count": 84,
     "metadata": {},
     "output_type": "execute_result"
    }
   ],
   "source": [
    "sample_submission = pd.read_csv('sample_submission.csv')\n",
    "sample_submission.shape"
   ]
  },
  {
   "cell_type": "code",
   "execution_count": 85,
   "id": "9c4462d4",
   "metadata": {},
   "outputs": [
    {
     "data": {
      "text/html": [
       "<div>\n",
       "<style scoped>\n",
       "    .dataframe tbody tr th:only-of-type {\n",
       "        vertical-align: middle;\n",
       "    }\n",
       "\n",
       "    .dataframe tbody tr th {\n",
       "        vertical-align: top;\n",
       "    }\n",
       "\n",
       "    .dataframe thead th {\n",
       "        text-align: right;\n",
       "    }\n",
       "</style>\n",
       "<table border=\"1\" class=\"dataframe\">\n",
       "  <thead>\n",
       "    <tr style=\"text-align: right;\">\n",
       "      <th></th>\n",
       "      <th>Id</th>\n",
       "      <th>CO2 Emissions(g/km)</th>\n",
       "    </tr>\n",
       "  </thead>\n",
       "  <tbody>\n",
       "    <tr>\n",
       "      <th>0</th>\n",
       "      <td>54938</td>\n",
       "      <td>0</td>\n",
       "    </tr>\n",
       "    <tr>\n",
       "      <th>1</th>\n",
       "      <td>54939</td>\n",
       "      <td>0</td>\n",
       "    </tr>\n",
       "    <tr>\n",
       "      <th>2</th>\n",
       "      <td>54940</td>\n",
       "      <td>0</td>\n",
       "    </tr>\n",
       "    <tr>\n",
       "      <th>3</th>\n",
       "      <td>54941</td>\n",
       "      <td>0</td>\n",
       "    </tr>\n",
       "    <tr>\n",
       "      <th>4</th>\n",
       "      <td>54942</td>\n",
       "      <td>0</td>\n",
       "    </tr>\n",
       "  </tbody>\n",
       "</table>\n",
       "</div>"
      ],
      "text/plain": [
       "      Id  CO2 Emissions(g/km)\n",
       "0  54938                    0\n",
       "1  54939                    0\n",
       "2  54940                    0\n",
       "3  54941                    0\n",
       "4  54942                    0"
      ]
     },
     "execution_count": 85,
     "metadata": {},
     "output_type": "execute_result"
    }
   ],
   "source": [
    "sample_submission.head()"
   ]
  },
  {
   "cell_type": "code",
   "execution_count": 86,
   "id": "028e68f8",
   "metadata": {},
   "outputs": [],
   "source": [
    "y_predcsv = pd.DataFrame(y_pred, columns=['CO2 Emissions(g/km)'])"
   ]
  },
  {
   "cell_type": "code",
   "execution_count": 87,
   "id": "d9921969",
   "metadata": {},
   "outputs": [
    {
     "data": {
      "text/plain": [
       "(23545, 1)"
      ]
     },
     "execution_count": 87,
     "metadata": {},
     "output_type": "execute_result"
    }
   ],
   "source": [
    "y_predcsv.shape"
   ]
  },
  {
   "cell_type": "code",
   "execution_count": 88,
   "id": "8766c5d6",
   "metadata": {},
   "outputs": [],
   "source": [
    "sample_submission.drop(columns=['CO2 Emissions(g/km)'], axis=1, inplace=True)\n",
    "sample_submission['CO2 Emissions(g/km)'] = y_predcsv"
   ]
  },
  {
   "cell_type": "code",
   "execution_count": 89,
   "id": "d9134c96",
   "metadata": {},
   "outputs": [
    {
     "data": {
      "text/plain": [
       "(23545, 2)"
      ]
     },
     "execution_count": 89,
     "metadata": {},
     "output_type": "execute_result"
    }
   ],
   "source": [
    "sample_submission.head(10)\n",
    "sample_submission.shape"
   ]
  },
  {
   "cell_type": "code",
   "execution_count": 90,
   "id": "3a8fe110",
   "metadata": {},
   "outputs": [
    {
     "data": {
      "text/plain": [
       "Id                     0\n",
       "CO2 Emissions(g/km)    0\n",
       "dtype: int64"
      ]
     },
     "execution_count": 90,
     "metadata": {},
     "output_type": "execute_result"
    }
   ],
   "source": [
    "sample_submission.isnull().sum()"
   ]
  },
  {
   "cell_type": "code",
   "execution_count": 91,
   "id": "62149571",
   "metadata": {},
   "outputs": [],
   "source": [
    "sample_submission.to_csv('sample_submissioncsv6.csv', index=False)"
   ]
  }
 ],
 "metadata": {
  "kernelspec": {
   "display_name": "Python 3 (ipykernel)",
   "language": "python",
   "name": "python3"
  },
  "language_info": {
   "codemirror_mode": {
    "name": "ipython",
    "version": 3
   },
   "file_extension": ".py",
   "mimetype": "text/x-python",
   "name": "python",
   "nbconvert_exporter": "python",
   "pygments_lexer": "ipython3",
   "version": "3.9.13"
  }
 },
 "nbformat": 4,
 "nbformat_minor": 5
}
