{
 "cells": [
  {
   "cell_type": "markdown",
   "id": "d3ceae37-76a0-40ad-a5d3-5cb0de74bf44",
   "metadata": {},
   "source": [
    "# This Notebook is for submission, please provide neat comments and coherent structure of the code"
   ]
  },
  {
   "cell_type": "code",
   "execution_count": 1,
   "id": "2484eb4b-32ba-4461-be2a-17c19a8ffbaa",
   "metadata": {},
   "outputs": [],
   "source": [
    "import pandas as pd\n",
    "import numpy as np\n",
    "import seaborn as sns\n",
    "import matplotlib.pyplot as plt  \n"
   ]
  },
  {
   "cell_type": "code",
   "execution_count": 2,
   "id": "c9f483bd-c85e-495e-9fae-75e2359dd3f9",
   "metadata": {},
   "outputs": [],
   "source": [
    "df = pd.read_csv('train.csv')\n"
   ]
  },
  {
   "cell_type": "code",
   "execution_count": 3,
   "id": "47bca0f0-dfaa-4999-9578-818840625108",
   "metadata": {},
   "outputs": [
    {
     "name": "stdout",
     "output_type": "stream",
     "text": [
      "Id has 137141 unique values\n",
      "Make has 21 unique values\n",
      "Vehicle Class has 24 unique values\n",
      "Engine Size(L) has 50 unique values\n",
      "Cylinders has 15 unique values\n",
      "Transmission has 33 unique values\n",
      "Fuel Type has 13 unique values\n",
      "Fuel Consumption City has 33648 unique values\n",
      "Fuel Consumption Hwy has 34963 unique values\n",
      "Fuel Consumption Comb has 26157 unique values\n",
      "CO2 Emissions(g/km) has 4508 unique values\n"
     ]
    }
   ],
   "source": [
    "for column in df.columns:\n",
    "    print(f\"{column} has {df[column].nunique()} unique values\")"
   ]
  },
  {
   "cell_type": "code",
   "execution_count": 4,
   "id": "6bb62810-89b9-4056-85b6-df70bb61fdd2",
   "metadata": {},
   "outputs": [
    {
     "data": {
      "text/plain": [
       "Id                           0\n",
       "Make                         0\n",
       "Vehicle Class             1325\n",
       "Engine Size(L)           16619\n",
       "Cylinders                14155\n",
       "Transmission              2605\n",
       "Fuel Type                 1855\n",
       "Fuel Consumption City     2422\n",
       "Fuel Consumption Hwy      2568\n",
       "Fuel Consumption Comb     2582\n",
       "CO2 Emissions(g/km)          0\n",
       "dtype: int64"
      ]
     },
     "execution_count": 4,
     "metadata": {},
     "output_type": "execute_result"
    }
   ],
   "source": [
    "df.isnull().sum()"
   ]
  },
  {
   "cell_type": "code",
   "execution_count": 5,
   "id": "4ac2c03a-0756-4c18-aa9b-2553dcfe3e00",
   "metadata": {},
   "outputs": [],
   "source": [
    "### Take a look of the unique values of each categorical column"
   ]
  },
  {
   "cell_type": "code",
   "execution_count": 6,
   "id": "424506dd-1b45-4be4-beb5-3941710f4db2",
   "metadata": {},
   "outputs": [
    {
     "data": {
      "text/plain": [
       "(array(['FOLD', 'CHEVO', 'BMV', 'KIO', 'BARUSU', 'LECUS', 'GONDA',\n",
       "        'LAND CRAWLER', 'FOLKSWA', 'TOYOTI', 'JIPU', 'TOLVO', 'ASURA',\n",
       "        'NIRRAN', 'FIAR', 'DOGE', 'CADILUXE', 'MATSUDA', 'MITSU',\n",
       "        'RYUNDAI', 'LAMBOGI'], dtype=object),\n",
       " FOLD            18081\n",
       " CHEVO           16615\n",
       " BMV             14932\n",
       " TOYOTI           9562\n",
       " NIRRAN           7287\n",
       " JIPU             7242\n",
       " DOGE             6947\n",
       " KIO              6443\n",
       " GONDA            6035\n",
       " RYUNDAI          5925\n",
       " FOLKSWA          5382\n",
       " LECUS            5171\n",
       " MATSUDA          5052\n",
       " CADILUXE         4517\n",
       " BARUSU           3982\n",
       " TOLVO            3595\n",
       " MITSU            2701\n",
       " LAND CRAWLER     2455\n",
       " ASURA            2040\n",
       " FIAR             2012\n",
       " LAMBOGI          1165\n",
       " Name: Make, dtype: int64)"
      ]
     },
     "execution_count": 6,
     "metadata": {},
     "output_type": "execute_result"
    }
   ],
   "source": [
    "df['Make'].unique(), df['Make'].value_counts()"
   ]
  },
  {
   "cell_type": "code",
   "execution_count": 7,
   "id": "6d920cda-4dc2-41ac-a472-58268c73aa17",
   "metadata": {},
   "outputs": [
    {
     "data": {
      "text/plain": [
       "(array(['PICKUP TRUCK - STANDARD', 'SUBCOMPACT', 'SUV - SMALL',\n",
       "        'MINICOMPACT', 'COMPACT', 'FULL-SIZE', 'SUV - STANDARD', 'MINIVAN',\n",
       "        'STATION WAGON - SMALL', nan, 'PICKUP TRUCK - SMALL', 'missing',\n",
       "        'TWO-SEATER', 'STATION WAGON - MID-SIZE', 'MID-SIZE',\n",
       "        'SPECIAL PURPOSE VEHICLE', 'VAN - PASSENGER', '-1', 'not-recorded',\n",
       "        'na', 'unspecified', 'unknown', 'unestablished', 'VAN - CARGO',\n",
       "        'not-available'], dtype=object),\n",
       " SUV - SMALL                 27799\n",
       " COMPACT                     21981\n",
       " MID-SIZE                    20703\n",
       " SUV - STANDARD              12250\n",
       " FULL-SIZE                    9998\n",
       " PICKUP TRUCK - STANDARD      9613\n",
       " SUBCOMPACT                   9148\n",
       " STATION WAGON - SMALL        5956\n",
       " TWO-SEATER                   4044\n",
       " PICKUP TRUCK - SMALL         3214\n",
       " MINICOMPACT                  1734\n",
       " MINIVAN                      1676\n",
       " SPECIAL PURPOSE VEHICLE      1450\n",
       " VAN - PASSENGER              1225\n",
       " STATION WAGON - MID-SIZE      863\n",
       " not-recorded                  836\n",
       " missing                       448\n",
       " na                            430\n",
       " not-available                 430\n",
       " unspecified                   426\n",
       " unestablished                 415\n",
       " unknown                       413\n",
       " -1                            409\n",
       " VAN - CARGO                   355\n",
       " Name: Vehicle Class, dtype: int64)"
      ]
     },
     "execution_count": 7,
     "metadata": {},
     "output_type": "execute_result"
    }
   ],
   "source": [
    "df['Vehicle Class'].unique(), df['Vehicle Class'].value_counts()"
   ]
  },
  {
   "cell_type": "code",
   "execution_count": 8,
   "id": "0d342a51-4905-447d-b444-dec7d2b920e9",
   "metadata": {},
   "outputs": [
    {
     "data": {
      "text/plain": [
       "(array(['3.5', '5.3', '4.4', nan, '3.0', 'unspecified', '1.8', '2.0',\n",
       "        '3.6', '2.5', 'missing', '2.4', '2.3', '1.4', '1.6', '5.0', 'na',\n",
       "        '1.3', '6.2', '4.8', '2.7', '6.0', '3.2', '6.5', '5.7', '3.7',\n",
       "        '1.2', '4.0', '3.3', '1.5', 'not-available', '5.2', 'not-recorded',\n",
       "        '3.8', '2.8', '-1', 'unknown', 'unestablished', '4.6', '6.4',\n",
       "        '4.3', '6.6', '5.4', '1.0', '5.6', '5.8', '8.4', '3.4', '4.2',\n",
       "        '6.8', '2.2'], dtype=object),\n",
       " 2.0              21216\n",
       " 3.5              12375\n",
       " 2.5               9386\n",
       " 3.0               9083\n",
       " 3.6               8802\n",
       " 2.4               7972\n",
       " 1.6               4700\n",
       " 1.8               3982\n",
       " 1.4               3980\n",
       " 1.5               3204\n",
       " 5.0               3152\n",
       " 5.3               3025\n",
       " 4.4               2786\n",
       " 6.2               2502\n",
       " 3.3               2064\n",
       " 2.7               1848\n",
       " not-recorded      1726\n",
       " 3.7               1589\n",
       " 5.7               1589\n",
       " 2.3               1230\n",
       " 4.0               1019\n",
       " 3.2                986\n",
       " 6.4                919\n",
       " missing            898\n",
       " not-available      893\n",
       " unknown            878\n",
       " na                 855\n",
       " unspecified        841\n",
       " -1                 819\n",
       " unestablished      804\n",
       " 4.6                682\n",
       " 4.3                587\n",
       " 3.8                577\n",
       " 5.2                519\n",
       " 1.2                487\n",
       " 5.6                423\n",
       " 6.5                395\n",
       " 6.0                352\n",
       " 2.8                344\n",
       " 1.0                288\n",
       " 1.3                189\n",
       " 5.4                119\n",
       " 3.4                104\n",
       " 4.8                 90\n",
       " 6.6                 74\n",
       " 8.4                 68\n",
       " 4.2                 38\n",
       " 2.2                 26\n",
       " 5.8                 20\n",
       " 6.8                 17\n",
       " Name: Engine Size(L), dtype: int64)"
      ]
     },
     "execution_count": 8,
     "metadata": {},
     "output_type": "execute_result"
    }
   ],
   "source": [
    "df['Engine Size(L)'].unique(), df['Engine Size(L)'].value_counts()"
   ]
  },
  {
   "cell_type": "code",
   "execution_count": 9,
   "id": "5c5d517a-73ed-45ab-bff6-1021b28089f2",
   "metadata": {},
   "outputs": [
    {
     "data": {
      "text/plain": [
       "(array(['A6', 'M6', 'AS6', 'unspecified', 'not-recorded', 'AV7', 'AS8',\n",
       "        'A9', 'unknown', nan, 'AV', 'AV8', 'M5', 'A8', 'AV6', 'AS10',\n",
       "        'AM7', 'missing', 'A4', 'A5', 'AS7', 'AM6', 'AS5', 'not-available',\n",
       "        'na', 'AS9', '-1', 'AM9', 'AV10', 'unestablished', 'AM8', 'M7',\n",
       "        'A10', 'A7'], dtype=object),\n",
       " AS6              28926\n",
       " AS8              20015\n",
       " M6               17885\n",
       " A6               12327\n",
       " AV                7514\n",
       " A8                6731\n",
       " M5                4810\n",
       " AS10              4363\n",
       " A9                3554\n",
       " AM7               3535\n",
       " AV6               3022\n",
       " AV7               2781\n",
       " AM6               2444\n",
       " A5                2087\n",
       " not-recorded      1697\n",
       " AS9               1668\n",
       " A4                1326\n",
       " na                 964\n",
       " unestablished      874\n",
       " AV8                873\n",
       " not-available      870\n",
       " unspecified        869\n",
       " unknown            864\n",
       " -1                 853\n",
       " missing            844\n",
       " AS7                726\n",
       " AS5                701\n",
       " A10                388\n",
       " AM8                338\n",
       " AV10               295\n",
       " M7                 288\n",
       " AM9                 76\n",
       " A7                  28\n",
       " Name: Transmission, dtype: int64)"
      ]
     },
     "execution_count": 9,
     "metadata": {},
     "output_type": "execute_result"
    }
   ],
   "source": [
    "df['Transmission'].unique(), df['Transmission'].value_counts()"
   ]
  },
  {
   "cell_type": "code",
   "execution_count": 10,
   "id": "c95e2787-7260-4eed-b76a-0278c42fcbef",
   "metadata": {},
   "outputs": [
    {
     "data": {
      "text/plain": [
       "(array(['X', 'E', 'Z', nan, 'D', '-1', 'missing', 'unspecified',\n",
       "        'not-recorded', 'unknown', 'unestablished', 'na', 'not-available',\n",
       "        'N'], dtype=object),\n",
       " X                83001\n",
       " Z                37304\n",
       " E                 6710\n",
       " D                 2683\n",
       " not-recorded      1217\n",
       " unspecified        686\n",
       " unknown            633\n",
       " missing            632\n",
       " not-available      631\n",
       " unestablished      599\n",
       " na                 588\n",
       " -1                 578\n",
       " N                   24\n",
       " Name: Fuel Type, dtype: int64)"
      ]
     },
     "execution_count": 10,
     "metadata": {},
     "output_type": "execute_result"
    }
   ],
   "source": [
    "df['Fuel Type'].unique(), df['Fuel Type'].value_counts() "
   ]
  },
  {
   "cell_type": "code",
   "execution_count": 11,
   "id": "295f36a6-17eb-485a-a6ba-2cb0e4ad42e1",
   "metadata": {},
   "outputs": [
    {
     "data": {
      "text/plain": [
       "(array(['6.0', nan, '4.0', '8.0', 'not-available', 'unestablished', '12.0',\n",
       "        'unspecified', 'not-recorded', '3.0', '-1', 'missing', '5.0',\n",
       "        'unknown', '10.0', 'na'], dtype=object),\n",
       " 4.0              66618\n",
       " 6.0              31312\n",
       " 8.0              16082\n",
       " not-recorded      1451\n",
       " 3.0                880\n",
       " unknown            754\n",
       " -1                 730\n",
       " missing            726\n",
       " unestablished      724\n",
       " unspecified        718\n",
       " na                 674\n",
       " not-available      673\n",
       " 10.0               619\n",
       " 12.0               583\n",
       " 5.0                442\n",
       " Name: Cylinders, dtype: int64)"
      ]
     },
     "execution_count": 11,
     "metadata": {},
     "output_type": "execute_result"
    }
   ],
   "source": [
    "df['Cylinders'].unique(), df['Cylinders'].value_counts()"
   ]
  },
  {
   "cell_type": "markdown",
   "id": "ec9071e5-7c31-4948-b13f-221ca3abd85f",
   "metadata": {},
   "source": [
    "# Handles Categorical Data Missing Values\n",
    "### Create a rule based system to try to predict the missing values for the Categorical Features"
   ]
  },
  {
   "cell_type": "markdown",
   "id": "5214e20a-d3ff-4a8b-9ccf-91585a287093",
   "metadata": {},
   "source": [
    "## Vehicle Class \n",
    "Basis: assumption that one brand of car tends to create one vehicle type more than the other. Example: Lamborgini creates more two seater than other Vehicle Class (like PICKUP TRUCK, etc). Hence it is reasonable to predict the missing values with the most 'popular' car type produced by its brand"
   ]
  },
  {
   "cell_type": "code",
   "execution_count": 13,
   "id": "f90eac25-e096-47f9-8b25-009d85aacad0",
   "metadata": {},
   "outputs": [
    {
     "data": {
      "text/html": [
       "<div>\n",
       "<style scoped>\n",
       "    .dataframe tbody tr th:only-of-type {\n",
       "        vertical-align: middle;\n",
       "    }\n",
       "\n",
       "    .dataframe tbody tr th {\n",
       "        vertical-align: top;\n",
       "    }\n",
       "\n",
       "    .dataframe thead th {\n",
       "        text-align: right;\n",
       "    }\n",
       "</style>\n",
       "<table border=\"1\" class=\"dataframe\">\n",
       "  <thead>\n",
       "    <tr style=\"text-align: right;\">\n",
       "      <th></th>\n",
       "      <th>Make</th>\n",
       "      <th>Vehicle Class</th>\n",
       "      <th>Engine Size(L)</th>\n",
       "      <th>Cylinders</th>\n",
       "      <th>Transmission</th>\n",
       "      <th>Fuel Type</th>\n",
       "    </tr>\n",
       "  </thead>\n",
       "  <tbody>\n",
       "    <tr>\n",
       "      <th>0</th>\n",
       "      <td>FOLD</td>\n",
       "      <td>PICKUP TRUCK - STANDARD</td>\n",
       "      <td>3.5</td>\n",
       "      <td>6.0</td>\n",
       "      <td>A6</td>\n",
       "      <td>X</td>\n",
       "    </tr>\n",
       "    <tr>\n",
       "      <th>1</th>\n",
       "      <td>CHEVO</td>\n",
       "      <td>PICKUP TRUCK - STANDARD</td>\n",
       "      <td>5.3</td>\n",
       "      <td>NaN</td>\n",
       "      <td>A6</td>\n",
       "      <td>E</td>\n",
       "    </tr>\n",
       "    <tr>\n",
       "      <th>2</th>\n",
       "      <td>BMV</td>\n",
       "      <td>SUBCOMPACT</td>\n",
       "      <td>4.4</td>\n",
       "      <td>NaN</td>\n",
       "      <td>M6</td>\n",
       "      <td>Z</td>\n",
       "    </tr>\n",
       "    <tr>\n",
       "      <th>3</th>\n",
       "      <td>KIO</td>\n",
       "      <td>SUV - SMALL</td>\n",
       "      <td>NaN</td>\n",
       "      <td>4.0</td>\n",
       "      <td>AS6</td>\n",
       "      <td>X</td>\n",
       "    </tr>\n",
       "    <tr>\n",
       "      <th>4</th>\n",
       "      <td>BARUSU</td>\n",
       "      <td>MINICOMPACT</td>\n",
       "      <td>3.0</td>\n",
       "      <td>6.0</td>\n",
       "      <td>unspecified</td>\n",
       "      <td>Z</td>\n",
       "    </tr>\n",
       "  </tbody>\n",
       "</table>\n",
       "</div>"
      ],
      "text/plain": [
       "     Make            Vehicle Class Engine Size(L) Cylinders Transmission  \\\n",
       "0    FOLD  PICKUP TRUCK - STANDARD            3.5       6.0           A6   \n",
       "1   CHEVO  PICKUP TRUCK - STANDARD            5.3       NaN           A6   \n",
       "2     BMV               SUBCOMPACT            4.4       NaN           M6   \n",
       "3     KIO              SUV - SMALL            NaN       4.0          AS6   \n",
       "4  BARUSU              MINICOMPACT            3.0       6.0  unspecified   \n",
       "\n",
       "  Fuel Type  \n",
       "0         X  \n",
       "1         E  \n",
       "2         Z  \n",
       "3         X  \n",
       "4         Z  "
      ]
     },
     "execution_count": 13,
     "metadata": {},
     "output_type": "execute_result"
    }
   ],
   "source": [
    "cat_columns =[column for column in df.columns if df[column].nunique() < 100]\n",
    "cat = pd.DataFrame(df[cat_columns])\n",
    "\n",
    "cat.head()"
   ]
  },
  {
   "cell_type": "code",
   "execution_count": 14,
   "id": "58956bc9-1913-4a58-a2aa-fd7dfbcd5f1b",
   "metadata": {},
   "outputs": [
    {
     "data": {
      "text/plain": [
       "Make                  0\n",
       "Vehicle Class      1325\n",
       "Engine Size(L)    16619\n",
       "Cylinders         14155\n",
       "Transmission       2605\n",
       "Fuel Type          1855\n",
       "dtype: int64"
      ]
     },
     "execution_count": 14,
     "metadata": {},
     "output_type": "execute_result"
    }
   ],
   "source": [
    "cat.isnull().sum()"
   ]
  },
  {
   "cell_type": "code",
   "execution_count": 15,
   "id": "536eee94-bad7-4a67-813b-62841d690f97",
   "metadata": {},
   "outputs": [
    {
     "name": "stdout",
     "output_type": "stream",
     "text": [
      "Object `manufacturer` not found.\n"
     ]
    }
   ],
   "source": [
    "Question: what is the maximum vehicle class category per car manufacturer?"
   ]
  },
  {
   "cell_type": "code",
   "execution_count": null,
   "id": "713112c2-a4d0-468c-b5a0-900929873730",
   "metadata": {},
   "outputs": [],
   "source": [
    "Question: what is the maximum vehicle class category per car manufacturer"
   ]
  },
  {
   "cell_type": "code",
   "execution_count": 16,
   "id": "e32314fc-4c84-4247-96df-88378cf56e1f",
   "metadata": {},
   "outputs": [
    {
     "data": {
      "text/plain": [
       "('CHEVO', 'PICKUP TRUCK - STANDARD')"
      ]
     },
     "execution_count": 16,
     "metadata": {},
     "output_type": "execute_result"
    }
   ],
   "source": [
    "grouped = cat.groupby(['Make', 'Vehicle Class'])['Vehicle Class'].count()\n",
    "max_vc_per_make = grouped.groupby('Make').idxmax()\n",
    "\n",
    "#Test the result\n",
    "max_vc_per_make['CHEVO']\n",
    "\n",
    "    "
   ]
  },
  {
   "cell_type": "code",
   "execution_count": 17,
   "id": "e9dde601-1ac1-416f-a127-b753056995ec",
   "metadata": {},
   "outputs": [
    {
     "data": {
      "text/plain": [
       "1325"
      ]
     },
     "execution_count": 17,
     "metadata": {},
     "output_type": "execute_result"
    }
   ],
   "source": [
    "#There are these many missing values inside the Vehicle class \n",
    "cat['Vehicle Class'].isnull().sum()\n",
    "    "
   ]
  },
  {
   "cell_type": "code",
   "execution_count": 18,
   "id": "fc45771d-817b-40bc-8b09-fc9f3d62223d",
   "metadata": {},
   "outputs": [],
   "source": [
    "def fill_vc(make, vc):\n",
    "    if pd.isnull(vc):\n",
    "        return max_vc_per_make[make][1]\n",
    "    else:\n",
    "        return vc \n",
    "\n",
    "cat['Vehicle Class'] = cat.apply(lambda x: fill_vc(x['Make'], x['Vehicle Class']), axis=1)\n",
    "\n",
    "    "
   ]
  },
  {
   "cell_type": "code",
   "execution_count": 19,
   "id": "46c4d97b-5c88-41b2-99e8-3be0914ed3ee",
   "metadata": {},
   "outputs": [
    {
     "data": {
      "text/plain": [
       "0"
      ]
     },
     "execution_count": 19,
     "metadata": {},
     "output_type": "execute_result"
    }
   ],
   "source": [
    "cat['Vehicle Class'].isnull().sum()"
   ]
  },
  {
   "cell_type": "code",
   "execution_count": 20,
   "id": "2beefb68-4991-4557-b1ab-bfef90850f31",
   "metadata": {},
   "outputs": [
    {
     "name": "stdout",
     "output_type": "stream",
     "text": [
      "Index(['Make', 'Vehicle Class', 'Engine Size(L)', 'Cylinders', 'Transmission',\n",
      "       'Fuel Type'],\n",
      "      dtype='object')\n"
     ]
    }
   ],
   "source": [
    "print(cat.columns)"
   ]
  },
  {
   "cell_type": "markdown",
   "id": "6e833c3e-b11c-4b6c-9e79-5b9a0baffc1e",
   "metadata": {},
   "source": [
    "### Fuel Type \n",
    "I think it is common sense to say that a Vehicle Class with the same brand are more likely to have the same Fuel Type. Grouped the fuel type data based on Make and Vehicle Class, then choose \n",
    "the definite fuel type that is possible between the set"
   ]
  },
  {
   "cell_type": "code",
   "execution_count": 21,
   "id": "4fcd2331-106d-4cac-ab18-31f931d79ff1",
   "metadata": {},
   "outputs": [
    {
     "data": {
      "text/plain": [
       "1855"
      ]
     },
     "execution_count": 21,
     "metadata": {},
     "output_type": "execute_result"
    }
   ],
   "source": [
    "cat['Fuel Type'].isnull().sum()"
   ]
  },
  {
   "cell_type": "code",
   "execution_count": 22,
   "id": "e90b20ea-a8a9-4843-af10-d57147072e69",
   "metadata": {},
   "outputs": [],
   "source": [
    "import random\n",
    "\n",
    "grouped_fuel_type = cat.groupby(['Make', 'Vehicle Class'])['Fuel Type'].unique()\n",
    "\n",
    "def fill_ft(make, vc, ft):\n",
    "    fuel_types_per_mvc = list(set(grouped_fuel_type[make][vc]) &  set(['X', 'Z', 'E', 'D', 'N']))\n",
    "    if pd.isnull(ft):\n",
    "        return random.choice(fuel_types_per_mvc)\n",
    "    else:\n",
    "        return ft\n",
    "    \n",
    "cat['Fuel Type'] = cat.apply(lambda x: fill_ft(x['Make'], x['Vehicle Class'], x['Fuel Type']), axis=1)\n"
   ]
  },
  {
   "cell_type": "code",
   "execution_count": 23,
   "id": "292d541b-88fa-4be1-ab2d-9ae97caaae6e",
   "metadata": {},
   "outputs": [
    {
     "data": {
      "text/plain": [
       "0"
      ]
     },
     "execution_count": 23,
     "metadata": {},
     "output_type": "execute_result"
    }
   ],
   "source": [
    "cat['Fuel Type'].isnull().sum()"
   ]
  },
  {
   "cell_type": "code",
   "execution_count": 24,
   "id": "d90ea45b-1eda-4550-b0d1-d6c3fb0f0a38",
   "metadata": {},
   "outputs": [
    {
     "name": "stdout",
     "output_type": "stream",
     "text": [
      "Index(['Make', 'Vehicle Class', 'Engine Size(L)', 'Cylinders', 'Transmission',\n",
      "       'Fuel Type'],\n",
      "      dtype='object')\n"
     ]
    }
   ],
   "source": [
    "print(cat.columns)"
   ]
  },
  {
   "cell_type": "markdown",
   "id": "531616bb-a828-47b6-abcb-a549a9206e36",
   "metadata": {},
   "source": [
    "### Engine Size and Cylinders\n",
    "The underlying basis of the rule based is that engine size and cylinder have a strong correlation, hence we can fill the missing values of one value with respect to the other"
   ]
  },
  {
   "cell_type": "code",
   "execution_count": 25,
   "id": "798bb59f-4505-4a95-953a-c115db3c9ccc",
   "metadata": {},
   "outputs": [],
   "source": [
    "grouped = pd.DataFrame(cat[['Engine Size(L)', 'Cylinders', 'Transmission']])\n"
   ]
  },
  {
   "cell_type": "code",
   "execution_count": 26,
   "id": "f85a1521-099b-4b2d-b8f6-fa4b91fa357e",
   "metadata": {},
   "outputs": [
    {
     "data": {
      "text/html": [
       "<div>\n",
       "<style scoped>\n",
       "    .dataframe tbody tr th:only-of-type {\n",
       "        vertical-align: middle;\n",
       "    }\n",
       "\n",
       "    .dataframe tbody tr th {\n",
       "        vertical-align: top;\n",
       "    }\n",
       "\n",
       "    .dataframe thead th {\n",
       "        text-align: right;\n",
       "    }\n",
       "</style>\n",
       "<table border=\"1\" class=\"dataframe\">\n",
       "  <thead>\n",
       "    <tr style=\"text-align: right;\">\n",
       "      <th></th>\n",
       "    </tr>\n",
       "  </thead>\n",
       "  <tbody>\n",
       "  </tbody>\n",
       "</table>\n",
       "</div>"
      ],
      "text/plain": [
       "Empty DataFrame\n",
       "Columns: []\n",
       "Index: []"
      ]
     },
     "execution_count": 26,
     "metadata": {},
     "output_type": "execute_result"
    }
   ],
   "source": [
    "def change_to_float(x):\n",
    "    try:\n",
    "        return float(x) \n",
    "    except ValueError:\n",
    "        return 0.0\n",
    "    \n",
    "\n",
    "\n",
    "cat['Engine Size(L)'] = cat['Engine Size(L)'].apply(change_to_float)\n",
    "cat['Cylinders'] = cat['Cylinders'].apply(change_to_float)\n",
    "\n",
    "\n",
    "grouped.corr()"
   ]
  },
  {
   "cell_type": "code",
   "execution_count": 27,
   "id": "9c6f75fb-bed6-46ba-a4a3-68dfab7333bb",
   "metadata": {},
   "outputs": [
    {
     "data": {
      "text/plain": [
       "Engine Size(L)\n",
       "-1.0    (-1.0, 4.0)\n",
       " 0.0     (0.0, 4.0)\n",
       " 1.0     (1.0, 3.0)\n",
       " 1.2     (1.2, 3.0)\n",
       " 1.3     (1.3, 4.0)\n",
       " 1.4     (1.4, 4.0)\n",
       " 1.5     (1.5, 4.0)\n",
       " 1.6     (1.6, 4.0)\n",
       " 1.8     (1.8, 4.0)\n",
       " 2.0     (2.0, 4.0)\n",
       " 2.2     (2.2, 4.0)\n",
       " 2.3     (2.3, 4.0)\n",
       " 2.4     (2.4, 4.0)\n",
       " 2.5     (2.5, 4.0)\n",
       " 2.7     (2.7, 4.0)\n",
       " 2.8     (2.8, 4.0)\n",
       " 3.0     (3.0, 6.0)\n",
       " 3.2     (3.2, 6.0)\n",
       " 3.3     (3.3, 6.0)\n",
       " 3.4     (3.4, 6.0)\n",
       " 3.5     (3.5, 6.0)\n",
       " 3.6     (3.6, 6.0)\n",
       " 3.7     (3.7, 6.0)\n",
       " 3.8     (3.8, 6.0)\n",
       " 4.0     (4.0, 6.0)\n",
       " 4.2     (4.2, 8.0)\n",
       " 4.3     (4.3, 6.0)\n",
       " 4.4     (4.4, 8.0)\n",
       " 4.6     (4.6, 8.0)\n",
       " 4.8     (4.8, 8.0)\n",
       " 5.0     (5.0, 8.0)\n",
       " 5.2    (5.2, 10.0)\n",
       " 5.3     (5.3, 8.0)\n",
       " 5.4     (5.4, 8.0)\n",
       " 5.6     (5.6, 8.0)\n",
       " 5.7     (5.7, 8.0)\n",
       " 5.8     (5.8, 8.0)\n",
       " 6.0     (6.0, 8.0)\n",
       " 6.2     (6.2, 8.0)\n",
       " 6.4     (6.4, 8.0)\n",
       " 6.5    (6.5, 12.0)\n",
       " 6.6    (6.6, 12.0)\n",
       " 6.8    (6.8, 10.0)\n",
       " 8.4    (8.4, 10.0)\n",
       "Name: Cylinders, dtype: object"
      ]
     },
     "execution_count": 27,
     "metadata": {},
     "output_type": "execute_result"
    }
   ],
   "source": [
    "grouped_by_es = cat.groupby(['Engine Size(L)', 'Cylinders'])['Cylinders'].count()\n",
    "max_cyl_per_es = grouped_by_es.groupby('Engine Size(L)').idxmax()\n",
    "\n",
    "max_cyl_per_es"
   ]
  },
  {
   "cell_type": "code",
   "execution_count": 28,
   "id": "3e171a2c-964d-421c-a9e7-134a7e7a8818",
   "metadata": {},
   "outputs": [
    {
     "data": {
      "text/plain": [
       "Cylinders\n",
       "-1.0     (-1.0, 2.0)\n",
       " 0.0      (0.0, 2.0)\n",
       " 3.0      (3.0, 1.2)\n",
       " 4.0      (4.0, 2.0)\n",
       " 5.0      (5.0, 2.5)\n",
       " 6.0      (6.0, 3.5)\n",
       " 8.0      (8.0, 5.0)\n",
       " 10.0    (10.0, 5.2)\n",
       " 12.0    (12.0, 6.5)\n",
       "Name: Engine Size(L), dtype: object"
      ]
     },
     "execution_count": 28,
     "metadata": {},
     "output_type": "execute_result"
    }
   ],
   "source": [
    "grouped = cat.groupby(['Cylinders', 'Engine Size(L)'])['Engine Size(L)'].count()\n",
    "max_es_per_cyl= grouped.groupby('Cylinders').idxmax()\n",
    "\n",
    "max_es_per_cyl"
   ]
  },
  {
   "cell_type": "code",
   "execution_count": 29,
   "id": "9ce978aa-58a7-472b-9edd-2e0713665f06",
   "metadata": {},
   "outputs": [
    {
     "data": {
      "text/plain": [
       "(Engine Size(L)    16619\n",
       " Cylinders         14155\n",
       " dtype: int64,\n",
       " array([ 3.5,  5.3,  4.4,  nan,  3. ,  0. ,  1.8,  2. ,  3.6,  2.5,  2.4,\n",
       "         2.3,  1.4,  1.6,  5. ,  1.3,  6.2,  4.8,  2.7,  6. ,  3.2,  6.5,\n",
       "         5.7,  3.7,  1.2,  4. ,  3.3,  1.5,  5.2,  3.8,  2.8, -1. ,  4.6,\n",
       "         6.4,  4.3,  6.6,  5.4,  1. ,  5.6,  5.8,  8.4,  3.4,  4.2,  6.8,\n",
       "         2.2]),\n",
       " array([ 6., nan,  4.,  8.,  0., 12.,  3., -1.,  5., 10.]))"
      ]
     },
     "execution_count": 29,
     "metadata": {},
     "output_type": "execute_result"
    }
   ],
   "source": [
    "cat[['Engine Size(L)', 'Cylinders']].isnull().sum(), cat['Engine Size(L)'].unique(), cat['Cylinders'].unique()"
   ]
  },
  {
   "cell_type": "code",
   "execution_count": 30,
   "id": "c930b168-331a-4eed-8ad3-84974843ee21",
   "metadata": {},
   "outputs": [],
   "source": [
    "def fill_es(cyl, es):\n",
    "    if pd.isnull(es):\n",
    "        if pd.isnull(cyl):\n",
    "            return max_es_per_cyl[0.0][1]\n",
    "        return max_es_per_cyl[cyl][1]\n",
    "    else:\n",
    "        return es\n",
    "    \n",
    "def fill_cyl(es, cyl):\n",
    "    if pd.isnull(cyl):\n",
    "        if pd.isnull(es):\n",
    "            return max_cyl_per_es[0.0][1]\n",
    "        return max_cyl_per_es[es][1]\n",
    "    else:\n",
    "        return cyl\n",
    "\n",
    "    \n",
    "cat['Engine Size(L)'] = cat.apply(lambda x: fill_es(x['Cylinders'], x['Engine Size(L)']), axis=1)\n",
    "cat['Cylinders'] = cat.apply(lambda x: fill_cyl(x['Engine Size(L)'], x['Cylinders']), axis=1)"
   ]
  },
  {
   "cell_type": "code",
   "execution_count": 31,
   "id": "4bf74d40-abd3-4a63-8700-b23925e3e1bd",
   "metadata": {},
   "outputs": [
    {
     "data": {
      "text/plain": [
       "Engine Size(L)    0\n",
       "Cylinders         0\n",
       "dtype: int64"
      ]
     },
     "execution_count": 31,
     "metadata": {},
     "output_type": "execute_result"
    }
   ],
   "source": [
    "cat[['Engine Size(L)', 'Cylinders']].isnull().sum()"
   ]
  },
  {
   "cell_type": "markdown",
   "id": "b23a78a0-e9f2-4e30-ba95-f7060bc105ec",
   "metadata": {},
   "source": [
    "### Transmission\n",
    "Encode every other categorical variable and see what is the variable that have the biggest correlation to Transmission (no high correlation). Just convert to 0 to the NaN values along with the other 'uspecified' and friends entry"
   ]
  },
  {
   "cell_type": "code",
   "execution_count": 32,
   "id": "c089864f-db8c-406d-bbe0-a590b332bc85",
   "metadata": {},
   "outputs": [
    {
     "name": "stdout",
     "output_type": "stream",
     "text": [
      "<class 'pandas.core.frame.DataFrame'>\n",
      "RangeIndex: 137141 entries, 0 to 137140\n",
      "Data columns (total 6 columns):\n",
      " #   Column          Non-Null Count   Dtype  \n",
      "---  ------          --------------   -----  \n",
      " 0   Make            137141 non-null  object \n",
      " 1   Vehicle Class   137141 non-null  object \n",
      " 2   Engine Size(L)  137141 non-null  float64\n",
      " 3   Cylinders       137141 non-null  float64\n",
      " 4   Transmission    134536 non-null  object \n",
      " 5   Fuel Type       137141 non-null  object \n",
      "dtypes: float64(2), object(4)\n",
      "memory usage: 6.3+ MB\n"
     ]
    }
   ],
   "source": [
    "cat.info()"
   ]
  },
  {
   "cell_type": "code",
   "execution_count": 33,
   "id": "0f205ea1-ccbc-4c3b-bc37-f249e61d113d",
   "metadata": {},
   "outputs": [
    {
     "data": {
      "text/html": [
       "<div>\n",
       "<style scoped>\n",
       "    .dataframe tbody tr th:only-of-type {\n",
       "        vertical-align: middle;\n",
       "    }\n",
       "\n",
       "    .dataframe tbody tr th {\n",
       "        vertical-align: top;\n",
       "    }\n",
       "\n",
       "    .dataframe thead th {\n",
       "        text-align: right;\n",
       "    }\n",
       "</style>\n",
       "<table border=\"1\" class=\"dataframe\">\n",
       "  <thead>\n",
       "    <tr style=\"text-align: right;\">\n",
       "      <th></th>\n",
       "      <th>Make</th>\n",
       "      <th>Vehicle Class</th>\n",
       "      <th>Engine Size(L)</th>\n",
       "      <th>Cylinders</th>\n",
       "      <th>Transmission</th>\n",
       "      <th>Fuel Type</th>\n",
       "    </tr>\n",
       "  </thead>\n",
       "  <tbody>\n",
       "    <tr>\n",
       "      <th>0</th>\n",
       "      <td>FOLD</td>\n",
       "      <td>PICKUP TRUCK - STANDARD</td>\n",
       "      <td>3.5</td>\n",
       "      <td>6.0</td>\n",
       "      <td>A6</td>\n",
       "      <td>X</td>\n",
       "    </tr>\n",
       "    <tr>\n",
       "      <th>1</th>\n",
       "      <td>CHEVO</td>\n",
       "      <td>PICKUP TRUCK - STANDARD</td>\n",
       "      <td>5.3</td>\n",
       "      <td>8.0</td>\n",
       "      <td>A6</td>\n",
       "      <td>E</td>\n",
       "    </tr>\n",
       "    <tr>\n",
       "      <th>2</th>\n",
       "      <td>BMV</td>\n",
       "      <td>SUBCOMPACT</td>\n",
       "      <td>4.4</td>\n",
       "      <td>8.0</td>\n",
       "      <td>M6</td>\n",
       "      <td>Z</td>\n",
       "    </tr>\n",
       "    <tr>\n",
       "      <th>3</th>\n",
       "      <td>KIO</td>\n",
       "      <td>SUV - SMALL</td>\n",
       "      <td>2.0</td>\n",
       "      <td>4.0</td>\n",
       "      <td>AS6</td>\n",
       "      <td>X</td>\n",
       "    </tr>\n",
       "    <tr>\n",
       "      <th>4</th>\n",
       "      <td>BARUSU</td>\n",
       "      <td>MINICOMPACT</td>\n",
       "      <td>3.0</td>\n",
       "      <td>6.0</td>\n",
       "      <td>unspecified</td>\n",
       "      <td>Z</td>\n",
       "    </tr>\n",
       "  </tbody>\n",
       "</table>\n",
       "</div>"
      ],
      "text/plain": [
       "     Make            Vehicle Class  Engine Size(L)  Cylinders Transmission  \\\n",
       "0    FOLD  PICKUP TRUCK - STANDARD             3.5        6.0           A6   \n",
       "1   CHEVO  PICKUP TRUCK - STANDARD             5.3        8.0           A6   \n",
       "2     BMV               SUBCOMPACT             4.4        8.0           M6   \n",
       "3     KIO              SUV - SMALL             2.0        4.0          AS6   \n",
       "4  BARUSU              MINICOMPACT             3.0        6.0  unspecified   \n",
       "\n",
       "  Fuel Type  \n",
       "0         X  \n",
       "1         E  \n",
       "2         Z  \n",
       "3         X  \n",
       "4         Z  "
      ]
     },
     "execution_count": 33,
     "metadata": {},
     "output_type": "execute_result"
    }
   ],
   "source": [
    "#Create list of unique value of each categories\n",
    "\n",
    "unique_vclass = ['PICKUP TRUCK - STANDARD', 'SUBCOMPACT', 'SUV - SMALL',\n",
    "        'MINICOMPACT', 'COMPACT', 'FULL-SIZE', 'SUV - STANDARD', 'MINIVAN',\n",
    "        'STATION WAGON - SMALL', 'PICKUP TRUCK - SMALL',\n",
    "        'TWO-SEATER', 'STATION WAGON - MID-SIZE', 'MID-SIZE',\n",
    "        'SPECIAL PURPOSE VEHICLE', 'VAN - PASSENGER', 'VAN - CARGO']\n",
    "\n",
    "unique_make = ['FOLD', 'CHEVO', 'BMV', 'KIO', 'BARUSU', 'LECUS', 'GONDA',\n",
    "        'LAND CRAWLER', 'FOLKSWA', 'TOYOTI', 'JIPU', 'TOLVO', 'ASURA',\n",
    "        'NIRRAN', 'FIAR', 'DOGE', 'CADILUXE', 'MATSUDA', 'MITSU',\n",
    "        'RYUNDAI', 'LAMBOGI']\n",
    "\n",
    "unique_ftype = ['X', 'E', 'Z', 'D', 'N']\n",
    "\n",
    "unique_trans = ['A6', 'M6', 'AS6', 'AV7', 'AS8',\n",
    "        'A9', 'AV', 'AV8', 'M5', 'A8', 'AV6', 'AS10',\n",
    "        'AM7', 'A4', 'A5', 'AS7', 'AM6', 'AS5',\n",
    "        'na', 'AS9', '-1', 'AM9', 'AV10', 'AM8', 'M7',\n",
    "        'A10', 'A7']\n",
    "\n",
    "cat.head()"
   ]
  },
  {
   "cell_type": "code",
   "execution_count": 34,
   "id": "81ded946-aa97-4efd-96ee-60f9a088ff8e",
   "metadata": {},
   "outputs": [],
   "source": [
    "def encode_categorical(input, list):\n",
    "    if input in list:\n",
    "        return float(list.index(input))\n",
    "    else:\n",
    "        return -1.0"
   ]
  },
  {
   "cell_type": "code",
   "execution_count": 35,
   "id": "b2bcfa7c-4ad8-4a27-ad37-9b1c58a80699",
   "metadata": {},
   "outputs": [
    {
     "data": {
      "text/html": [
       "<div>\n",
       "<style scoped>\n",
       "    .dataframe tbody tr th:only-of-type {\n",
       "        vertical-align: middle;\n",
       "    }\n",
       "\n",
       "    .dataframe tbody tr th {\n",
       "        vertical-align: top;\n",
       "    }\n",
       "\n",
       "    .dataframe thead th {\n",
       "        text-align: right;\n",
       "    }\n",
       "</style>\n",
       "<table border=\"1\" class=\"dataframe\">\n",
       "  <thead>\n",
       "    <tr style=\"text-align: right;\">\n",
       "      <th></th>\n",
       "      <th>Make</th>\n",
       "      <th>Vehicle Class</th>\n",
       "      <th>Engine Size(L)</th>\n",
       "      <th>Cylinders</th>\n",
       "      <th>Transmission</th>\n",
       "      <th>Fuel Type</th>\n",
       "    </tr>\n",
       "  </thead>\n",
       "  <tbody>\n",
       "    <tr>\n",
       "      <th>0</th>\n",
       "      <td>0.0</td>\n",
       "      <td>0.0</td>\n",
       "      <td>3.5</td>\n",
       "      <td>6.0</td>\n",
       "      <td>0.0</td>\n",
       "      <td>0.0</td>\n",
       "    </tr>\n",
       "    <tr>\n",
       "      <th>1</th>\n",
       "      <td>1.0</td>\n",
       "      <td>0.0</td>\n",
       "      <td>5.3</td>\n",
       "      <td>8.0</td>\n",
       "      <td>0.0</td>\n",
       "      <td>1.0</td>\n",
       "    </tr>\n",
       "    <tr>\n",
       "      <th>2</th>\n",
       "      <td>2.0</td>\n",
       "      <td>1.0</td>\n",
       "      <td>4.4</td>\n",
       "      <td>8.0</td>\n",
       "      <td>1.0</td>\n",
       "      <td>2.0</td>\n",
       "    </tr>\n",
       "    <tr>\n",
       "      <th>3</th>\n",
       "      <td>3.0</td>\n",
       "      <td>2.0</td>\n",
       "      <td>2.0</td>\n",
       "      <td>4.0</td>\n",
       "      <td>2.0</td>\n",
       "      <td>0.0</td>\n",
       "    </tr>\n",
       "    <tr>\n",
       "      <th>4</th>\n",
       "      <td>4.0</td>\n",
       "      <td>3.0</td>\n",
       "      <td>3.0</td>\n",
       "      <td>6.0</td>\n",
       "      <td>-1.0</td>\n",
       "      <td>2.0</td>\n",
       "    </tr>\n",
       "  </tbody>\n",
       "</table>\n",
       "</div>"
      ],
      "text/plain": [
       "   Make  Vehicle Class  Engine Size(L)  Cylinders  Transmission  Fuel Type\n",
       "0   0.0            0.0             3.5        6.0           0.0        0.0\n",
       "1   1.0            0.0             5.3        8.0           0.0        1.0\n",
       "2   2.0            1.0             4.4        8.0           1.0        2.0\n",
       "3   3.0            2.0             2.0        4.0           2.0        0.0\n",
       "4   4.0            3.0             3.0        6.0          -1.0        2.0"
      ]
     },
     "execution_count": 35,
     "metadata": {},
     "output_type": "execute_result"
    }
   ],
   "source": [
    "cat['Vehicle Class'] = cat['Vehicle Class'].apply(lambda x: encode_categorical(x, unique_vclass))\n",
    "cat['Fuel Type'] = cat['Fuel Type'].apply(lambda x: encode_categorical(x, unique_ftype))\n",
    "cat['Make'] = cat['Make'].apply(lambda x: encode_categorical(x, unique_make))\n",
    "cat['Transmission'] = cat['Transmission'].apply(lambda x: encode_categorical(x, unique_trans))\n",
    "\n",
    "cat.head()"
   ]
  },
  {
   "cell_type": "code",
   "execution_count": 37,
   "id": "e12f11ee-dafa-49f9-ba82-a39ccacb3990",
   "metadata": {},
   "outputs": [
    {
     "data": {
      "text/plain": [
       "21"
      ]
     },
     "execution_count": 37,
     "metadata": {},
     "output_type": "execute_result"
    }
   ],
   "source": [
    "cat['Make'].nunique()"
   ]
  },
  {
   "cell_type": "code",
   "execution_count": 40,
   "id": "d918260e-8fff-4077-a32f-bc67a2a66c15",
   "metadata": {},
   "outputs": [],
   "source": [
    "df['Make'] = cat['Make']\n",
    "df['Vehicle Class'] = cat['Vehicle Class']\n",
    "df['Engine Size(L)'] = cat['Engine Size(L)']\n",
    "df['Transmission'] = cat['Transmission']\n",
    "df['Fuel Type'] = cat['Fuel Type']\n",
    "df['Cylinders'] = cat['Cylinders']"
   ]
  },
  {
   "cell_type": "code",
   "execution_count": 42,
   "id": "f4bac6f3-bddd-495e-b79a-fdcd5c9fe575",
   "metadata": {},
   "outputs": [
    {
     "data": {
      "text/plain": [
       "(   Id  Make  Vehicle Class  Engine Size(L)  Cylinders  Transmission  \\\n",
       " 0   1   0.0            0.0             3.5        6.0           0.0   \n",
       " 1   2   1.0            0.0             5.3        8.0           0.0   \n",
       " 2   3   2.0            1.0             4.4        8.0           1.0   \n",
       " 3   4   3.0            2.0             2.0        4.0           2.0   \n",
       " 4   5   4.0            3.0             3.0        6.0          -1.0   \n",
       " \n",
       "    Fuel Type    Fuel Consumption City     Fuel Consumption Hwy  \\\n",
       " 0        0.0   8.64 liters per 100 km            6.14 L/100 km   \n",
       " 1        1.0  27.27 liters per 100 km  30.76 liters per 100 km   \n",
       " 2        2.0              0.17 L/10km   2.03 liters per 100 km   \n",
       " 3        0.0            6.52 km per L              1.59 L/10km   \n",
       " 4        2.0            20.15 L/100km              0.60 L/10km   \n",
       " \n",
       "   Fuel Consumption Comb  CO2 Emissions(g/km)  \n",
       " 0        37.59 mpg Imp.                306.0  \n",
       " 1        28.84 L/100 km                283.0  \n",
       " 2                  zero                329.0  \n",
       " 3                   NaN                270.0  \n",
       " 4           1.38 L/10km                193.0  ,\n",
       " Id                          0\n",
       " Make                        0\n",
       " Vehicle Class               0\n",
       " Engine Size(L)              0\n",
       " Cylinders                   0\n",
       " Transmission                0\n",
       " Fuel Type                   0\n",
       " Fuel Consumption City    2422\n",
       " Fuel Consumption Hwy     2568\n",
       " Fuel Consumption Comb    2582\n",
       " CO2 Emissions(g/km)         0\n",
       " dtype: int64)"
      ]
     },
     "execution_count": 42,
     "metadata": {},
     "output_type": "execute_result"
    }
   ],
   "source": [
    "df.head(), df.isnull().sum()"
   ]
  },
  {
   "cell_type": "code",
   "execution_count": null,
   "id": "87fa24c6-1b80-4877-9f18-834e25636a7e",
   "metadata": {},
   "outputs": [],
   "source": []
  }
 ],
 "metadata": {
  "kernelspec": {
   "display_name": "Python 3 (ipykernel)",
   "language": "python",
   "name": "python3"
  },
  "language_info": {
   "codemirror_mode": {
    "name": "ipython",
    "version": 3
   },
   "file_extension": ".py",
   "mimetype": "text/x-python",
   "name": "python",
   "nbconvert_exporter": "python",
   "pygments_lexer": "ipython3",
   "version": "3.9.13"
  }
 },
 "nbformat": 4,
 "nbformat_minor": 5
}
