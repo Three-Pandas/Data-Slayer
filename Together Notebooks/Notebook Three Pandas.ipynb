{
 "cells": [
  {
   "cell_type": "markdown",
   "id": "d3ceae37-76a0-40ad-a5d3-5cb0de74bf44",
   "metadata": {},
   "source": [
    "# This Notebook is for submission, please provide neat comments and coherent structure of the code"
   ]
  },
  {
   "cell_type": "code",
   "execution_count": null,
   "id": "2484eb4b-32ba-4461-be2a-17c19a8ffbaa",
   "metadata": {},
   "outputs": [],
   "source": []
  }
 ],
 "metadata": {
  "kernelspec": {
   "display_name": "Python 3 (ipykernel)",
   "language": "python",
   "name": "python3"
  },
  "language_info": {
   "codemirror_mode": {
    "name": "ipython",
    "version": 3
   },
   "file_extension": ".py",
   "mimetype": "text/x-python",
   "name": "python",
   "nbconvert_exporter": "python",
   "pygments_lexer": "ipython3",
   "version": "3.9.13"
  }
 },
 "nbformat": 4,
 "nbformat_minor": 5
}
